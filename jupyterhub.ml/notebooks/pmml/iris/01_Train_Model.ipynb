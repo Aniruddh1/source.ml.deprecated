{
 "cells": [
  {
   "cell_type": "code",
   "execution_count": 1,
   "metadata": {},
   "outputs": [
    {
     "name": "stdout",
     "output_type": "stream",
     "text": [
      "--master local[1] --jars /root/lib/jpmml-sparkml-package-1.2-SNAPSHOT.jar  --py-files /root/lib/jpmml.py pyspark-shell\n"
     ]
    }
   ],
   "source": [
    "import os\n",
    "from __future__ import print_function\n",
    "\n",
    "master = '--master local[1]'\n",
    "#master = '--master spark://apachespark-master-2-1-0:7077'\n",
    "jars = '--jars /root/lib/jpmml-sparkml-package-1.2-SNAPSHOT.jar'\n",
    "#packages = '--packages org.jpmml:jpmml-sparkml:1.2.0'\n",
    "packages = ''\n",
    "py_files = '--py-files /root/lib/jpmml.py'\n",
    "\n",
    "os.environ['PYSPARK_SUBMIT_ARGS'] = master \\\n",
    "  + ' ' + jars \\\n",
    "  + ' ' + packages \\\n",
    "  + ' ' + py_files \\\n",
    "  + ' ' + 'pyspark-shell'\n",
    "\n",
    "print(os.environ['PYSPARK_SUBMIT_ARGS'])"
   ]
  },
  {
   "cell_type": "code",
   "execution_count": 2,
   "metadata": {},
   "outputs": [],
   "source": [
    "from py4j.java_gateway import JavaObject\n",
    "from pyspark.ml import Pipeline\n",
    "\n",
    "from pyspark import SparkConf, SparkContext\n",
    "from pyspark.sql import SQLContext\n",
    "from pyspark.ml.feature import VectorAssembler\n",
    "\n",
    "sc = SparkContext.getOrCreate()\n",
    "sqlContext = SQLContext(sc)"
   ]
  },
  {
   "cell_type": "code",
   "execution_count": 3,
   "metadata": {},
   "outputs": [
    {
     "name": "stdout",
     "output_type": "stream",
     "text": [
      "root\n",
      " |-- sepal_length(cm): double (nullable = true)\n",
      " |-- sepal_width(cm): double (nullable = true)\n",
      " |-- petal_length(cm): double (nullable = true)\n",
      " |-- petal_width(cm): double (nullable = true)\n",
      " |-- species: long (nullable = true)\n",
      "\n",
      "+----------------+---------------+----------------+---------------+-------+\n",
      "|sepal_length(cm)|sepal_width(cm)|petal_length(cm)|petal_width(cm)|species|\n",
      "+----------------+---------------+----------------+---------------+-------+\n",
      "|             5.1|            3.5|             1.4|            0.2|      0|\n",
      "|             4.9|            3.0|             1.4|            0.2|      0|\n",
      "|             4.7|            3.2|             1.3|            0.2|      0|\n",
      "|             4.6|            3.1|             1.5|            0.2|      0|\n",
      "|             5.0|            3.6|             1.4|            0.2|      0|\n",
      "+----------------+---------------+----------------+---------------+-------+\n",
      "only showing top 5 rows\n",
      "\n"
     ]
    },
    {
     "data": {
      "text/plain": [
       "51"
      ]
     },
     "execution_count": 3,
     "metadata": {},
     "output_type": "execute_result"
    }
   ],
   "source": [
    "import pandas as pd\n",
    "from sklearn import datasets\n",
    "iris = datasets.load_iris()\n",
    "\n",
    "df = pd.DataFrame(iris.data, columns=iris.feature_names)\n",
    "\n",
    "df['species'] = pd.Categorical.from_codes(iris.target, iris.target_names)\n",
    "df['species'] = pd.factorize(df['species'])[0]\n",
    "df.columns = [\"sepal_length(cm)\", \"sepal_width(cm)\",\n",
    "                                        \"petal_length(cm)\",\n",
    "\"petal_width(cm)\", \"species\"]\n",
    "\n",
    "dfiris = sqlContext.createDataFrame(df)\n",
    "\n",
    "dfiris.printSchema()\n",
    "\n",
    "dfiris.show(5)\n",
    "\n",
    "train, test = dfiris.randomSplit([0.7, 0.3])\n",
    "\n",
    "train.count()\n",
    "test.count()"
   ]
  },
  {
   "cell_type": "code",
   "execution_count": 4,
   "metadata": {},
   "outputs": [
    {
     "name": "stdout",
     "output_type": "stream",
     "text": [
      "PipelineModel_47c58505cc1cd0650d92\n"
     ]
    }
   ],
   "source": [
    "from pyspark.ml.classification import LogisticRegression\n",
    "\n",
    "from pyspark.ml import Pipeline\n",
    "\n",
    "assembler = VectorAssembler(inputCols=[\"sepal_length(cm)\",\n",
    "\"sepal_width(cm)\",\n",
    "                                        \"petal_length(cm)\",\n",
    "\"petal_width(cm)\"], outputCol=\"features\")\n",
    "\n",
    "lr = LogisticRegression(featuresCol='features', labelCol='species')\n",
    "\n",
    "pipeline = Pipeline(stages=[assembler, lr])\n",
    "\n",
    "lr_model = pipeline.fit(train)\n",
    "\n",
    "print(lr_model)"
   ]
  },
  {
   "cell_type": "code",
   "execution_count": 5,
   "metadata": {},
   "outputs": [
    {
     "name": "stdout",
     "output_type": "stream",
     "text": [
      "+-------+----------+\n",
      "|species|prediction|\n",
      "+-------+----------+\n",
      "|      0|       0.0|\n",
      "|      0|       0.0|\n",
      "|      0|       0.0|\n",
      "|      0|       0.0|\n",
      "|      2|       2.0|\n",
      "|      0|       0.0|\n",
      "|      0|       0.0|\n",
      "|      1|       1.0|\n",
      "|      0|       0.0|\n",
      "|      0|       0.0|\n",
      "|      0|       0.0|\n",
      "|      1|       1.0|\n",
      "|      0|       0.0|\n",
      "|      0|       0.0|\n",
      "|      1|       1.0|\n",
      "|      0|       0.0|\n",
      "|      1|       1.0|\n",
      "|      0|       0.0|\n",
      "|      1|       1.0|\n",
      "|      1|       1.0|\n",
      "|      1|       1.0|\n",
      "|      0|       0.0|\n",
      "|      0|       0.0|\n",
      "|      1|       1.0|\n",
      "|      1|       1.0|\n",
      "|      2|       2.0|\n",
      "|      2|       2.0|\n",
      "|      1|       1.0|\n",
      "|      2|       2.0|\n",
      "|      1|       2.0|\n",
      "|      1|       1.0|\n",
      "|      1|       1.0|\n",
      "|      2|       1.0|\n",
      "|      2|       2.0|\n",
      "|      1|       1.0|\n",
      "|      2|       2.0|\n",
      "|      2|       2.0|\n",
      "|      2|       2.0|\n",
      "|      1|       1.0|\n",
      "|      1|       1.0|\n",
      "|      1|       1.0|\n",
      "|      2|       2.0|\n",
      "|      2|       2.0|\n",
      "|      1|       1.0|\n",
      "|      1|       1.0|\n",
      "|      2|       2.0|\n",
      "|      2|       2.0|\n",
      "|      2|       2.0|\n",
      "|      2|       2.0|\n",
      "|      2|       2.0|\n",
      "|      2|       2.0|\n",
      "+-------+----------+\n",
      "\n",
      "+----------------+---------------+----------------+---------------+-------+-----------------+--------------------+--------------------+----------+\n",
      "|sepal_length(cm)|sepal_width(cm)|petal_length(cm)|petal_width(cm)|species|         features|       rawPrediction|         probability|prediction|\n",
      "+----------------+---------------+----------------+---------------+-------+-----------------+--------------------+--------------------+----------+\n",
      "|             4.4|            3.0|             1.3|            0.2|      0|[4.4,3.0,1.3,0.2]|[4347.40472570411...|       [1.0,0.0,0.0]|       0.0|\n",
      "|             4.6|            3.1|             1.5|            0.2|      0|[4.6,3.1,1.5,0.2]|[4351.83249310495...|       [1.0,0.0,0.0]|       0.0|\n",
      "|             4.6|            3.2|             1.4|            0.2|      0|[4.6,3.2,1.4,0.2]|[4721.26755814135...|       [1.0,0.0,0.0]|       0.0|\n",
      "|             4.8|            3.1|             1.6|            0.2|      0|[4.8,3.1,1.6,0.2]|[4120.84222335006...|       [1.0,0.0,0.0]|       0.0|\n",
      "|             4.9|            2.5|             4.5|            1.7|      2|[4.9,2.5,4.5,1.7]|[-1980.9663576793...|[0.0,6.5857513617...|       2.0|\n",
      "+----------------+---------------+----------------+---------------+-------+-----------------+--------------------+--------------------+----------+\n",
      "only showing top 5 rows\n",
      "\n"
     ]
    }
   ],
   "source": [
    "prediction_lr = lr_model.transform(test)\n",
    "\n",
    "score_lr = prediction_lr.select(['species', 'prediction'])\n",
    "score_lr.show(n=score_lr.count())\n",
    "\n",
    "prediction_lr.show(5)"
   ]
  },
  {
   "cell_type": "code",
   "execution_count": 6,
   "metadata": {},
   "outputs": [
    {
     "ename": "Py4JJavaError",
     "evalue": "An error occurred while calling z:org.jpmml.sparkml.ConverterUtil.toPMMLByteArray.\n: java.lang.IllegalArgumentException\n\tat org.jpmml.sparkml.model.LogisticRegressionModelConverter.encodeModel(LogisticRegressionModelConverter.java:55)\n\tat org.jpmml.sparkml.model.LogisticRegressionModelConverter.encodeModel(LogisticRegressionModelConverter.java:39)\n\tat org.jpmml.sparkml.ConverterUtil.toPMML(ConverterUtil.java:85)\n\tat org.jpmml.sparkml.ConverterUtil.toPMMLByteArray(ConverterUtil.java:180)\n\tat sun.reflect.NativeMethodAccessorImpl.invoke0(Native Method)\n\tat sun.reflect.NativeMethodAccessorImpl.invoke(NativeMethodAccessorImpl.java:62)\n\tat sun.reflect.DelegatingMethodAccessorImpl.invoke(DelegatingMethodAccessorImpl.java:43)\n\tat java.lang.reflect.Method.invoke(Method.java:498)\n\tat py4j.reflection.MethodInvoker.invoke(MethodInvoker.java:244)\n\tat py4j.reflection.ReflectionEngine.invoke(ReflectionEngine.java:357)\n\tat py4j.Gateway.invoke(Gateway.java:280)\n\tat py4j.commands.AbstractCommand.invokeMethod(AbstractCommand.java:132)\n\tat py4j.commands.CallCommand.execute(CallCommand.java:79)\n\tat py4j.GatewayConnection.run(GatewayConnection.java:214)\n\tat java.lang.Thread.run(Thread.java:745)\n",
     "output_type": "error",
     "traceback": [
      "\u001b[0;31m---------------------------------------------------------------------------\u001b[0m",
      "\u001b[0;31mPy4JJavaError\u001b[0m                             Traceback (most recent call last)",
      "\u001b[0;32m<ipython-input-6-53adeea76660>\u001b[0m in \u001b[0;36m<module>\u001b[0;34m()\u001b[0m\n\u001b[1;32m      1\u001b[0m \u001b[0;32mfrom\u001b[0m \u001b[0mjpmml\u001b[0m \u001b[0;32mimport\u001b[0m \u001b[0mtoPMMLBytes\u001b[0m\u001b[0;34m\u001b[0m\u001b[0m\n\u001b[1;32m      2\u001b[0m \u001b[0;34m\u001b[0m\u001b[0m\n\u001b[0;32m----> 3\u001b[0;31m \u001b[0mpmmlBytes\u001b[0m \u001b[0;34m=\u001b[0m \u001b[0mtoPMMLBytes\u001b[0m\u001b[0;34m(\u001b[0m\u001b[0msc\u001b[0m\u001b[0;34m,\u001b[0m \u001b[0mtrain\u001b[0m\u001b[0;34m,\u001b[0m \u001b[0mlr_model\u001b[0m\u001b[0;34m)\u001b[0m\u001b[0;34m\u001b[0m\u001b[0m\n\u001b[0m\u001b[1;32m      4\u001b[0m \u001b[0mprint\u001b[0m\u001b[0;34m(\u001b[0m\u001b[0mpmmlBytes\u001b[0m\u001b[0;34m.\u001b[0m\u001b[0mdecode\u001b[0m\u001b[0;34m(\u001b[0m\u001b[0;34m\"UTF-8\"\u001b[0m\u001b[0;34m)\u001b[0m\u001b[0;34m)\u001b[0m\u001b[0;34m\u001b[0m\u001b[0m\n",
      "\u001b[0;32m/tmp/spark-28ecefee-684f-4136-8364-82e86b97a4b0/userFiles-6fe9c836-b15e-4880-bf62-0ae22fae9ec4/jpmml.py\u001b[0m in \u001b[0;36mtoPMMLBytes\u001b[0;34m(sc, data, pipelineModel)\u001b[0m\n\u001b[1;32m      5\u001b[0m         \u001b[0mjavaSchema\u001b[0m \u001b[0;34m=\u001b[0m \u001b[0mjavaData\u001b[0m\u001b[0;34m.\u001b[0m\u001b[0mschema\u001b[0m\u001b[0;34m.\u001b[0m\u001b[0m__call__\u001b[0m\u001b[0;34m(\u001b[0m\u001b[0;34m)\u001b[0m\u001b[0;34m\u001b[0m\u001b[0m\n\u001b[1;32m      6\u001b[0m         \u001b[0mjavaPipelineModel\u001b[0m \u001b[0;34m=\u001b[0m \u001b[0mpipelineModel\u001b[0m\u001b[0;34m.\u001b[0m\u001b[0m_to_java\u001b[0m\u001b[0;34m(\u001b[0m\u001b[0;34m)\u001b[0m\u001b[0;34m\u001b[0m\u001b[0m\n\u001b[0;32m----> 7\u001b[0;31m         \u001b[0;32mreturn\u001b[0m \u001b[0msc\u001b[0m\u001b[0;34m.\u001b[0m\u001b[0m_jvm\u001b[0m\u001b[0;34m.\u001b[0m\u001b[0morg\u001b[0m\u001b[0;34m.\u001b[0m\u001b[0mjpmml\u001b[0m\u001b[0;34m.\u001b[0m\u001b[0msparkml\u001b[0m\u001b[0;34m.\u001b[0m\u001b[0mConverterUtil\u001b[0m\u001b[0;34m.\u001b[0m\u001b[0mtoPMMLByteArray\u001b[0m\u001b[0;34m(\u001b[0m\u001b[0mjavaSchema\u001b[0m\u001b[0;34m,\u001b[0m \u001b[0mjavaPipelineModel\u001b[0m\u001b[0;34m)\u001b[0m\u001b[0;34m\u001b[0m\u001b[0m\n\u001b[0m",
      "\u001b[0;32m/root/spark-2.1.0-bin-fluxcapacitor/python/lib/py4j-0.10.4-src.zip/py4j/java_gateway.py\u001b[0m in \u001b[0;36m__call__\u001b[0;34m(self, *args)\u001b[0m\n\u001b[1;32m   1131\u001b[0m         \u001b[0manswer\u001b[0m \u001b[0;34m=\u001b[0m \u001b[0mself\u001b[0m\u001b[0;34m.\u001b[0m\u001b[0mgateway_client\u001b[0m\u001b[0;34m.\u001b[0m\u001b[0msend_command\u001b[0m\u001b[0;34m(\u001b[0m\u001b[0mcommand\u001b[0m\u001b[0;34m)\u001b[0m\u001b[0;34m\u001b[0m\u001b[0m\n\u001b[1;32m   1132\u001b[0m         return_value = get_return_value(\n\u001b[0;32m-> 1133\u001b[0;31m             answer, self.gateway_client, self.target_id, self.name)\n\u001b[0m\u001b[1;32m   1134\u001b[0m \u001b[0;34m\u001b[0m\u001b[0m\n\u001b[1;32m   1135\u001b[0m         \u001b[0;32mfor\u001b[0m \u001b[0mtemp_arg\u001b[0m \u001b[0;32min\u001b[0m \u001b[0mtemp_args\u001b[0m\u001b[0;34m:\u001b[0m\u001b[0;34m\u001b[0m\u001b[0m\n",
      "\u001b[0;32m/root/spark-2.1.0-bin-fluxcapacitor/python/pyspark/sql/utils.py\u001b[0m in \u001b[0;36mdeco\u001b[0;34m(*a, **kw)\u001b[0m\n\u001b[1;32m     61\u001b[0m     \u001b[0;32mdef\u001b[0m \u001b[0mdeco\u001b[0m\u001b[0;34m(\u001b[0m\u001b[0;34m*\u001b[0m\u001b[0ma\u001b[0m\u001b[0;34m,\u001b[0m \u001b[0;34m**\u001b[0m\u001b[0mkw\u001b[0m\u001b[0;34m)\u001b[0m\u001b[0;34m:\u001b[0m\u001b[0;34m\u001b[0m\u001b[0m\n\u001b[1;32m     62\u001b[0m         \u001b[0;32mtry\u001b[0m\u001b[0;34m:\u001b[0m\u001b[0;34m\u001b[0m\u001b[0m\n\u001b[0;32m---> 63\u001b[0;31m             \u001b[0;32mreturn\u001b[0m \u001b[0mf\u001b[0m\u001b[0;34m(\u001b[0m\u001b[0;34m*\u001b[0m\u001b[0ma\u001b[0m\u001b[0;34m,\u001b[0m \u001b[0;34m**\u001b[0m\u001b[0mkw\u001b[0m\u001b[0;34m)\u001b[0m\u001b[0;34m\u001b[0m\u001b[0m\n\u001b[0m\u001b[1;32m     64\u001b[0m         \u001b[0;32mexcept\u001b[0m \u001b[0mpy4j\u001b[0m\u001b[0;34m.\u001b[0m\u001b[0mprotocol\u001b[0m\u001b[0;34m.\u001b[0m\u001b[0mPy4JJavaError\u001b[0m \u001b[0;32mas\u001b[0m \u001b[0me\u001b[0m\u001b[0;34m:\u001b[0m\u001b[0;34m\u001b[0m\u001b[0m\n\u001b[1;32m     65\u001b[0m             \u001b[0ms\u001b[0m \u001b[0;34m=\u001b[0m \u001b[0me\u001b[0m\u001b[0;34m.\u001b[0m\u001b[0mjava_exception\u001b[0m\u001b[0;34m.\u001b[0m\u001b[0mtoString\u001b[0m\u001b[0;34m(\u001b[0m\u001b[0;34m)\u001b[0m\u001b[0;34m\u001b[0m\u001b[0m\n",
      "\u001b[0;32m/root/spark-2.1.0-bin-fluxcapacitor/python/lib/py4j-0.10.4-src.zip/py4j/protocol.py\u001b[0m in \u001b[0;36mget_return_value\u001b[0;34m(answer, gateway_client, target_id, name)\u001b[0m\n\u001b[1;32m    317\u001b[0m                 raise Py4JJavaError(\n\u001b[1;32m    318\u001b[0m                     \u001b[0;34m\"An error occurred while calling {0}{1}{2}.\\n\"\u001b[0m\u001b[0;34m.\u001b[0m\u001b[0;34m\u001b[0m\u001b[0m\n\u001b[0;32m--> 319\u001b[0;31m                     format(target_id, \".\", name), value)\n\u001b[0m\u001b[1;32m    320\u001b[0m             \u001b[0;32melse\u001b[0m\u001b[0;34m:\u001b[0m\u001b[0;34m\u001b[0m\u001b[0m\n\u001b[1;32m    321\u001b[0m                 raise Py4JError(\n",
      "\u001b[0;31mPy4JJavaError\u001b[0m: An error occurred while calling z:org.jpmml.sparkml.ConverterUtil.toPMMLByteArray.\n: java.lang.IllegalArgumentException\n\tat org.jpmml.sparkml.model.LogisticRegressionModelConverter.encodeModel(LogisticRegressionModelConverter.java:55)\n\tat org.jpmml.sparkml.model.LogisticRegressionModelConverter.encodeModel(LogisticRegressionModelConverter.java:39)\n\tat org.jpmml.sparkml.ConverterUtil.toPMML(ConverterUtil.java:85)\n\tat org.jpmml.sparkml.ConverterUtil.toPMMLByteArray(ConverterUtil.java:180)\n\tat sun.reflect.NativeMethodAccessorImpl.invoke0(Native Method)\n\tat sun.reflect.NativeMethodAccessorImpl.invoke(NativeMethodAccessorImpl.java:62)\n\tat sun.reflect.DelegatingMethodAccessorImpl.invoke(DelegatingMethodAccessorImpl.java:43)\n\tat java.lang.reflect.Method.invoke(Method.java:498)\n\tat py4j.reflection.MethodInvoker.invoke(MethodInvoker.java:244)\n\tat py4j.reflection.ReflectionEngine.invoke(ReflectionEngine.java:357)\n\tat py4j.Gateway.invoke(Gateway.java:280)\n\tat py4j.commands.AbstractCommand.invokeMethod(AbstractCommand.java:132)\n\tat py4j.commands.CallCommand.execute(CallCommand.java:79)\n\tat py4j.GatewayConnection.run(GatewayConnection.java:214)\n\tat java.lang.Thread.run(Thread.java:745)\n"
     ]
    }
   ],
   "source": [
    "from jpmml import toPMMLBytes\n",
    "\n",
    "pmmlBytes = toPMMLBytes(sc, train, lr_model)\n",
    "print(pmmlBytes.decode(\"UTF-8\"))"
   ]
  },
  {
   "cell_type": "code",
   "execution_count": null,
   "metadata": {},
   "outputs": [],
   "source": []
  },
  {
   "cell_type": "code",
   "execution_count": null,
   "metadata": {},
   "outputs": [],
   "source": []
  }
 ],
 "metadata": {
  "kernelspec": {
   "display_name": "Python [default]",
   "language": "python",
   "name": "python3"
  },
  "language_info": {
   "codemirror_mode": {
    "name": "ipython",
    "version": 3
   },
   "file_extension": ".py",
   "mimetype": "text/x-python",
   "name": "python",
   "nbconvert_exporter": "python",
   "pygments_lexer": "ipython3",
   "version": "3.5.3"
  }
 },
 "nbformat": 4,
 "nbformat_minor": 2
}
