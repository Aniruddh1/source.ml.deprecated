{
 "cells": [
  {
   "cell_type": "code",
   "execution_count": null,
   "metadata": {},
   "outputs": [],
   "source": [
    "import os\n",
    "from __future__ import print_function\n",
    "\n",
    "master = '--master local[1]'\n",
    "#master = '--master spark://apachespark-master-2-1-0:7077'\n",
    "#jars = '--jars /root/lib/jpmml-sparkml-1.2-SNAPSHOT.jar'\n",
    "jars = ''\n",
    "packages = '--packages org.jpmml:jpmml-sparkml:1.2.2'\n",
    "\n",
    "py_files = '--py-files /root/lib/jpmml.py'\n",
    "\n",
    "os.environ['PYSPARK_SUBMIT_ARGS'] = master \\\n",
    "  + ' ' + jars \\\n",
    "  + ' ' + packages \\\n",
    "  + ' ' + py_files \\\n",
    "  + ' ' + 'pyspark-shell'\n",
    "\n",
    "print(os.environ['PYSPARK_SUBMIT_ARGS'])"
   ]
  },
  {
   "cell_type": "code",
   "execution_count": null,
   "metadata": {
    "collapsed": true
   },
   "outputs": [],
   "source": [
    "from pyspark.ml import Pipeline\n",
    "\n",
    "from pyspark import SparkConf, SparkContext\n",
    "from pyspark.sql import SQLContext\n",
    "from pyspark.ml.feature import VectorAssembler\n"
   ]
  },
  {
   "cell_type": "code",
   "execution_count": null,
   "metadata": {
    "collapsed": true
   },
   "outputs": [],
   "source": [
    "sc = SparkContext.getOrCreate()\n",
    "sqlContext = SQLContext(sc)"
   ]
  },
  {
   "cell_type": "code",
   "execution_count": 14,
   "metadata": {},
   "outputs": [
    {
     "name": "stdout",
     "output_type": "stream",
     "text": [
      "root\n",
      " |-- sepal_length(cm): double (nullable = true)\n",
      " |-- sepal_width(cm): double (nullable = true)\n",
      " |-- petal_length(cm): double (nullable = true)\n",
      " |-- petal_width(cm): double (nullable = true)\n",
      " |-- species: long (nullable = true)\n",
      "\n",
      "+----------------+---------------+----------------+---------------+-------+\n",
      "|sepal_length(cm)|sepal_width(cm)|petal_length(cm)|petal_width(cm)|species|\n",
      "+----------------+---------------+----------------+---------------+-------+\n",
      "|             5.1|            3.5|             1.4|            0.2|      0|\n",
      "|             4.9|            3.0|             1.4|            0.2|      0|\n",
      "|             4.7|            3.2|             1.3|            0.2|      0|\n",
      "|             4.6|            3.1|             1.5|            0.2|      0|\n",
      "|             5.0|            3.6|             1.4|            0.2|      0|\n",
      "+----------------+---------------+----------------+---------------+-------+\n",
      "only showing top 5 rows\n",
      "\n"
     ]
    },
    {
     "data": {
      "text/plain": [
       "41"
      ]
     },
     "execution_count": 14,
     "metadata": {},
     "output_type": "execute_result"
    }
   ],
   "source": [
    "import pandas as pd\n",
    "from sklearn import datasets\n",
    "iris = datasets.load_iris()\n",
    "\n",
    "df = pd.DataFrame(iris.data, columns=iris.feature_names)\n",
    "\n",
    "df['species'] = pd.Categorical.from_codes(iris.target, iris.target_names)\n",
    "df['species'] = pd.factorize(df['species'])[0]\n",
    "\n",
    "df.columns = [\"sepal_length(cm)\", \\\n",
    "              \"sepal_width(cm)\", \\\n",
    "              \"petal_length(cm)\", \\\n",
    "              \"petal_width(cm)\", \\\n",
    "              \"species\"]\n",
    "\n",
    "df_iris = sqlContext.createDataFrame(df)\n",
    "\n",
    "df_iris.printSchema()\n",
    "\n",
    "df_iris.show(5)\n",
    "\n",
    "#train = df_iris\n",
    "\n",
    "train, test = df_iris.randomSplit([0.7, 0.3])\n",
    "\n",
    "train.count()\n",
    "test.count()"
   ]
  },
  {
   "cell_type": "code",
   "execution_count": 15,
   "metadata": {},
   "outputs": [
    {
     "name": "stdout",
     "output_type": "stream",
     "text": [
      "PipelineModel_4bc0bfdd3457eb10f265\n"
     ]
    }
   ],
   "source": [
    "from pyspark.ml.classification import LogisticRegression\n",
    "\n",
    "from pyspark.ml import Pipeline\n",
    "\n",
    "assembler = VectorAssembler(inputCols=[\"sepal_length(cm)\", \\\n",
    "                                       \"sepal_width(cm)\", \\\n",
    "                                       \"petal_length(cm)\", \\\n",
    "                                       \"petal_width(cm)\"], \n",
    "                            outputCol=\"features\")\n",
    "\n",
    "lr = LogisticRegression(featuresCol='features', labelCol='species')\n",
    "\n",
    "pipeline = Pipeline(stages=[assembler, lr])\n",
    "\n",
    "pipeline_model = pipeline.fit(train)\n",
    "\n",
    "print(pipeline_model)"
   ]
  },
  {
   "cell_type": "code",
   "execution_count": 16,
   "metadata": {},
   "outputs": [
    {
     "name": "stdout",
     "output_type": "stream",
     "text": [
      "3\n"
     ]
    }
   ],
   "source": [
    "lr_model = pipeline_model.stages[1]\n",
    "print(lr_model.numClasses)"
   ]
  },
  {
   "cell_type": "code",
   "execution_count": 17,
   "metadata": {},
   "outputs": [
    {
     "data": {
      "text/plain": [
       "StructType(List(StructField(sepal_length(cm),DoubleType,true),StructField(sepal_width(cm),DoubleType,true),StructField(petal_length(cm),DoubleType,true),StructField(petal_width(cm),DoubleType,true),StructField(species,LongType,true)))"
      ]
     },
     "execution_count": 17,
     "metadata": {},
     "output_type": "execute_result"
    }
   ],
   "source": [
    "train.schema"
   ]
  },
  {
   "cell_type": "code",
   "execution_count": 18,
   "metadata": {},
   "outputs": [
    {
     "name": "stdout",
     "output_type": "stream",
     "text": [
      "+-------+----------+\n",
      "|species|prediction|\n",
      "+-------+----------+\n",
      "|      0|       0.0|\n",
      "|      0|       0.0|\n",
      "|      1|       1.0|\n",
      "|      1|       1.0|\n",
      "|      0|       0.0|\n",
      "|      0|       0.0|\n",
      "|      0|       0.0|\n",
      "|      0|       0.0|\n",
      "|      0|       0.0|\n",
      "|      0|       0.0|\n",
      "|      1|       1.0|\n",
      "|      1|       1.0|\n",
      "|      1|       1.0|\n",
      "|      1|       1.0|\n",
      "|      2|       2.0|\n",
      "|      1|       1.0|\n",
      "|      1|       1.0|\n",
      "|      2|       2.0|\n",
      "|      1|       1.0|\n",
      "|      2|       2.0|\n",
      "|      1|       1.0|\n",
      "|      1|       1.0|\n",
      "|      2|       2.0|\n",
      "|      1|       1.0|\n",
      "|      1|       1.0|\n",
      "|      2|       2.0|\n",
      "|      1|       1.0|\n",
      "|      1|       1.0|\n",
      "|      1|       1.0|\n",
      "|      2|       2.0|\n",
      "|      1|       1.0|\n",
      "|      1|       2.0|\n",
      "|      2|       2.0|\n",
      "|      2|       2.0|\n",
      "|      1|       1.0|\n",
      "|      2|       2.0|\n",
      "|      2|       2.0|\n",
      "|      2|       2.0|\n",
      "|      2|       2.0|\n",
      "|      2|       2.0|\n",
      "|      2|       2.0|\n",
      "+-------+----------+\n",
      "\n",
      "+----------------+---------------+----------------+---------------+-------+-----------------+--------------------+--------------------+----------+\n",
      "|sepal_length(cm)|sepal_width(cm)|petal_length(cm)|petal_width(cm)|species|         features|       rawPrediction|         probability|prediction|\n",
      "+----------------+---------------+----------------+---------------+-------+-----------------+--------------------+--------------------+----------+\n",
      "|             4.6|            3.6|             1.0|            0.2|      0|[4.6,3.6,1.0,0.2]|[82.9162134946338...|[1.0,2.4095120991...|       0.0|\n",
      "|             4.8|            3.0|             1.4|            0.1|      0|[4.8,3.0,1.4,0.1]|[54.9240794064806...|[1.0,4.2974534116...|       0.0|\n",
      "|             4.9|            2.4|             3.3|            1.0|      1|[4.9,2.4,3.3,1.0]|[-11.976701411566...|[2.49713449574453...|       1.0|\n",
      "|             5.0|            2.3|             3.3|            1.0|      1|[5.0,2.3,3.3,1.0]|[-17.047031724199...|[1.51686091833648...|       1.0|\n",
      "|             5.0|            3.0|             1.6|            0.2|      0|[5.0,3.0,1.6,0.2]|[48.3138363484409...|[1.0,2.2519692543...|       0.0|\n",
      "+----------------+---------------+----------------+---------------+-------+-----------------+--------------------+--------------------+----------+\n",
      "only showing top 5 rows\n",
      "\n"
     ]
    }
   ],
   "source": [
    "prediction_lr = pipeline_model.transform(test)\n",
    "\n",
    "score_lr = prediction_lr.select(['species', 'prediction'])\n",
    "score_lr.show(n=score_lr.count())\n",
    "\n",
    "prediction_lr.show(5)"
   ]
  },
  {
   "cell_type": "code",
   "execution_count": 19,
   "metadata": {
    "collapsed": true
   },
   "outputs": [],
   "source": [
    "from jpmml import toPMMLBytes"
   ]
  },
  {
   "cell_type": "code",
   "execution_count": 21,
   "metadata": {},
   "outputs": [
    {
     "ename": "Py4JJavaError",
     "evalue": "An error occurred while calling z:org.jpmml.sparkml.ConverterUtil.toPMMLByteArray.\n: java.lang.NoSuchMethodError: org.dmg.pmml.OutputField.<init>(Lorg/dmg/pmml/FieldName;Lorg/dmg/pmml/DataType;)V\n\tat org.jpmml.converter.ModelUtil.createPredictedField(ModelUtil.java:194)\n\tat org.jpmml.sparkml.ClassificationModelConverter.encodeOutput(ClassificationModelConverter.java:76)\n\tat org.jpmml.sparkml.ModelConverter.registerModel(ModelConverter.java:165)\n\tat org.jpmml.sparkml.ConverterUtil.toPMML(ConverterUtil.java:76)\n\tat org.jpmml.sparkml.ConverterUtil.toPMMLByteArray(ConverterUtil.java:132)\n\tat sun.reflect.NativeMethodAccessorImpl.invoke0(Native Method)\n\tat sun.reflect.NativeMethodAccessorImpl.invoke(NativeMethodAccessorImpl.java:62)\n\tat sun.reflect.DelegatingMethodAccessorImpl.invoke(DelegatingMethodAccessorImpl.java:43)\n\tat java.lang.reflect.Method.invoke(Method.java:498)\n\tat py4j.reflection.MethodInvoker.invoke(MethodInvoker.java:244)\n\tat py4j.reflection.ReflectionEngine.invoke(ReflectionEngine.java:357)\n\tat py4j.Gateway.invoke(Gateway.java:280)\n\tat py4j.commands.AbstractCommand.invokeMethod(AbstractCommand.java:132)\n\tat py4j.commands.CallCommand.execute(CallCommand.java:79)\n\tat py4j.GatewayConnection.run(GatewayConnection.java:214)\n\tat java.lang.Thread.run(Thread.java:748)\n",
     "output_type": "error",
     "traceback": [
      "\u001b[0;31m---------------------------------------------------------------------------\u001b[0m",
      "\u001b[0;31mPy4JJavaError\u001b[0m                             Traceback (most recent call last)",
      "\u001b[0;32m<ipython-input-21-727c0333ca7f>\u001b[0m in \u001b[0;36m<module>\u001b[0;34m()\u001b[0m\n\u001b[0;32m----> 1\u001b[0;31m \u001b[0mpmmlBytes\u001b[0m \u001b[0;34m=\u001b[0m \u001b[0mtoPMMLBytes\u001b[0m\u001b[0;34m(\u001b[0m\u001b[0msc\u001b[0m\u001b[0;34m,\u001b[0m \u001b[0mtrain\u001b[0m\u001b[0;34m,\u001b[0m \u001b[0mpipeline_model\u001b[0m\u001b[0;34m)\u001b[0m\u001b[0;34m\u001b[0m\u001b[0m\n\u001b[0m\u001b[1;32m      2\u001b[0m \u001b[0mprint\u001b[0m\u001b[0;34m(\u001b[0m\u001b[0mpmmlBytes\u001b[0m\u001b[0;34m.\u001b[0m\u001b[0mdecode\u001b[0m\u001b[0;34m(\u001b[0m\u001b[0;34m\"UTF-8\"\u001b[0m\u001b[0;34m)\u001b[0m\u001b[0;34m)\u001b[0m\u001b[0;34m\u001b[0m\u001b[0m\n",
      "\u001b[0;32m/tmp/spark-4d0d77de-3d27-4505-a3a6-dcd9162de031/userFiles-c4cb5587-5934-45f5-9cea-98843fc7aa94/jpmml.py\u001b[0m in \u001b[0;36mtoPMMLBytes\u001b[0;34m(sc, data, pipelineModel)\u001b[0m\n\u001b[1;32m      5\u001b[0m         \u001b[0mjavaSchema\u001b[0m \u001b[0;34m=\u001b[0m \u001b[0mjavaData\u001b[0m\u001b[0;34m.\u001b[0m\u001b[0mschema\u001b[0m\u001b[0;34m.\u001b[0m\u001b[0m__call__\u001b[0m\u001b[0;34m(\u001b[0m\u001b[0;34m)\u001b[0m\u001b[0;34m\u001b[0m\u001b[0m\n\u001b[1;32m      6\u001b[0m         \u001b[0mjavaPipelineModel\u001b[0m \u001b[0;34m=\u001b[0m \u001b[0mpipelineModel\u001b[0m\u001b[0;34m.\u001b[0m\u001b[0m_to_java\u001b[0m\u001b[0;34m(\u001b[0m\u001b[0;34m)\u001b[0m\u001b[0;34m\u001b[0m\u001b[0m\n\u001b[0;32m----> 7\u001b[0;31m         \u001b[0;32mreturn\u001b[0m \u001b[0msc\u001b[0m\u001b[0;34m.\u001b[0m\u001b[0m_jvm\u001b[0m\u001b[0;34m.\u001b[0m\u001b[0morg\u001b[0m\u001b[0;34m.\u001b[0m\u001b[0mjpmml\u001b[0m\u001b[0;34m.\u001b[0m\u001b[0msparkml\u001b[0m\u001b[0;34m.\u001b[0m\u001b[0mConverterUtil\u001b[0m\u001b[0;34m.\u001b[0m\u001b[0mtoPMMLByteArray\u001b[0m\u001b[0;34m(\u001b[0m\u001b[0mjavaSchema\u001b[0m\u001b[0;34m,\u001b[0m \u001b[0mjavaPipelineModel\u001b[0m\u001b[0;34m)\u001b[0m\u001b[0;34m\u001b[0m\u001b[0m\n\u001b[0m",
      "\u001b[0;32m~/spark-2.1.0-bin-fluxcapacitor/python/lib/py4j-0.10.4-src.zip/py4j/java_gateway.py\u001b[0m in \u001b[0;36m__call__\u001b[0;34m(self, *args)\u001b[0m\n\u001b[1;32m   1131\u001b[0m         \u001b[0manswer\u001b[0m \u001b[0;34m=\u001b[0m \u001b[0mself\u001b[0m\u001b[0;34m.\u001b[0m\u001b[0mgateway_client\u001b[0m\u001b[0;34m.\u001b[0m\u001b[0msend_command\u001b[0m\u001b[0;34m(\u001b[0m\u001b[0mcommand\u001b[0m\u001b[0;34m)\u001b[0m\u001b[0;34m\u001b[0m\u001b[0m\n\u001b[1;32m   1132\u001b[0m         return_value = get_return_value(\n\u001b[0;32m-> 1133\u001b[0;31m             answer, self.gateway_client, self.target_id, self.name)\n\u001b[0m\u001b[1;32m   1134\u001b[0m \u001b[0;34m\u001b[0m\u001b[0m\n\u001b[1;32m   1135\u001b[0m         \u001b[0;32mfor\u001b[0m \u001b[0mtemp_arg\u001b[0m \u001b[0;32min\u001b[0m \u001b[0mtemp_args\u001b[0m\u001b[0;34m:\u001b[0m\u001b[0;34m\u001b[0m\u001b[0m\n",
      "\u001b[0;32m~/spark-2.1.0-bin-fluxcapacitor/python/pyspark/sql/utils.py\u001b[0m in \u001b[0;36mdeco\u001b[0;34m(*a, **kw)\u001b[0m\n\u001b[1;32m     61\u001b[0m     \u001b[0;32mdef\u001b[0m \u001b[0mdeco\u001b[0m\u001b[0;34m(\u001b[0m\u001b[0;34m*\u001b[0m\u001b[0ma\u001b[0m\u001b[0;34m,\u001b[0m \u001b[0;34m**\u001b[0m\u001b[0mkw\u001b[0m\u001b[0;34m)\u001b[0m\u001b[0;34m:\u001b[0m\u001b[0;34m\u001b[0m\u001b[0m\n\u001b[1;32m     62\u001b[0m         \u001b[0;32mtry\u001b[0m\u001b[0;34m:\u001b[0m\u001b[0;34m\u001b[0m\u001b[0m\n\u001b[0;32m---> 63\u001b[0;31m             \u001b[0;32mreturn\u001b[0m \u001b[0mf\u001b[0m\u001b[0;34m(\u001b[0m\u001b[0;34m*\u001b[0m\u001b[0ma\u001b[0m\u001b[0;34m,\u001b[0m \u001b[0;34m**\u001b[0m\u001b[0mkw\u001b[0m\u001b[0;34m)\u001b[0m\u001b[0;34m\u001b[0m\u001b[0m\n\u001b[0m\u001b[1;32m     64\u001b[0m         \u001b[0;32mexcept\u001b[0m \u001b[0mpy4j\u001b[0m\u001b[0;34m.\u001b[0m\u001b[0mprotocol\u001b[0m\u001b[0;34m.\u001b[0m\u001b[0mPy4JJavaError\u001b[0m \u001b[0;32mas\u001b[0m \u001b[0me\u001b[0m\u001b[0;34m:\u001b[0m\u001b[0;34m\u001b[0m\u001b[0m\n\u001b[1;32m     65\u001b[0m             \u001b[0ms\u001b[0m \u001b[0;34m=\u001b[0m \u001b[0me\u001b[0m\u001b[0;34m.\u001b[0m\u001b[0mjava_exception\u001b[0m\u001b[0;34m.\u001b[0m\u001b[0mtoString\u001b[0m\u001b[0;34m(\u001b[0m\u001b[0;34m)\u001b[0m\u001b[0;34m\u001b[0m\u001b[0m\n",
      "\u001b[0;32m~/spark-2.1.0-bin-fluxcapacitor/python/lib/py4j-0.10.4-src.zip/py4j/protocol.py\u001b[0m in \u001b[0;36mget_return_value\u001b[0;34m(answer, gateway_client, target_id, name)\u001b[0m\n\u001b[1;32m    317\u001b[0m                 raise Py4JJavaError(\n\u001b[1;32m    318\u001b[0m                     \u001b[0;34m\"An error occurred while calling {0}{1}{2}.\\n\"\u001b[0m\u001b[0;34m.\u001b[0m\u001b[0;34m\u001b[0m\u001b[0m\n\u001b[0;32m--> 319\u001b[0;31m                     format(target_id, \".\", name), value)\n\u001b[0m\u001b[1;32m    320\u001b[0m             \u001b[0;32melse\u001b[0m\u001b[0;34m:\u001b[0m\u001b[0;34m\u001b[0m\u001b[0m\n\u001b[1;32m    321\u001b[0m                 raise Py4JError(\n",
      "\u001b[0;31mPy4JJavaError\u001b[0m: An error occurred while calling z:org.jpmml.sparkml.ConverterUtil.toPMMLByteArray.\n: java.lang.NoSuchMethodError: org.dmg.pmml.OutputField.<init>(Lorg/dmg/pmml/FieldName;Lorg/dmg/pmml/DataType;)V\n\tat org.jpmml.converter.ModelUtil.createPredictedField(ModelUtil.java:194)\n\tat org.jpmml.sparkml.ClassificationModelConverter.encodeOutput(ClassificationModelConverter.java:76)\n\tat org.jpmml.sparkml.ModelConverter.registerModel(ModelConverter.java:165)\n\tat org.jpmml.sparkml.ConverterUtil.toPMML(ConverterUtil.java:76)\n\tat org.jpmml.sparkml.ConverterUtil.toPMMLByteArray(ConverterUtil.java:132)\n\tat sun.reflect.NativeMethodAccessorImpl.invoke0(Native Method)\n\tat sun.reflect.NativeMethodAccessorImpl.invoke(NativeMethodAccessorImpl.java:62)\n\tat sun.reflect.DelegatingMethodAccessorImpl.invoke(DelegatingMethodAccessorImpl.java:43)\n\tat java.lang.reflect.Method.invoke(Method.java:498)\n\tat py4j.reflection.MethodInvoker.invoke(MethodInvoker.java:244)\n\tat py4j.reflection.ReflectionEngine.invoke(ReflectionEngine.java:357)\n\tat py4j.Gateway.invoke(Gateway.java:280)\n\tat py4j.commands.AbstractCommand.invokeMethod(AbstractCommand.java:132)\n\tat py4j.commands.CallCommand.execute(CallCommand.java:79)\n\tat py4j.GatewayConnection.run(GatewayConnection.java:214)\n\tat java.lang.Thread.run(Thread.java:748)\n"
     ]
    }
   ],
   "source": [
    "pmmlBytes = toPMMLBytes(sc, train, pipeline_model)\n",
    "print(pmmlBytes.decode(\"UTF-8\"))"
   ]
  },
  {
   "cell_type": "code",
   "execution_count": null,
   "metadata": {
    "collapsed": true
   },
   "outputs": [],
   "source": []
  },
  {
   "cell_type": "code",
   "execution_count": null,
   "metadata": {
    "collapsed": true
   },
   "outputs": [],
   "source": []
  }
 ],
 "metadata": {
  "anaconda-cloud": {},
  "kernelspec": {
   "display_name": "Python [default]",
   "language": "python",
   "name": "python3"
  }
 },
 "nbformat": 4,
 "nbformat_minor": 2
}
