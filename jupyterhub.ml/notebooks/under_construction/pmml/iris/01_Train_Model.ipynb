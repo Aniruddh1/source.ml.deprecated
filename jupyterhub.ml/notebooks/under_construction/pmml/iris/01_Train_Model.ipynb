{
 "cells": [
  {
   "cell_type": "code",
   "execution_count": 5,
   "metadata": {},
   "outputs": [
    {
     "name": "stdout",
     "output_type": "stream",
     "text": [
      "--master local[1] --jars /root/lib/jpmml-sparkml-package-1.2-SNAPSHOT.jar  --py-files /root/lib/jpmml.py pyspark-shell\n"
     ]
    }
   ],
   "source": [
    "import os\n",
    "from __future__ import print_function\n",
    "\n",
    "master = '--master local[1]'\n",
    "#master = '--master spark://apachespark-master-2-1-0:7077'\n",
    "jars = '--jars /root/lib/jpmml-sparkml-package-1.2-SNAPSHOT.jar'\n",
    "#packages = '--packages org.jpmml:jpmml-sparkml:1.2.0'\n",
    "packages = ''\n",
    "py_files = '--py-files /root/lib/jpmml.py'\n",
    "\n",
    "os.environ['PYSPARK_SUBMIT_ARGS'] = master \\\n",
    "  + ' ' + jars \\\n",
    "  + ' ' + packages \\\n",
    "  + ' ' + py_files \\\n",
    "  + ' ' + 'pyspark-shell'\n",
    "\n",
    "print(os.environ['PYSPARK_SUBMIT_ARGS'])"
   ]
  },
  {
   "cell_type": "code",
   "execution_count": 7,
   "metadata": {
    "collapsed": true
   },
   "outputs": [],
   "source": [
    "from pyspark.ml import Pipeline\n",
    "\n",
    "from pyspark import SparkConf, SparkContext\n",
    "from pyspark.sql import SQLContext\n",
    "from pyspark.ml.feature import VectorAssembler\n"
   ]
  },
  {
   "cell_type": "code",
   "execution_count": 8,
   "metadata": {
    "collapsed": true
   },
   "outputs": [],
   "source": [
    "sc = SparkContext.getOrCreate()\n",
    "sqlContext = SQLContext(sc)"
   ]
  },
  {
   "cell_type": "code",
   "execution_count": 9,
   "metadata": {},
   "outputs": [
    {
     "name": "stdout",
     "output_type": "stream",
     "text": [
      "root\n",
      " |-- sepal_length(cm): double (nullable = true)\n",
      " |-- sepal_width(cm): double (nullable = true)\n",
      " |-- petal_length(cm): double (nullable = true)\n",
      " |-- petal_width(cm): double (nullable = true)\n",
      " |-- species: long (nullable = true)\n",
      "\n",
      "+----------------+---------------+----------------+---------------+-------+\n",
      "|sepal_length(cm)|sepal_width(cm)|petal_length(cm)|petal_width(cm)|species|\n",
      "+----------------+---------------+----------------+---------------+-------+\n",
      "|             5.1|            3.5|             1.4|            0.2|      0|\n",
      "|             4.9|            3.0|             1.4|            0.2|      0|\n",
      "|             4.7|            3.2|             1.3|            0.2|      0|\n",
      "|             4.6|            3.1|             1.5|            0.2|      0|\n",
      "|             5.0|            3.6|             1.4|            0.2|      0|\n",
      "+----------------+---------------+----------------+---------------+-------+\n",
      "only showing top 5 rows\n",
      "\n"
     ]
    }
   ],
   "source": [
    "import pandas as pd\n",
    "from sklearn import datasets\n",
    "iris = datasets.load_iris()\n",
    "\n",
    "df = pd.DataFrame(iris.data, columns=iris.feature_names)\n",
    "\n",
    "df['species'] = pd.Categorical.from_codes(iris.target, iris.target_names)\n",
    "df['species'] = pd.factorize(df['species'])[0]\n",
    "\n",
    "df.columns = [\"sepal_length(cm)\", \\\n",
    "              \"sepal_width(cm)\", \\\n",
    "              \"petal_length(cm)\", \\\n",
    "              \"petal_width(cm)\", \\\n",
    "              \"species\"]\n",
    "\n",
    "df_iris = sqlContext.createDataFrame(df)\n",
    "\n",
    "df_iris.printSchema()\n",
    "\n",
    "df_iris.show(5)\n",
    "\n",
    "train = df_iris\n",
    "\n",
    "#train, test = dfiris.randomSplit([0.7, 0.3])\n",
    "\n",
    "#train.count()\n",
    "#test.count()"
   ]
  },
  {
   "cell_type": "code",
   "execution_count": 26,
   "metadata": {},
   "outputs": [
    {
     "name": "stdout",
     "output_type": "stream",
     "text": [
      "PipelineModel_48dc9821a575394c8e73\n"
     ]
    }
   ],
   "source": [
    "from pyspark.ml.classification import LogisticRegression\n",
    "\n",
    "from pyspark.ml import Pipeline\n",
    "\n",
    "assembler = VectorAssembler(inputCols=[\"sepal_length(cm)\", \\\n",
    "                                       \"sepal_width(cm)\", \\\n",
    "                                       \"petal_length(cm)\", \\\n",
    "                                       \"petal_width(cm)\"], \n",
    "                            outputCol=\"features\")\n",
    "\n",
    "lr = LogisticRegression(featuresCol='features', labelCol='species')\n",
    "\n",
    "pipeline = Pipeline(stages=[assembler, lr])\n",
    "\n",
    "pipeline_model = pipeline.fit(train)\n",
    "\n",
    "print(pipeline_model)"
   ]
  },
  {
   "cell_type": "code",
   "execution_count": 30,
   "metadata": {},
   "outputs": [
    {
     "name": "stdout",
     "output_type": "stream",
     "text": [
      "3\n"
     ]
    }
   ],
   "source": [
    "lr_model = pipeline_model.stages[1]\n",
    "print(lr_model.numClasses)"
   ]
  },
  {
   "cell_type": "code",
   "execution_count": 31,
   "metadata": {},
   "outputs": [
    {
     "data": {
      "text/plain": [
       "StructType(List(StructField(sepal_length(cm),DoubleType,true),StructField(sepal_width(cm),DoubleType,true),StructField(petal_length(cm),DoubleType,true),StructField(petal_width(cm),DoubleType,true),StructField(species,LongType,true)))"
      ]
     },
     "execution_count": 31,
     "metadata": {},
     "output_type": "execute_result"
    }
   ],
   "source": [
    "train.schema."
   ]
  },
  {
   "cell_type": "code",
   "execution_count": 28,
   "metadata": {},
   "outputs": [
    {
     "name": "stdout",
     "output_type": "stream",
     "text": [
      "+----------+----------+\n",
      "|   species|prediction|\n",
      "+----------+----------+\n",
      "|    setosa|       0.0|\n",
      "|    setosa|       0.0|\n",
      "|    setosa|       0.0|\n",
      "|    setosa|       0.0|\n",
      "|    setosa|       0.0|\n",
      "|    setosa|       0.0|\n",
      "|    setosa|       0.0|\n",
      "|versicolor|       1.0|\n",
      "| virginica|       2.0|\n",
      "|    setosa|       0.0|\n",
      "|versicolor|       1.0|\n",
      "|versicolor|       1.0|\n",
      "|    setosa|       0.0|\n",
      "|    setosa|       0.0|\n",
      "|    setosa|       0.0|\n",
      "|    setosa|       0.0|\n",
      "|    setosa|       0.0|\n",
      "|    setosa|       0.0|\n",
      "|    setosa|       0.0|\n",
      "|    setosa|       0.0|\n",
      "|    setosa|       0.0|\n",
      "|    setosa|       0.0|\n",
      "|versicolor|       1.0|\n",
      "| virginica|       2.0|\n",
      "| virginica|       2.0|\n",
      "|versicolor|       1.0|\n",
      "|    setosa|       0.0|\n",
      "|versicolor|       1.0|\n",
      "|versicolor|       1.0|\n",
      "| virginica|       2.0|\n",
      "| virginica|       2.0|\n",
      "|    setosa|       0.0|\n",
      "|versicolor|       1.0|\n",
      "|versicolor|       1.0|\n",
      "| virginica|       2.0|\n",
      "| virginica|       2.0|\n",
      "|versicolor|       1.0|\n",
      "|versicolor|       1.0|\n",
      "| virginica|       2.0|\n",
      "| virginica|       1.0|\n",
      "| virginica|       2.0|\n",
      "| virginica|       2.0|\n",
      "| virginica|       2.0|\n",
      "|versicolor|       1.0|\n",
      "|versicolor|       1.0|\n",
      "|versicolor|       1.0|\n",
      "| virginica|       2.0|\n",
      "|versicolor|       1.0|\n",
      "| virginica|       2.0|\n",
      "|versicolor|       1.0|\n",
      "| virginica|       2.0|\n",
      "| virginica|       2.0|\n",
      "| virginica|       2.0|\n",
      "| virginica|       2.0|\n",
      "| virginica|       2.0|\n",
      "| virginica|       2.0|\n",
      "| virginica|       2.0|\n",
      "| virginica|       2.0|\n",
      "| virginica|       2.0|\n",
      "| virginica|       2.0|\n",
      "+----------+----------+\n",
      "\n",
      "+----------------+---------------+----------------+---------------+-------+-----------------+--------------------+--------------------+----------+\n",
      "|sepal_length(cm)|sepal_width(cm)|petal_length(cm)|petal_width(cm)|species|         features|       rawPrediction|         probability|prediction|\n",
      "+----------------+---------------+----------------+---------------+-------+-----------------+--------------------+--------------------+----------+\n",
      "|             4.5|            2.3|             1.3|            0.3| setosa|[4.5,2.3,1.3,0.3]|[30.2673605155285...|[0.99999999728471...|       0.0|\n",
      "|             4.6|            3.1|             1.5|            0.2| setosa|[4.6,3.1,1.5,0.2]|[62.1309275394114...|[1.0,7.5552086507...|       0.0|\n",
      "|             4.6|            3.4|             1.4|            0.3| setosa|[4.6,3.4,1.4,0.3]|[72.8450960535493...|[1.0,1.3851197055...|       0.0|\n",
      "|             4.6|            3.6|             1.0|            0.2| setosa|[4.6,3.6,1.0,0.2]|[88.3390273901946...|[1.0,3.5837985986...|       0.0|\n",
      "|             4.7|            3.2|             1.3|            0.2| setosa|[4.7,3.2,1.3,0.2]|[67.6193878069979...|[1.0,8.1460953247...|       0.0|\n",
      "+----------------+---------------+----------------+---------------+-------+-----------------+--------------------+--------------------+----------+\n",
      "only showing top 5 rows\n",
      "\n"
     ]
    }
   ],
   "source": [
    "prediction_lr = pipeline_model.transform(test)\n",
    "\n",
    "score_lr = prediction_lr.select(['species', 'prediction'])\n",
    "score_lr.show(n=score_lr.count())\n",
    "\n",
    "prediction_lr.show(5)"
   ]
  },
  {
   "cell_type": "code",
   "execution_count": 6,
   "metadata": {},
   "outputs": [
    {
     "ename": "ImportError",
     "evalue": "No module named 'jpmml'",
     "output_type": "error",
     "traceback": [
      "\u001b[0;31m---------------------------------------------------------------------------\u001b[0m",
      "\u001b[0;31mImportError\u001b[0m                               Traceback (most recent call last)",
      "\u001b[0;32m<ipython-input-6-53adeea76660>\u001b[0m in \u001b[0;36m<module>\u001b[0;34m()\u001b[0m\n\u001b[0;32m----> 1\u001b[0;31m \u001b[0;32mfrom\u001b[0m \u001b[0mjpmml\u001b[0m \u001b[0;32mimport\u001b[0m \u001b[0mtoPMMLBytes\u001b[0m\u001b[0;34m\u001b[0m\u001b[0m\n\u001b[0m\u001b[1;32m      2\u001b[0m \u001b[0;34m\u001b[0m\u001b[0m\n\u001b[1;32m      3\u001b[0m \u001b[0mpmmlBytes\u001b[0m \u001b[0;34m=\u001b[0m \u001b[0mtoPMMLBytes\u001b[0m\u001b[0;34m(\u001b[0m\u001b[0msc\u001b[0m\u001b[0;34m,\u001b[0m \u001b[0mtrain\u001b[0m\u001b[0;34m,\u001b[0m \u001b[0mlr_model\u001b[0m\u001b[0;34m)\u001b[0m\u001b[0;34m\u001b[0m\u001b[0m\n\u001b[1;32m      4\u001b[0m \u001b[0mprint\u001b[0m\u001b[0;34m(\u001b[0m\u001b[0mpmmlBytes\u001b[0m\u001b[0;34m.\u001b[0m\u001b[0mdecode\u001b[0m\u001b[0;34m(\u001b[0m\u001b[0;34m\"UTF-8\"\u001b[0m\u001b[0;34m)\u001b[0m\u001b[0;34m)\u001b[0m\u001b[0;34m\u001b[0m\u001b[0m\n",
      "\u001b[0;31mImportError\u001b[0m: No module named 'jpmml'"
     ]
    }
   ],
   "source": [
    "from jpmml import toPMMLBytes\n",
    "\n",
    "pmmlBytes = toPMMLBytes(sc, train, lr_model)\n",
    "print(pmmlBytes.decode(\"UTF-8\"))"
   ]
  },
  {
   "cell_type": "code",
   "execution_count": null,
   "metadata": {
    "collapsed": true
   },
   "outputs": [],
   "source": []
  },
  {
   "cell_type": "code",
   "execution_count": null,
   "metadata": {
    "collapsed": true
   },
   "outputs": [],
   "source": []
  }
 ],
 "metadata": {
  "anaconda-cloud": {},
  "kernelspec": {
   "display_name": "Python [default]",
   "language": "python",
   "name": "python3"
  },
  "language_info": {
   "codemirror_mode": {
    "name": "ipython",
    "version": 3
   },
   "file_extension": ".py",
   "mimetype": "text/x-python",
   "name": "python",
   "nbconvert_exporter": "python",
   "pygments_lexer": "ipython3",
   "version": "3.5.3"
  }
 },
 "nbformat": 4,
 "nbformat_minor": 2
}
