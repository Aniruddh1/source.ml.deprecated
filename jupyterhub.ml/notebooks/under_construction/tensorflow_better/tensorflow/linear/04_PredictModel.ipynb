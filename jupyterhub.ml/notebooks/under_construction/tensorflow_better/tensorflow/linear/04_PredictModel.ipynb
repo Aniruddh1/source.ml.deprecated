{
 "cells": [
  {
   "cell_type": "markdown",
   "metadata": {},
   "source": [
    "# Predict with Model"
   ]
  },
  {
   "cell_type": "markdown",
   "metadata": {},
   "source": [
    "## Init Model"
   ]
  },
  {
   "cell_type": "code",
   "execution_count": 11,
   "metadata": {},
   "outputs": [
    {
     "name": "stdout",
     "output_type": "stream",
     "text": [
      "\n",
      "\n",
      "{'model_input_mime_type': 'application/json',\n",
      " 'model_name': 'tensorflow_linear',\n",
      " 'model_namespace': 'default',\n",
      " 'model_output_mime_type': 'application/json',\n",
      " 'model_path': '/root/volumes/source.ml/jupyterhub.ml/notebooks/tensorflow/linear',\n",
      " 'model_server_url': 'http://prediction-tensorflow.community.pipeline.io',\n",
      " 'model_test_request_path': None,\n",
      " 'model_type': 'tensorflow',\n",
      " 'model_version': 0,\n",
      " 'pio_api_version': 'v1',\n",
      " 'pio_git_home': 'https://github.com/fluxcapacitor/source.ml/',\n",
      " 'pio_git_version': 'master'}\n",
      "\n"
     ]
    }
   ],
   "source": [
    "%%bash \n",
    "\n",
    "pio init-model \\\n",
    "  --model-server-url http://prediction-tensorflow.community.pipeline.io/ \\\n",
    "  --model-type tensorflow \\\n",
    "  --model-namespace default \\\n",
    "  --model-name tensorflow_linear \\\n",
    "  --model-version 2 \\\n",
    "  --model-path ."
   ]
  },
  {
   "cell_type": "markdown",
   "metadata": {},
   "source": [
    "## Predict with Model (CLI)"
   ]
  },
  {
   "cell_type": "code",
   "execution_count": 13,
   "metadata": {
    "scrolled": true
   },
   "outputs": [
    {
     "name": "stdout",
     "output_type": "stream",
     "text": [
      "model_server_url: http://prediction-tensorflow.community.pipeline.io\n",
      "model_type: tensorflow\n",
      "model_namespace: default\n",
      "model_name: tensorflow_linear\n",
      "model_version: 0\n",
      "model_test_request_path: /root/volumes/source.ml/jupyterhub.ml/notebooks/tensorflow/linear/data/test_request.json\n",
      "model_input_mime_type: application/json\n",
      "model_output_mime_type: application/json\n",
      "\n",
      "Predicting with file '/root/volumes/source.ml/jupyterhub.ml/notebooks/tensorflow/linear/data/test_request.json' using 'http://prediction-tensorflow.community.pipeline.io/api/v1/model/predict/tensorflow/default/tensorflow_linear/0'\n",
      "\n",
      "('Traceback (most recent call last):\\n'\n",
      " '  File '\n",
      " '\"/opt/conda/envs/model_environment_python3/lib/python3.5/site-packages/tornado/web.py\", '\n",
      " 'line 1467, in _stack_context_handle_exception\\n'\n",
      " '    raise_exc_info((type, value, traceback))\\n'\n",
      " '  File \"<string>\", line 4, in raise_exc_info\\n'\n",
      " '  File '\n",
      " '\"/opt/conda/envs/model_environment_python3/lib/python3.5/site-packages/tornado/web.py\", '\n",
      " 'line 1669, in wrapper\\n'\n",
      " '    result = method(self, *args, **kwargs)\\n'\n",
      " '  File \"/root/src/main/python/model_server_python3.py\", line 96, in post\\n'\n",
      " '    model_version)\\n'\n",
      " '  File \"<decorator-gen-2>\", line 2, in get_model_assets\\n'\n",
      " '  File '\n",
      " '\"/opt/conda/envs/model_environment_python3/lib/python3.5/site-packages/prometheus_client/core.py\", '\n",
      " 'line 933, in wrapped\\n'\n",
      " '    return func(*args, **kwargs)\\n'\n",
      " '  File \"/root/src/main/python/model_server_python3.py\", line 139, in '\n",
      " 'get_model_assets\\n'\n",
      " \"    with open(model_file_absolute_path, 'rb') as model_file:\\n\"\n",
      " 'FileNotFoundError: [Errno 2] No such file or directory: '\n",
      " \"'/root/model_store/tensorflow/default/tensorflow_linear/0/pio_model.pkl'\\n\")\n",
      "\n",
      "Total time: 182.842 milliseconds\n",
      "\n"
     ]
    }
   ],
   "source": [
    "%%bash\n",
    "\n",
    "pio predict \\\n",
    "  --model-test-request-path ./data/test_request.json"
   ]
  },
  {
   "cell_type": "markdown",
   "metadata": {},
   "source": [
    "## Predict Many\n",
    "This is a mini load test to provide instant feedback on relative performance. "
   ]
  },
  {
   "cell_type": "code",
   "execution_count": null,
   "metadata": {},
   "outputs": [],
   "source": [
    "%%bash\n",
    "\n",
    "pio predict_many \\\n",
    "  --model-test-request-path ./data/test_request.json \\\n",
    "  --num-iterations 5"
   ]
  },
  {
   "cell_type": "markdown",
   "metadata": {},
   "source": [
    "### Predict with Model (REST)"
   ]
  },
  {
   "cell_type": "code",
   "execution_count": null,
   "metadata": {},
   "outputs": [],
   "source": [
    "import requests\n",
    "\n",
    "model_type = 'tensorflow'\n",
    "model_namespace = 'default'\n",
    "model_name = 'tensorflow_linear'\n",
    "model_version = '2'\n",
    "\n",
    "deploy_url = 'http://prediction-%s.community.pipeline.io/api/v1/model/predict/%s/%s/%s/%s' % (model_type, model_type, model_namespace, model_name, model_version)\n",
    "\n",
    "\n",
    "with open('./data/test_request.json', 'rb') as fh:\n",
    "    model_input_binary = fh.read()\n",
    "\n",
    "response = requests.post(url=deploy_url,\n",
    "                         data=model_input_binary,\n",
    "                         timeout=30)\n",
    "        \n",
    "print(\"Success! %s\" % response.text)"
   ]
  },
  {
   "cell_type": "code",
   "execution_count": null,
   "metadata": {
    "collapsed": true
   },
   "outputs": [],
   "source": []
  }
 ],
 "metadata": {
  "anaconda-cloud": {},
  "kernelspec": {
   "display_name": "Python [default]",
   "language": "python",
   "name": "python3"
  },
  "language_info": {
   "codemirror_mode": {
    "name": "ipython",
    "version": 3
   },
   "file_extension": ".py",
   "mimetype": "text/x-python",
   "name": "python",
   "nbconvert_exporter": "python",
   "pygments_lexer": "ipython3",
   "version": "3.5.3"
  }
 },
 "nbformat": 4,
 "nbformat_minor": 2
}
