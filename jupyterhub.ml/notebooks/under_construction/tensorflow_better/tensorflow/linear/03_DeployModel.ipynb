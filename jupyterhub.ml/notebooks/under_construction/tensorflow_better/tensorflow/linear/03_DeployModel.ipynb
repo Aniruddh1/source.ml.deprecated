{
 "cells": [
  {
   "cell_type": "markdown",
   "metadata": {},
   "source": [
    "# Deploy Model"
   ]
  },
  {
   "cell_type": "markdown",
   "metadata": {},
   "source": [
    "## Init Model"
   ]
  },
  {
   "cell_type": "code",
   "execution_count": 3,
   "metadata": {},
   "outputs": [
    {
     "name": "stdout",
     "output_type": "stream",
     "text": [
      "\n",
      "\n",
      "{'model_input_mime_type': 'application/json',\n",
      " 'model_name': 'tensorflow_linear',\n",
      " 'model_namespace': 'default',\n",
      " 'model_output_mime_type': 'application/json',\n",
      " 'model_path': '/root/volumes/source.ml/jupyterhub.ml/notebooks/under_construction/tensorflow_better/tensorflow/linear',\n",
      " 'model_server_url': 'http://prediction-tensorflow.community.pipeline.io',\n",
      " 'model_test_request_path': None,\n",
      " 'model_type': 'tensorflow',\n",
      " 'model_version': 2,\n",
      " 'pio_api_version': 'v1',\n",
      " 'pio_git_home': 'https://github.com/fluxcapacitor/source.ml/',\n",
      " 'pio_git_version': 'master'}\n",
      "\n"
     ]
    }
   ],
   "source": [
    "%%bash \n",
    "\n",
    "pio init-model \\\n",
    "  --model-server-url http://prediction-tensorflow.community.pipeline.io/ \\\n",
    "  --model-type tensorflow \\\n",
    "  --model-namespace default \\\n",
    "  --model-name tensorflow_linear \\\n",
    "  --model-version 2 \\\n",
    "  --model-path ."
   ]
  },
  {
   "cell_type": "markdown",
   "metadata": {},
   "source": [
    "## Deploy Model (CLI)"
   ]
  },
  {
   "cell_type": "code",
   "execution_count": 4,
   "metadata": {},
   "outputs": [
    {
     "name": "stdout",
     "output_type": "stream",
     "text": [
      "model_server_url: http://prediction-tensorflow.community.pipeline.io\n",
      "model_type: tensorflow\n",
      "model_namespace: default\n",
      "model_name: tensorflow_linear\n",
      "model_version: 2\n",
      "model_path: /root/volumes/source.ml/jupyterhub.ml/notebooks/under_construction/tensorflow_better/tensorflow/linear\n",
      "\n",
      "Compressing model bundle '/root/volumes/source.ml/jupyterhub.ml/notebooks/under_construction/tensorflow_better/tensorflow/linear' into 'bundle-tensorflow-default-tensorflow_linear-2.tar.gz'.\n",
      "\n",
      "\n",
      "Deploying model 'bundle-tensorflow-default-tensorflow_linear-2.tar.gz' to 'http://prediction-tensorflow.community.pipeline.io/api/v1/model/deploy/tensorflow/default/tensorflow_linear/2'.\n",
      "\n",
      "Error while deploying model.\n",
      "Error: '('Connection aborted.', RemoteDisconnected('Remote end closed connection without response',))'\n",
      "\n",
      "\n",
      "Cleaning up compressed model bundle 'bundle-tensorflow-default-tensorflow_linear-2.tar.gz'...\n",
      "\n"
     ]
    }
   ],
   "source": [
    "%%bash\n",
    "\n",
    "pio deploy"
   ]
  },
  {
   "cell_type": "markdown",
   "metadata": {},
   "source": [
    "## TODO: Deploy Model (REST)"
   ]
  },
  {
   "cell_type": "code",
   "execution_count": null,
   "metadata": {
    "collapsed": true
   },
   "outputs": [],
   "source": []
  }
 ],
 "metadata": {
  "anaconda-cloud": {},
  "kernelspec": {
   "display_name": "Python [conda root]",
   "language": "python",
   "name": "conda-root-py"
  },
  "language_info": {
   "codemirror_mode": {
    "name": "ipython",
    "version": 3
   },
   "file_extension": ".py",
   "mimetype": "text/x-python",
   "name": "python",
   "nbconvert_exporter": "python",
   "pygments_lexer": "ipython3",
   "version": "3.5.3"
  }
 },
 "nbformat": 4,
 "nbformat_minor": 2
}
