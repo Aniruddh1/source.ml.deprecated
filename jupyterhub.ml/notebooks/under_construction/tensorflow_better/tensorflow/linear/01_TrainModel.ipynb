{
 "cells": [
  {
   "cell_type": "markdown",
   "metadata": {},
   "source": [
    "## `MyRequestTransformer` Class\n",
    "Extends `PioRequestTransformer` class.  Must implement the `transform_request()` method."
   ]
  },
  {
   "cell_type": "markdown",
   "metadata": {},
   "source": [
    "### Convert `json` -> `dict`"
   ]
  },
  {
   "cell_type": "code",
   "execution_count": 43,
   "metadata": {
    "collapsed": true
   },
   "outputs": [],
   "source": [
    "from pio_model import PioRequestTransformer\n",
    "\n",
    "class MyRequestTransformer(PioRequestTransformer): \n",
    "\n",
    "    def __init__(self, \n",
    "                 *args,\n",
    "                 **kwargs):\n",
    "        PioRequestTransformer.__init__(self, \n",
    "                                       args, \n",
    "                                       kwargs)\n",
    "\n",
    "        \n",
    "        \n",
    "# Inputs\n",
    "#   raw json (binary)\n",
    "# Outputs\n",
    "#   TensorFlow PredictRequest (protobuf) \n",
    "def transform_request(self,\n",
    "                      request,\n",
    "                      *args,\n",
    "                      **kwargs):\n",
    "    import tensorflow as tf\n",
    "    import predict_pb2\n",
    "    import json\n",
    "    import numpy as np\n",
    "\n",
    "    PioRequestTransformer.transform_request(self,\n",
    "                                            request,\n",
    "                                            args,\n",
    "                                            kwargs)\n",
    "    print(request)\n",
    "    request_str = request.decode('utf-8')\n",
    "    request_json = json.loads(request_str)\n",
    "    request_np = np.asarray([request_json['x_observed']])\n",
    "    request_tensor_proto = tf.contrib.util.make_tensor_proto(request_np,\n",
    "                                                             dtype=tf.float32)\n",
    "    request = predict_pb2.PredictRequest()\n",
    "    request.inputs['x_observed'].CopyFrom(inputs_tensor_proto)\n",
    "    return request  "
   ]
  },
  {
   "cell_type": "markdown",
   "metadata": {},
   "source": [
    "## `MyResponseTransformer` Class\n",
    "Extends `PioResponseTransformer` class.  Must implement the `transform_response()` method."
   ]
  },
  {
   "cell_type": "markdown",
   "metadata": {},
   "source": [
    "### Convert `dict` -> `json`"
   ]
  },
  {
   "cell_type": "code",
   "execution_count": 44,
   "metadata": {
    "collapsed": true
   },
   "outputs": [],
   "source": [
    "from pio_model import PioResponseTransformer\n",
    "\n",
    "class MyResponseTransformer(PioResponseTransformer):\n",
    "    def __init__(self, \n",
    "                 *args,\n",
    "                 **kwargs):\n",
    "\n",
    "        PioResponseTransformer.__init__(self, \n",
    "                                        args, \n",
    "                                        kwargs)\n",
    "\n",
    "        \n",
    "    def transform_response(self,\n",
    "                           response,\n",
    "                           *args,\n",
    "                           **kwargs):\n",
    "\n",
    "        import tensorflow as tf\n",
    "        import json\n",
    "        import numpy as np\n",
    "        response_np_array = tf.contrib.util.make_ndarray(response.outputs['y_pred'])\n",
    "        return json.dumps({\"y_pred\": response_np_array.tolist()[0]})"
   ]
  },
  {
   "cell_type": "markdown",
   "metadata": {},
   "source": [
    "## Train My Model"
   ]
  },
  {
   "cell_type": "markdown",
   "metadata": {},
   "source": [
    "## Create Model Initializer\n",
    "Must implement the `initialize_model()` method"
   ]
  },
  {
   "cell_type": "code",
   "execution_count": 45,
   "metadata": {
    "collapsed": true
   },
   "outputs": [],
   "source": [
    "from pio_model import PioModelInitializer\n",
    "\n",
    "class MyModelInitializer(PioModelInitializer): \n",
    "\n",
    "    def __init__(self, \n",
    "                 *args,\n",
    "                 **kwargs):\n",
    "\n",
    "        PioModelInitializer.__init__(self, \n",
    "                                     args, \n",
    "                                     kwargs)\n",
    "\n",
    "        \n",
    "    def initialize_model(self,                        \n",
    "                         *args,\n",
    "                         **kwargs):\n",
    "\n",
    "        PioModelInitializer.initialize_model(self, \n",
    "                                             args, \n",
    "                                             kwargs)\n",
    "        return None "
   ]
  },
  {
   "cell_type": "markdown",
   "metadata": {},
   "source": [
    "## `MyModel` Class\n",
    "Extends `PioModel` class.  Must implement `predict()` method."
   ]
  },
  {
   "cell_type": "code",
   "execution_count": 46,
   "metadata": {
    "collapsed": true
   },
   "outputs": [],
   "source": [
    "from pio_model import PioModel\n",
    "\n",
    "class MyModel(PioModel):\n",
    "\n",
    "    \n",
    "    def __init__(self, \n",
    "                 request_transformer, \n",
    "                 response_transformer,\n",
    "                 model_initializer,\n",
    "                 *args,\n",
    "                 **kwargs):\n",
    "\n",
    "        PioModel.__init__(self,\n",
    "                          request_transformer,\n",
    "                          response_transformer,\n",
    "                          model_initializer,\n",
    "                          args,\n",
    "                          kwargs)\n",
    "        \n",
    "    def predict(self, \n",
    "                request,\n",
    "                *args,\n",
    "                **kwargs):\n",
    "\n",
    "        #transformed_request = self.request_transformer.transform_request(request)\n",
    "        \n",
    "        #response = self.model.predict(transformed_request)\n",
    "        \n",
    "        #transformed_response = self.response_transformer.transform_response(response)\n",
    "        \n",
    "        #return transformed_response\n",
    "        return "
   ]
  },
  {
   "cell_type": "markdown",
   "metadata": {},
   "source": [
    "## Construct `MyModel`\n",
    "Inject Model with Request Transformer, Response Transformer, and Model Initializer\n",
    "```\n",
    "MyModel(`MyRequestTransformer`, `MyResponseTransformer`, `MyModelInitializer`)\n",
    "```"
   ]
  },
  {
   "cell_type": "code",
   "execution_count": 47,
   "metadata": {
    "collapsed": true
   },
   "outputs": [],
   "source": [
    "pio_model = MyModel(MyRequestTransformer(),\n",
    "                    MyResponseTransformer(), \n",
    "                    MyModelInitializer())"
   ]
  },
  {
   "cell_type": "markdown",
   "metadata": {},
   "source": [
    "## Save/Pickle Pio Model as `pio_model.pkl`"
   ]
  },
  {
   "cell_type": "code",
   "execution_count": 50,
   "metadata": {},
   "outputs": [
    {
     "name": "stdout",
     "output_type": "stream",
     "text": [
      "{'x_observed': 1.5}\n"
     ]
    }
   ],
   "source": [
    "import dill as pickle\n",
    "\n",
    "pio_model_pkl_path = 'pio_model.pkl'\n",
    "\n",
    "with open(pio_model_pkl_path, 'wb') as fh:\n",
    "    pickle.dump(pio_model, fh)\n",
    "        \n",
    "with open(pio_model_pkl_path, 'rb') as fh:\n",
    "    pio_model = pickle.load(fh)\n",
    "\n",
    "import json\n",
    "\n",
    "json_request = json.loads('{\"x_observed\":1.5}')\n",
    "print(json_request)    "
   ]
  },
  {
   "cell_type": "code",
   "execution_count": 51,
   "metadata": {},
   "outputs": [
    {
     "name": "stdout",
     "output_type": "stream",
     "text": [
      "-rw-r--r-- 1 root root 2142 Jun 15 21:48 pio_model.pkl\n",
      "\n"
     ]
    }
   ],
   "source": [
    "import subprocess\n",
    "\n",
    "output = subprocess.check_output('ls -l pio_model.pkl',\n",
    "                                 stderr=subprocess.STDOUT,\n",
    "                                 shell=True)\n",
    "print(output.decode('utf-8'))"
   ]
  },
  {
   "cell_type": "code",
   "execution_count": null,
   "metadata": {
    "collapsed": true
   },
   "outputs": [],
   "source": []
  }
 ],
 "metadata": {
  "anaconda-cloud": {},
  "kernelspec": {
   "display_name": "Python [default]",
   "language": "python",
   "name": "python3"
  },
  "language_info": {
   "codemirror_mode": {
    "name": "ipython",
    "version": 3
   },
   "file_extension": ".py",
   "mimetype": "text/x-python",
   "name": "python",
   "nbconvert_exporter": "python",
   "pygments_lexer": "ipython3",
   "version": "3.5.3"
  }
 },
 "nbformat": 4,
 "nbformat_minor": 2
}
