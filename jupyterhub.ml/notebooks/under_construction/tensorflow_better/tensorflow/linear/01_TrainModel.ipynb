{
 "cells": [
  {
   "cell_type": "markdown",
   "metadata": {},
   "source": [
    "## Train and Initialize My Model"
   ]
  },
  {
   "cell_type": "code",
   "execution_count": null,
   "metadata": {
    "collapsed": true
   },
   "outputs": [],
   "source": [
    "def initialize_model():\n",
    "    pass"
   ]
  },
  {
   "cell_type": "code",
   "execution_count": 21,
   "metadata": {
    "collapsed": true
   },
   "outputs": [],
   "source": [
    "def transform_request(request):\n",
    "    import tensorflow as tf\n",
    "\n",
    "    import json\n",
    "    import numpy as np\n",
    "\n",
    "    print(request)\n",
    "    request_str = request.decode('utf-8')\n",
    "    request_json = json.loads(request_str)\n",
    "    request_np = np.asarray([request_json['x_observed']])\n",
    "#    request_tensor_proto = tf.contrib.util.make_tensor_proto(request_np,\n",
    "#                                                             dtype=tf.float32)\n",
    "#    request = predict_pb2.PredictRequest()\n",
    "#    request.inputs['x_observed'].CopyFrom(inputs_tensor_proto)\n",
    "#    return request  \n",
    "    return request_np"
   ]
  },
  {
   "cell_type": "code",
   "execution_count": null,
   "metadata": {
    "collapsed": true
   },
   "outputs": [],
   "source": [
    "def transform_response(response):\n",
    "    import json\n",
    "    return json.dumps({\"y_pred\": response.tolist()[0]})"
   ]
  },
  {
   "cell_type": "code",
   "execution_count": null,
   "metadata": {
    "collapsed": true
   },
   "outputs": [],
   "source": [
    "def predict(model, request):\n",
    "    pass"
   ]
  },
  {
   "cell_type": "code",
   "execution_count": 24,
   "metadata": {
    "collapsed": true
   },
   "outputs": [],
   "source": [
    "class PioModel(object):\n",
    "    def __init__(self,\n",
    "                 transform_request,\n",
    "                 transform_response):\n",
    "\n",
    "        self.transform_request = transform_request\n",
    "        self.transform_response = transform_response\n"
   ]
  },
  {
   "cell_type": "code",
   "execution_count": 25,
   "metadata": {},
   "outputs": [],
   "source": [
    "pio_model = PioModel(transform_request,\n",
    "                     transform_response)"
   ]
  },
  {
   "cell_type": "markdown",
   "metadata": {},
   "source": [
    "## Save/Pickle `PioModel` as `pio_model.pkl`"
   ]
  },
  {
   "cell_type": "code",
   "execution_count": 26,
   "metadata": {
    "collapsed": true
   },
   "outputs": [],
   "source": [
    "import dill as pickle\n",
    "\n",
    "pio_model_pkl_path = 'pio_model.pkl'\n",
    "\n",
    "with open(pio_model_pkl_path, 'wb') as fh:\n",
    "    pickle.dump(pio_model, fh)"
   ]
  },
  {
   "cell_type": "code",
   "execution_count": 27,
   "metadata": {},
   "outputs": [
    {
     "name": "stdout",
     "output_type": "stream",
     "text": [
      "-rw-r--r-- 1 root root 1151 Jun 19 23:58 pio_model.pkl\n"
     ]
    }
   ],
   "source": [
    "%%bash\n",
    "\n",
    "ls -l pio_model.pkl"
   ]
  },
  {
   "cell_type": "code",
   "execution_count": null,
   "metadata": {
    "collapsed": true
   },
   "outputs": [],
   "source": []
  }
 ],
 "metadata": {
  "anaconda-cloud": {},
  "kernelspec": {
   "display_name": "Python [default]",
   "language": "python",
   "name": "python3"
  },
  "language_info": {
   "codemirror_mode": {
    "name": "ipython",
    "version": 3
   },
   "file_extension": ".py",
   "mimetype": "text/x-python",
   "name": "python",
   "nbconvert_exporter": "python",
   "pygments_lexer": "ipython3",
   "version": "3.5.3"
  }
 },
 "nbformat": 4,
 "nbformat_minor": 2
}
