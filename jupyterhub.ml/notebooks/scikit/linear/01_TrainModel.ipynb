{
 "cells": [
  {
   "cell_type": "markdown",
   "metadata": {},
   "source": [
    "## `PioModelInitializer` Class\n",
    "Must implement `initialize_model()` method."
   ]
  },
  {
   "cell_type": "code",
   "execution_count": null,
   "metadata": {},
   "outputs": [],
   "source": [
    "class PioModelInitializer(object):\n",
    "    def __init__(self, \n",
    "                 *args,\n",
    "                 **kwargs):        \n",
    "\n",
    "        pass\n",
    "\n",
    "    \n",
    "    def initialize_model(self,\n",
    "                        *args,\n",
    "                        **kwargs):\n",
    "\n",
    "        return"
   ]
  },
  {
   "cell_type": "markdown",
   "metadata": {},
   "source": [
    "## `PioRequestTransformer` Class\n",
    "Must implement `transform_request()` method."
   ]
  },
  {
   "cell_type": "code",
   "execution_count": null,
   "metadata": {
    "collapsed": true
   },
   "outputs": [],
   "source": [
    "class PioRequestTransformer(object):\n",
    "    def __init__(self, \n",
    "                 *args,\n",
    "                 **kwargs):        \n",
    "\n",
    "        pass\n",
    "\n",
    "    \n",
    "    def transform_request(self,\n",
    "                          request,\n",
    "                          *args,\n",
    "                          **kwargs):\n",
    "\n",
    "        return request"
   ]
  },
  {
   "cell_type": "markdown",
   "metadata": {},
   "source": [
    "## `PioResponseTransformer` Class\n",
    "Must have `transform_response()` method."
   ]
  },
  {
   "cell_type": "code",
   "execution_count": null,
   "metadata": {},
   "outputs": [],
   "source": [
    "class PioResponseTransformer(object):\n",
    "    def __init__(self, \n",
    "                 *args,\n",
    "                 **kwargs):        \n",
    "\n",
    "        pass\n",
    "\n",
    "    \n",
    "    def transform_response(self,\n",
    "                           response,\n",
    "                           *args,\n",
    "                           **kwargs):\n",
    "\n",
    "        return response"
   ]
  },
  {
   "cell_type": "markdown",
   "metadata": {},
   "source": [
    "## `PioModel` Class\n",
    "Must implement the `predict()` method."
   ]
  },
  {
   "cell_type": "code",
   "execution_count": null,
   "metadata": {
    "collapsed": true
   },
   "outputs": [],
   "source": [
    "class PioModel(object):\n",
    "\n",
    "    def __init__(self, \n",
    "                 request_transformer, \n",
    "                 response_transformer,\n",
    "                 model_initializer,\n",
    "                 *args,\n",
    "                 **kwargs):\n",
    "\n",
    "        self.request_transformer = request_transformer\n",
    "        self.response_transformer = response_transformer\n",
    "\n",
    "        self.model_initializer = model_initializer\n",
    "        self.model = self.model_initializer.initialize_model(args,\n",
    "                                                             kwargs)\n",
    "\n",
    "        \n",
    "    def predict(self, \n",
    "                request,\n",
    "                *args,\n",
    "                **kwargs):\n",
    "\n",
    "        return"
   ]
  },
  {
   "cell_type": "markdown",
   "metadata": {},
   "source": [
    "## `MyRequestTransformer` Class\n",
    "Extends `PioRequestTransformer` class.  Must implement the `transform_request()` method."
   ]
  },
  {
   "cell_type": "markdown",
   "metadata": {},
   "source": [
    "### Convert `json` -> `dict`"
   ]
  },
  {
   "cell_type": "code",
   "execution_count": null,
   "metadata": {},
   "outputs": [],
   "source": [
    "class MyRequestTransformer(PioRequestTransformer): \n",
    "\n",
    "    def __init__(self, \n",
    "                 *args,\n",
    "                 **kwargs):\n",
    "        PioRequestTransformer.__init__(self, \n",
    "                                       args, \n",
    "                                       kwargs)\n",
    "\n",
    "        \n",
    "    def transform_request(self,\n",
    "                          request,\n",
    "                          *args,\n",
    "                          **kwargs):\n",
    "        import ujson\n",
    "        import numpy as np\n",
    "        PioRequestTransformer.transform_request(self,\n",
    "                                                request,\n",
    "                                                args,\n",
    "                                                kwargs)\n",
    "        print(request)\n",
    "        request_str = request.decode('utf-8')\n",
    "        request_str = request_str.strip().replace('\\n', ',')\n",
    "        # surround the json with '[' ']' to prepare for conversion\n",
    "        request_str = '[%s]' % request_str\n",
    "        request_json = ujson.loads(request_str)\n",
    "        request_transformed = ([self.parse_json_line(json_line) for json_line in request_json])\n",
    "        print(request_transformed)\n",
    "        return np.array(request_transformed)\n",
    "\n",
    "\n",
    "    def parse_json_line(self,\n",
    "                        json_line):\n",
    "        # Note:  We're only using 1 feature in this demo\n",
    "        return json_line['feature0']"
   ]
  },
  {
   "cell_type": "markdown",
   "metadata": {},
   "source": [
    "## `MyResponseTransformer` Class\n",
    "Extends `PioResponseTransformer` class.  Must implement the `transform_response()` method."
   ]
  },
  {
   "cell_type": "markdown",
   "metadata": {},
   "source": [
    "### Convert `dict` -> `json`"
   ]
  },
  {
   "cell_type": "code",
   "execution_count": null,
   "metadata": {
    "collapsed": true
   },
   "outputs": [],
   "source": [
    "class MyResponseTransformer(PioResponseTransformer):\n",
    "    def __init__(self, \n",
    "                 *args,\n",
    "                 **kwargs):\n",
    "\n",
    "        PioResponseTransformer.__init__(self, \n",
    "                                        args, \n",
    "                                        kwargs)\n",
    "\n",
    "        \n",
    "    def transform_response(self,\n",
    "                           response,\n",
    "                           *args,\n",
    "                           **kwargs):\n",
    "\n",
    "        import ujson\n",
    "        # input: numpy array\n",
    "        # output: list of json\n",
    "        transformed_response = PioResponseTransformer.transform_response(self,\n",
    "                                                                         response,\n",
    "                                                                         args,\n",
    "                                                                         kwargs)      \n",
    "        print('Transformed Response:')\n",
    "        print(transformed_response)\n",
    "        return ujson.dumps(transformed_response.tolist())"
   ]
  },
  {
   "cell_type": "markdown",
   "metadata": {},
   "source": [
    "## Train My Model"
   ]
  },
  {
   "cell_type": "code",
   "execution_count": null,
   "metadata": {},
   "outputs": [],
   "source": [
    "import numpy as np\n",
    "from sklearn import linear_model\n",
    "from sklearn import datasets\n",
    "\n",
    "# Load the diabetes dataset\n",
    "diabetes = datasets.load_diabetes()\n",
    "\n",
    "# ONLY USING 1 FEATURE FOR THIS EXAMPLE!\n",
    "# Use only one feature\n",
    "diabetes_X = diabetes.data[:, np.newaxis, 2]\n",
    "\n",
    "# Split the data into training/testing sets\n",
    "diabetes_X_train = diabetes_X[:-20]\n",
    "diabetes_X_test = diabetes_X[-20:]\n",
    "\n",
    "# Split the targets into training/testing sets\n",
    "diabetes_y_train = diabetes.target[:-20]\n",
    "diabetes_y_test = diabetes.target[-20:]\n",
    "\n",
    "# Create linear regression model\n",
    "model = linear_model.LinearRegression()\n",
    "\n",
    "# Train the model using the training sets\n",
    "model.fit(diabetes_X_train, diabetes_y_train)"
   ]
  },
  {
   "cell_type": "markdown",
   "metadata": {},
   "source": [
    "## Save/Pickle Underlying Model as `model.pkl`"
   ]
  },
  {
   "cell_type": "code",
   "execution_count": null,
   "metadata": {},
   "outputs": [],
   "source": [
    "import dill as pickle\n",
    "\n",
    "model_pkl_path = 'model.pkl'\n",
    "\n",
    "with open(model_pkl_path, 'wb') as fh:\n",
    "    pickle.dump(model, fh)"
   ]
  },
  {
   "cell_type": "code",
   "execution_count": null,
   "metadata": {},
   "outputs": [],
   "source": [
    "import subprocess\n",
    "\n",
    "output = subprocess.check_output('ls -l model.pkl',\n",
    "                                 stderr=subprocess.STDOUT,\n",
    "                                 shell=True)\n",
    "print(output.decode('utf-8'))"
   ]
  },
  {
   "cell_type": "markdown",
   "metadata": {},
   "source": [
    "## Create Model Initializer\n",
    "Must implement the `initialize_model()` method"
   ]
  },
  {
   "cell_type": "code",
   "execution_count": null,
   "metadata": {},
   "outputs": [],
   "source": [
    "class MyModelInitializer(PioModelInitializer): \n",
    "\n",
    "    def __init__(self, \n",
    "                 *args,\n",
    "                 **kwargs):\n",
    "\n",
    "        PioModelInitializer.__init__(self, \n",
    "                                     args, \n",
    "                                     kwargs)\n",
    "\n",
    "        \n",
    "    def initialize_model(self,                        \n",
    "                         *args,\n",
    "                         **kwargs):\n",
    "\n",
    "        PioModelInitializer.initialize_model(self, \n",
    "                                             args, \n",
    "                                             kwargs)\n",
    "\n",
    "        import dill as pickle\n",
    "        model_pkl_path = './model.pkl'\n",
    "\n",
    "        with open(model_pkl_path, 'rb') as fh:\n",
    "            model = pickle.load(fh)\n",
    "        \n",
    "        return model            "
   ]
  },
  {
   "cell_type": "markdown",
   "metadata": {},
   "source": [
    "## `MyModel` Class\n",
    "Extends `PioModel` class.  Must implement `predict()` method."
   ]
  },
  {
   "cell_type": "code",
   "execution_count": null,
   "metadata": {
    "collapsed": true
   },
   "outputs": [],
   "source": [
    "class MyModel(PioModel):\n",
    "\n",
    "    \n",
    "    def __init__(self, \n",
    "                 request_transformer, \n",
    "                 response_transformer,\n",
    "                 model_initializer,\n",
    "                 *args,\n",
    "                 **kwargs):\n",
    "\n",
    "        PioModel.__init__(self,\n",
    "                          request_transformer,\n",
    "                          response_transformer,\n",
    "                          model_initializer,\n",
    "                          args,\n",
    "                          kwargs)\n",
    "        \n",
    "    def predict(self, \n",
    "                request,\n",
    "                *args,\n",
    "                **kwargs):\n",
    "\n",
    "        transformed_request = self.request_transformer.transform_request(request)\n",
    "        response = self.model.predict(transformed_request)\n",
    "        transformed_response = self.response_transformer.transform_response(response)\n",
    "        return transformed_response"
   ]
  },
  {
   "cell_type": "markdown",
   "metadata": {},
   "source": [
    "## Construct `MyModel`\n",
    "Inject Model with Request Transformer, Response Transformer, and Model Initializer\n",
    "```\n",
    "MyModel(`MyRequestTransformer`, `MyResponseTransformer`, `MyModelInitializer`)\n",
    "```"
   ]
  },
  {
   "cell_type": "code",
   "execution_count": null,
   "metadata": {},
   "outputs": [],
   "source": [
    "pio_model = MyModel(MyRequestTransformer(),\n",
    "                    MyResponseTransformer(), \n",
    "                    MyModelInitializer())"
   ]
  },
  {
   "cell_type": "markdown",
   "metadata": {},
   "source": [
    "## Save/Pickle Pio Model as `pio_model.pkl`"
   ]
  },
  {
   "cell_type": "code",
   "execution_count": null,
   "metadata": {},
   "outputs": [],
   "source": [
    "import dill as pickle\n",
    "\n",
    "pio_model_pkl_path = 'pio_model.pkl'\n",
    "\n",
    "with open(pio_model_pkl_path, 'wb') as fh:\n",
    "    pickle.dump(pio_model, fh)"
   ]
  },
  {
   "cell_type": "code",
   "execution_count": null,
   "metadata": {},
   "outputs": [],
   "source": [
    "import subprocess\n",
    "\n",
    "output = subprocess.check_output('ls -l pio_model.pkl',\n",
    "                                 stderr=subprocess.STDOUT,\n",
    "                                 shell=True)\n",
    "print(output.decode('utf-8'))"
   ]
  },
  {
   "cell_type": "code",
   "execution_count": null,
   "metadata": {},
   "outputs": [],
   "source": [
    "pio_model_pkl_path='pio_model.pkl'\n",
    "test_request_path='data/test_request.json'\n",
    "test_response_path='data/test_response.json'"
   ]
  },
  {
   "cell_type": "code",
   "execution_count": null,
   "metadata": {
    "collapsed": true
   },
   "outputs": [],
   "source": [
    "from __future__ import print_function, absolute_import, division\n",
    "\n",
    "import json\n",
    "import importlib\n",
    "import dill as pickle\n",
    "\n",
    "def test(pio_model_pkl_path, test_request_path, test_response_path):\n",
    "    with open(pio_model_pkl_path, 'rb') as fh:\n",
    "        pio_model = pickle.load(fh)\n",
    "    with open(test_request_path, 'rb') as fh:\n",
    "        actual_request = fh.read() \n",
    "    with open(test_response_path, 'rb') as fh:\n",
    "        expected_response = fh.read()\n",
    "    print('Expected Response:')\n",
    "    print(expected_response)\n",
    "    print('')\n",
    "    print('Actual Request:')\n",
    "    print(actual_request)\n",
    "    actual_response = pio_model.predict(actual_request)\n",
    "    print('')\n",
    "    print('Actual Response:')\n",
    "    print(actual_response)\n",
    "\n",
    "    return (json.loads(expected_response.decode('utf-8').strip()) \\\n",
    "            == json.loads(actual_response.strip()))"
   ]
  },
  {
   "cell_type": "code",
   "execution_count": null,
   "metadata": {},
   "outputs": [],
   "source": [
    "test_success = test(pio_model_pkl_path, \n",
    "                    test_request_path,\n",
    "                    test_response_path)\n",
    "\n",
    "print('')\n",
    "print('Test Success: %s' % test_success)"
   ]
  },
  {
   "cell_type": "code",
   "execution_count": null,
   "metadata": {},
   "outputs": [],
   "source": []
  },
  {
   "cell_type": "code",
   "execution_count": null,
   "metadata": {},
   "outputs": [],
   "source": []
  }
 ],
 "metadata": {
  "anaconda-cloud": {},
  "kernelspec": {
   "display_name": "Python [conda root]",
   "language": "python",
   "name": "conda-root-py"
  },
  "language_info": {
   "codemirror_mode": {
    "name": "ipython",
    "version": 3
   },
   "file_extension": ".py",
   "mimetype": "text/x-python",
   "name": "python",
   "nbconvert_exporter": "python",
   "pygments_lexer": "ipython3",
   "version": "3.5.3"
  }
 },
 "nbformat": 4,
 "nbformat_minor": 2
}
