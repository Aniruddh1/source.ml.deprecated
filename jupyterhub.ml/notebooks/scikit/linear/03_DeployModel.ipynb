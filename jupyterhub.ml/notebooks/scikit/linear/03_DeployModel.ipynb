{
 "cells": [
  {
   "cell_type": "markdown",
   "metadata": {},
   "source": [
    "# Deploy Model"
   ]
  },
  {
   "cell_type": "markdown",
   "metadata": {},
   "source": [
    "## Initialize CLI "
   ]
  },
  {
   "cell_type": "code",
   "execution_count": 1,
   "metadata": {},
   "outputs": [
    {
     "name": "stdout",
     "output_type": "stream",
     "text": [
      "Requirement already satisfied: pio-cli==0.58 in /opt/conda/lib/python3.5/site-packages\n",
      "Requirement already satisfied: fire==0.1.0 in /opt/conda/lib/python3.5/site-packages (from pio-cli==0.58)\n",
      "Requirement already satisfied: kubernetes==2.0.0 in /opt/conda/lib/python3.5/site-packages (from pio-cli==0.58)\n",
      "Requirement already satisfied: pyyaml==3.12 in /opt/conda/lib/python3.5/site-packages (from pio-cli==0.58)\n",
      "Requirement already satisfied: dill==0.2.5 in /opt/conda/lib/python3.5/site-packages (from pio-cli==0.58)\n",
      "Requirement already satisfied: requests==2.13.0 in /opt/conda/lib/python3.5/site-packages (from pio-cli==0.58)\n",
      "Requirement already satisfied: pick==0.6.3 in /opt/conda/lib/python3.5/site-packages (from pio-cli==0.58)\n",
      "Requirement already satisfied: ipython in /opt/conda/lib/python3.5/site-packages (from fire==0.1.0->pio-cli==0.58)\n",
      "Requirement already satisfied: six in /opt/conda/lib/python3.5/site-packages (from fire==0.1.0->pio-cli==0.58)\n",
      "Requirement already satisfied: certifi in /opt/conda/lib/python3.5/site-packages (from kubernetes==2.0.0->pio-cli==0.58)\n",
      "Requirement already satisfied: ipaddress in /opt/conda/lib/python3.5/site-packages (from kubernetes==2.0.0->pio-cli==0.58)\n",
      "Requirement already satisfied: oauth2client in /opt/conda/lib/python3.5/site-packages (from kubernetes==2.0.0->pio-cli==0.58)\n",
      "Requirement already satisfied: setuptools in /opt/conda/lib/python3.5/site-packages (from kubernetes==2.0.0->pio-cli==0.58)\n",
      "Requirement already satisfied: python-dateutil in /opt/conda/lib/python3.5/site-packages (from kubernetes==2.0.0->pio-cli==0.58)\n",
      "Requirement already satisfied: urllib3!=1.21 in /opt/conda/lib/python3.5/site-packages (from kubernetes==2.0.0->pio-cli==0.58)\n",
      "Requirement already satisfied: websocket-client in /opt/conda/lib/python3.5/site-packages (from kubernetes==2.0.0->pio-cli==0.58)\n",
      "Requirement already satisfied: rsa>=3.1.4 in /opt/conda/lib/python3.5/site-packages (from oauth2client->kubernetes==2.0.0->pio-cli==0.58)\n",
      "Requirement already satisfied: pyasn1>=0.1.7 in /opt/conda/lib/python3.5/site-packages (from oauth2client->kubernetes==2.0.0->pio-cli==0.58)\n",
      "Requirement already satisfied: pyasn1-modules>=0.0.5 in /opt/conda/lib/python3.5/site-packages (from oauth2client->kubernetes==2.0.0->pio-cli==0.58)\n",
      "Requirement already satisfied: httplib2>=0.9.1 in /opt/conda/lib/python3.5/site-packages (from oauth2client->kubernetes==2.0.0->pio-cli==0.58)\n",
      "Requirement already satisfied: packaging>=16.8 in /opt/conda/lib/python3.5/site-packages (from setuptools->kubernetes==2.0.0->pio-cli==0.58)\n",
      "Requirement already satisfied: appdirs>=1.4.0 in /opt/conda/lib/python3.5/site-packages (from setuptools->kubernetes==2.0.0->pio-cli==0.58)\n",
      "Requirement already satisfied: pyparsing in /opt/conda/lib/python3.5/site-packages (from packaging>=16.8->setuptools->kubernetes==2.0.0->pio-cli==0.58)\n"
     ]
    }
   ],
   "source": [
    "%%bash\n",
    "\n",
    "pip install pio-cli==0.58"
   ]
  },
  {
   "cell_type": "code",
   "execution_count": 2,
   "metadata": {
    "collapsed": true
   },
   "outputs": [
    {
     "name": "stdout",
     "output_type": "stream",
     "text": [
      "\n",
      "\n",
      "{'model_input_mime_type': 'application/json',\n",
      " 'model_name': 'python3_zscore',\n",
      " 'model_namespace': 'default',\n",
      " 'model_output_mime_type': 'application/json',\n",
      " 'model_path': '/root/volumes/source.ml/jupyterhub.ml/notebooks/python3/zscore',\n",
      " 'model_server_url': 'http://prediction-python3.community.pipeline.io',\n",
      " 'model_test_request_path': None,\n",
      " 'model_type': 'python3',\n",
      " 'model_version': 'v0',\n",
      " 'pio_api_version': 'v1',\n",
      " 'pio_git_home': 'https://github.com/fluxcapacitor/pipeline/',\n",
      " 'pio_git_version': 'v1.2.0'}\n",
      "\n"
     ]
    }
   ],
   "source": [
    "%%bash \n",
    "\n",
    "pio init-model \\\n",
    "  --model-server-url http://prediction-python3.community.pipeline.io/ \\\n",
    "  --model-type python3 \\\n",
    "  --model-namespace default \\\n",
    "  --model-name python3_zscore \\\n",
    "  --model-version v0 \\\n",
    "  --model-path ."
   ]
  },
  {
   "cell_type": "markdown",
   "metadata": {},
   "source": [
    "## Deploy Model"
   ]
  },
  {
   "cell_type": "code",
   "execution_count": 3,
   "metadata": {
    "collapsed": true
   },
   "outputs": [
    {
     "name": "stdout",
     "output_type": "stream",
     "text": [
      "model_server_url: http://prediction-python3.community.pipeline.io\n",
      "model_type: python3\n",
      "model_namespace: default\n",
      "model_name: python3_zscore\n",
      "model_version: v0\n",
      "model_path: /root/volumes/source.ml/jupyterhub.ml/notebooks/python3/zscore\n",
      "\n",
      "Compressing model bundle '/root/volumes/source.ml/jupyterhub.ml/notebooks/python3/zscore' into 'bundle-python3-default-python3_zscore-v0.tar.gz'.\n",
      "\n",
      "\n",
      "Deploying model 'bundle-python3-default-python3_zscore-v0.tar.gz' to 'http://prediction-python3.community.pipeline.io/api/v1/model/deploy/python3/default/python3_zscore/v0'.\n",
      "\n",
      "'Model successfully deployed!'\n",
      "\n",
      "Success!\n",
      "\n",
      "Predict with 'pio predict' or POST to 'http://prediction-python3.community.pipeline.io/api/v1/model/predict/python3/default/python3_zscore/v0'\n",
      "\n",
      "\n",
      "Cleaning up compressed model bundle 'bundle-python3-default-python3_zscore-v0.tar.gz'...\n",
      "\n"
     ]
    }
   ],
   "source": [
    "%%bash\n",
    "\n",
    "pio deploy"
   ]
  },
  {
   "cell_type": "code",
   "execution_count": null,
   "metadata": {},
   "outputs": [],
   "source": []
  },
  {
   "cell_type": "markdown",
   "metadata": {},
   "source": [
    "### Deployment Option 2:  REST API"
   ]
  },
  {
   "cell_type": "code",
   "execution_count": null,
   "metadata": {
    "collapsed": false
   },
   "outputs": [],
   "source": [
    "import requests\n",
    "\n",
    "deploy_url = 'http://prediction-python3.demo.pipeline.io/api/v1/model/deploy/pmml/rest/airbnb/v0'\n",
    "\n",
    "files = {'file': open('airbnb.model', 'rb')}\n",
    "\n",
    "response = requests.post(deploy_url, files=files)\n",
    "\n",
    "print(\"Success! %s\" % response.text)"
   ]
  },
  {
   "cell_type": "markdown",
   "metadata": {},
   "source": [
    "### Predict with REST"
   ]
  }
 ],
 "metadata": {
  "anaconda-cloud": {},
  "kernelspec": {
   "display_name": "Python [conda root]",
   "language": "python",
   "name": "conda-root-py"
  },
  "language_info": {
   "codemirror_mode": {
    "name": "ipython",
    "version": 3
   },
   "file_extension": ".py",
   "mimetype": "text/x-python",
   "name": "python",
   "nbconvert_exporter": "python",
   "pygments_lexer": "ipython3",
   "version": "3.5.3"
  }
 },
 "nbformat": 4,
 "nbformat_minor": 2
}
