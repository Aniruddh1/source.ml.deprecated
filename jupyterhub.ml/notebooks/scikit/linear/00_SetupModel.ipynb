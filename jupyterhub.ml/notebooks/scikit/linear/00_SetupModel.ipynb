{
 "cells": [
  {
   "cell_type": "code",
   "execution_count": 1,
   "metadata": {},
   "outputs": [
    {
     "name": "stdout",
     "output_type": "stream",
     "text": [
      "Fetching package metadata ...........\n",
      "Solving package specifications: .\n",
      "\n",
      "Package plan for installation in environment /opt/conda:\n",
      "\n",
      "The following packages will be UPDATED:\n",
      "\n",
      "    conda: 4.3.21-py35_0 --> 4.3.22-py35_0\n",
      "\n",
      "conda-4.3.22-p   0% |                              | ETA:  --:--:--   0.00  B/s\r",
      "conda-4.3.22-p   3% |                               | ETA:  0:00:02 253.89 kB/s\r",
      "conda-4.3.22-p   6% |#                              | ETA:  0:00:01 494.62 kB/s\r",
      "conda-4.3.22-p   9% |##                             | ETA:  0:00:01 376.43 kB/s\r",
      "conda-4.3.22-p  12% |###                            | ETA:  0:00:00 499.04 kB/s\r",
      "conda-4.3.22-p  15% |####                           | ETA:  0:00:00 616.28 kB/s\r",
      "conda-4.3.22-p  18% |#####                          | ETA:  0:00:00 498.60 kB/s\r",
      "conda-4.3.22-p  21% |######                         | ETA:  0:00:00 579.56 kB/s\r",
      "conda-4.3.22-p  24% |#######                        | ETA:  0:00:00 660.13 kB/s\r",
      "conda-4.3.22-p  27% |########                       | ETA:  0:00:00 741.31 kB/s\r",
      "conda-4.3.22-p  31% |#########                      | ETA:  0:00:00 622.45 kB/s\r",
      "conda-4.3.22-p  34% |##########                     | ETA:  0:00:00 680.14 kB/s\r",
      "conda-4.3.22-p  37% |###########                    | ETA:  0:00:00 740.30 kB/s\r",
      "conda-4.3.22-p  40% |############                   | ETA:  0:00:00 800.50 kB/s\r",
      "conda-4.3.22-p  43% |#############                  | ETA:  0:00:00 860.01 kB/s\r",
      "conda-4.3.22-p  46% |##############                 | ETA:  0:00:00 918.31 kB/s\r",
      "conda-4.3.22-p  49% |###############                | ETA:  0:00:00 978.40 kB/s\r",
      "conda-4.3.22-p  52% |################               | ETA:  0:00:00   1.04 MB/s\r",
      "conda-4.3.22-p  55% |#################              | ETA:  0:00:00 898.45 kB/s\r",
      "conda-4.3.22-p  58% |##################             | ETA:  0:00:00 946.88 kB/s\r",
      "conda-4.3.22-p  62% |###################            | ETA:  0:00:00 994.08 kB/s\r",
      "conda-4.3.22-p  65% |####################           | ETA:  0:00:00   1.04 MB/s\r",
      "conda-4.3.22-p  68% |#####################          | ETA:  0:00:00   1.09 MB/s\r",
      "conda-4.3.22-p  71% |######################         | ETA:  0:00:00   1.14 MB/s\r",
      "conda-4.3.22-p  74% |#######################        | ETA:  0:00:00   1.18 MB/s\r",
      "conda-4.3.22-p  77% |########################       | ETA:  0:00:00   1.23 MB/s\r",
      "conda-4.3.22-p  80% |########################       | ETA:  0:00:00   1.28 MB/s\r",
      "conda-4.3.22-p  83% |#########################      | ETA:  0:00:00   1.33 MB/s\r",
      "conda-4.3.22-p  86% |##########################     | ETA:  0:00:00   1.16 MB/s\r",
      "conda-4.3.22-p  89% |###########################    | ETA:  0:00:00   1.20 MB/s\r",
      "conda-4.3.22-p  93% |############################   | ETA:  0:00:00   1.24 MB/s\r",
      "conda-4.3.22-p  96% |#############################  | ETA:  0:00:00   1.27 MB/s\r",
      "conda-4.3.22-p  99% |############################## | ETA:  0:00:00   1.31 MB/s\r",
      "conda-4.3.22-p 100% |###############################| Time: 0:00:00   1.32 MB/s\r\n",
      "Requirement already satisfied: pio-cli==0.64 in /opt/conda/lib/python3.5/site-packages (from -r ./requirements.txt (line 1))\n",
      "Requirement already satisfied: tabulate==0.7.7 in /opt/conda/lib/python3.5/site-packages (from pio-cli==0.64->-r ./requirements.txt (line 1))\n",
      "Requirement already satisfied: requests==2.13.0 in /opt/conda/lib/python3.5/site-packages (from pio-cli==0.64->-r ./requirements.txt (line 1))\n",
      "Requirement already satisfied: dill==0.2.5 in /opt/conda/lib/python3.5/site-packages (from pio-cli==0.64->-r ./requirements.txt (line 1))\n",
      "Requirement already satisfied: kubernetes==2.0.0 in /opt/conda/lib/python3.5/site-packages (from pio-cli==0.64->-r ./requirements.txt (line 1))\n",
      "Requirement already satisfied: pyyaml==3.12 in /opt/conda/lib/python3.5/site-packages (from pio-cli==0.64->-r ./requirements.txt (line 1))\n",
      "Requirement already satisfied: fire==0.1.0 in /opt/conda/lib/python3.5/site-packages (from pio-cli==0.64->-r ./requirements.txt (line 1))\n",
      "Requirement already satisfied: ipaddress in /opt/conda/lib/python3.5/site-packages (from kubernetes==2.0.0->pio-cli==0.64->-r ./requirements.txt (line 1))\n",
      "Requirement already satisfied: six in /opt/conda/lib/python3.5/site-packages (from kubernetes==2.0.0->pio-cli==0.64->-r ./requirements.txt (line 1))\n",
      "Requirement already satisfied: python-dateutil in /opt/conda/lib/python3.5/site-packages (from kubernetes==2.0.0->pio-cli==0.64->-r ./requirements.txt (line 1))\n",
      "Requirement already satisfied: oauth2client in /opt/conda/lib/python3.5/site-packages (from kubernetes==2.0.0->pio-cli==0.64->-r ./requirements.txt (line 1))\n",
      "Requirement already satisfied: certifi in /opt/conda/lib/python3.5/site-packages (from kubernetes==2.0.0->pio-cli==0.64->-r ./requirements.txt (line 1))\n",
      "Requirement already satisfied: websocket-client in /opt/conda/lib/python3.5/site-packages (from kubernetes==2.0.0->pio-cli==0.64->-r ./requirements.txt (line 1))\n",
      "Requirement already satisfied: urllib3!=1.21 in /opt/conda/lib/python3.5/site-packages (from kubernetes==2.0.0->pio-cli==0.64->-r ./requirements.txt (line 1))\n",
      "Requirement already satisfied: setuptools in /opt/conda/lib/python3.5/site-packages (from kubernetes==2.0.0->pio-cli==0.64->-r ./requirements.txt (line 1))\n",
      "Requirement already satisfied: ipython in /opt/conda/lib/python3.5/site-packages (from fire==0.1.0->pio-cli==0.64->-r ./requirements.txt (line 1))\n",
      "Requirement already satisfied: rsa>=3.1.4 in /opt/conda/lib/python3.5/site-packages (from oauth2client->kubernetes==2.0.0->pio-cli==0.64->-r ./requirements.txt (line 1))\n",
      "Requirement already satisfied: httplib2>=0.9.1 in /opt/conda/lib/python3.5/site-packages (from oauth2client->kubernetes==2.0.0->pio-cli==0.64->-r ./requirements.txt (line 1))\n",
      "Requirement already satisfied: pyasn1>=0.1.7 in /opt/conda/lib/python3.5/site-packages (from oauth2client->kubernetes==2.0.0->pio-cli==0.64->-r ./requirements.txt (line 1))\n",
      "Requirement already satisfied: pyasn1-modules>=0.0.5 in /opt/conda/lib/python3.5/site-packages (from oauth2client->kubernetes==2.0.0->pio-cli==0.64->-r ./requirements.txt (line 1))\n"
     ]
    }
   ],
   "source": [
    "%%bash\n",
    "\n",
    "[ -s ./requirements_conda.txt ] && conda install --yes --file ./requirements_conda.txt\n",
    "\n",
    "[ -s ./requirements.txt ] && pip install -r ./requirements.txt"
   ]
  },
  {
   "cell_type": "code",
   "execution_count": null,
   "metadata": {
    "collapsed": true
   },
   "outputs": [],
   "source": []
  }
 ],
 "metadata": {
  "anaconda-cloud": {},
  "kernelspec": {
   "display_name": "Python [default]",
   "language": "python",
   "name": "python3"
  },
  "language_info": {
   "codemirror_mode": {
    "name": "ipython",
    "version": 3
   },
   "file_extension": ".py",
   "mimetype": "text/x-python",
   "name": "python",
   "nbconvert_exporter": "python",
   "pygments_lexer": "ipython3",
   "version": "3.5.3"
  }
 },
 "nbformat": 4,
 "nbformat_minor": 2
}
