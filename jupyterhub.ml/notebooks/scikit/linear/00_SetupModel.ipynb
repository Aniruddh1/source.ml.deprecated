{
 "cells": [
  {
   "cell_type": "code",
   "execution_count": 2,
   "metadata": {},
   "outputs": [
    {
     "name": "stdout",
     "output_type": "stream",
     "text": [
      "Fetching package metadata ...........\n",
      "Solving package specifications: .\n",
      "\n",
      "# All requested packages already installed.\n",
      "# packages in environment at /opt/conda:\n",
      "#\n",
      "dill                      0.2.5                    py35_0  \n",
      "numpy                     1.11.2                   py35_0  \n",
      "pandas                    0.19.2              np111py35_1  \n",
      "scikit-learn              0.18.1              np111py35_0  \n",
      "ujson                     1.35                     py35_0  \n",
      "Requirement already satisfied: pio-cli==0.64 in /opt/conda/lib/python3.5/site-packages (from -r ./requirements.txt (line 1))\n",
      "Requirement already satisfied: requests==2.13.0 in /opt/conda/lib/python3.5/site-packages (from pio-cli==0.64->-r ./requirements.txt (line 1))\n",
      "Requirement already satisfied: kubernetes==2.0.0 in /opt/conda/lib/python3.5/site-packages (from pio-cli==0.64->-r ./requirements.txt (line 1))\n",
      "Requirement already satisfied: fire==0.1.0 in /opt/conda/lib/python3.5/site-packages (from pio-cli==0.64->-r ./requirements.txt (line 1))\n",
      "Requirement already satisfied: dill==0.2.5 in /opt/conda/lib/python3.5/site-packages (from pio-cli==0.64->-r ./requirements.txt (line 1))\n",
      "Requirement already satisfied: pyyaml==3.12 in /opt/conda/lib/python3.5/site-packages (from pio-cli==0.64->-r ./requirements.txt (line 1))\n",
      "Requirement already satisfied: tabulate==0.7.7 in /opt/conda/lib/python3.5/site-packages (from pio-cli==0.64->-r ./requirements.txt (line 1))\n",
      "Requirement already satisfied: ipaddress in /opt/conda/lib/python3.5/site-packages (from kubernetes==2.0.0->pio-cli==0.64->-r ./requirements.txt (line 1))\n",
      "Requirement already satisfied: python-dateutil in /opt/conda/lib/python3.5/site-packages (from kubernetes==2.0.0->pio-cli==0.64->-r ./requirements.txt (line 1))\n",
      "Requirement already satisfied: oauth2client in /opt/conda/lib/python3.5/site-packages (from kubernetes==2.0.0->pio-cli==0.64->-r ./requirements.txt (line 1))\n",
      "Requirement already satisfied: six in /opt/conda/lib/python3.5/site-packages (from kubernetes==2.0.0->pio-cli==0.64->-r ./requirements.txt (line 1))\n",
      "Requirement already satisfied: setuptools in /opt/conda/lib/python3.5/site-packages (from kubernetes==2.0.0->pio-cli==0.64->-r ./requirements.txt (line 1))\n",
      "Requirement already satisfied: certifi in /opt/conda/lib/python3.5/site-packages (from kubernetes==2.0.0->pio-cli==0.64->-r ./requirements.txt (line 1))\n",
      "Requirement already satisfied: urllib3!=1.21 in /opt/conda/lib/python3.5/site-packages (from kubernetes==2.0.0->pio-cli==0.64->-r ./requirements.txt (line 1))\n",
      "Requirement already satisfied: websocket-client in /opt/conda/lib/python3.5/site-packages (from kubernetes==2.0.0->pio-cli==0.64->-r ./requirements.txt (line 1))\n",
      "Requirement already satisfied: ipython in /opt/conda/lib/python3.5/site-packages (from fire==0.1.0->pio-cli==0.64->-r ./requirements.txt (line 1))\n",
      "Requirement already satisfied: rsa>=3.1.4 in /opt/conda/lib/python3.5/site-packages (from oauth2client->kubernetes==2.0.0->pio-cli==0.64->-r ./requirements.txt (line 1))\n",
      "Requirement already satisfied: pyasn1>=0.1.7 in /opt/conda/lib/python3.5/site-packages (from oauth2client->kubernetes==2.0.0->pio-cli==0.64->-r ./requirements.txt (line 1))\n",
      "Requirement already satisfied: pyasn1-modules>=0.0.5 in /opt/conda/lib/python3.5/site-packages (from oauth2client->kubernetes==2.0.0->pio-cli==0.64->-r ./requirements.txt (line 1))\n",
      "Requirement already satisfied: httplib2>=0.9.1 in /opt/conda/lib/python3.5/site-packages (from oauth2client->kubernetes==2.0.0->pio-cli==0.64->-r ./requirements.txt (line 1))\n"
     ]
    }
   ],
   "source": [
    "%%bash\n",
    "\n",
    "[ -s ./requirements_conda.txt ] && conda install --yes --file ./requirements_conda.txt\n",
    "\n",
    "[ -s ./requirements.txt ] && pip install -r ./requirements.txt"
   ]
  },
  {
   "cell_type": "code",
   "execution_count": null,
   "metadata": {
    "collapsed": true
   },
   "outputs": [],
   "source": []
  }
 ],
 "metadata": {
  "anaconda-cloud": {},
  "kernelspec": {
   "display_name": "Python [default]",
   "language": "python",
   "name": "python3"
  },
  "language_info": {
   "codemirror_mode": {
    "name": "ipython",
    "version": 3
   },
   "file_extension": ".py",
   "mimetype": "text/x-python",
   "name": "python",
   "nbconvert_exporter": "python",
   "pygments_lexer": "ipython3",
   "version": "3.5.3"
  }
 },
 "nbformat": 4,
 "nbformat_minor": 2
}
