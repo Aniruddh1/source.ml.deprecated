{
 "cells": [
  {
   "cell_type": "markdown",
   "metadata": {},
   "source": [
    "# Test Model (Locally)"
   ]
  },
  {
   "cell_type": "code",
   "execution_count": 30,
   "metadata": {
    "collapsed": true
   },
   "outputs": [],
   "source": [
    "from __future__ import print_function, absolute_import, division\n",
    "\n",
    "import json\n",
    "import importlib\n",
    "import dill as pickle\n",
    "\n",
    "def test(model_path, test_request_path, test_response_path):\n",
    "    with open(model_path, 'rb') as fh:\n",
    "        model = pickle.load(fh)\n",
    "    with open(test_request_path, 'rb') as fh:\n",
    "        actual_request = fh.read() \n",
    "    with open(test_response_path, 'rb') as fh:\n",
    "        expected_response = fh.read()\n",
    "    print('Expected Response:')\n",
    "    print(expected_response)\n",
    "    model.setup()\n",
    "\n",
    "    actual_response = model.predict(actual_request)\n",
    "    print('')\n",
    "    print('Actual Response:')\n",
    "    print(actual_response)\n",
    "\n",
    "    return (json.loads(expected_response.decode('utf-8').strip()) \\\n",
    "            == json.loads(actual_transformed_response.strip()))"
   ]
  },
  {
   "cell_type": "code",
   "execution_count": 31,
   "metadata": {},
   "outputs": [
    {
     "name": "stdout",
     "output_type": "stream",
     "text": [
      "Expected Response:\n",
      "b'[188.6431188435]\\n'\n"
     ]
    },
    {
     "ename": "NameError",
     "evalue": "name 'PioRequestTransformer' is not defined",
     "output_type": "error",
     "traceback": [
      "\u001b[0;31m---------------------------------------------------------------------------\u001b[0m",
      "\u001b[0;31mNameError\u001b[0m                                 Traceback (most recent call last)",
      "\u001b[0;32m<ipython-input-31-8a0c93a850a7>\u001b[0m in \u001b[0;36m<module>\u001b[0;34m()\u001b[0m\n\u001b[1;32m      5\u001b[0m test_success = test(model_pkl_path, \n\u001b[1;32m      6\u001b[0m                     \u001b[0mtest_request_path\u001b[0m\u001b[0;34m,\u001b[0m\u001b[0;34m\u001b[0m\u001b[0m\n\u001b[0;32m----> 7\u001b[0;31m                     test_response_path)\n\u001b[0m\u001b[1;32m      8\u001b[0m \u001b[0;34m\u001b[0m\u001b[0m\n\u001b[1;32m      9\u001b[0m \u001b[0mprint\u001b[0m\u001b[0;34m(\u001b[0m\u001b[0;34m''\u001b[0m\u001b[0;34m)\u001b[0m\u001b[0;34m\u001b[0m\u001b[0m\n",
      "\u001b[0;32m<ipython-input-30-3f460dd9571d>\u001b[0m in \u001b[0;36mtest\u001b[0;34m(model_path, test_request_path, test_response_path)\u001b[0m\n\u001b[1;32m     16\u001b[0m     \u001b[0mmodel\u001b[0m\u001b[0;34m.\u001b[0m\u001b[0msetup\u001b[0m\u001b[0;34m(\u001b[0m\u001b[0;34m)\u001b[0m\u001b[0;34m\u001b[0m\u001b[0m\n\u001b[1;32m     17\u001b[0m \u001b[0;34m\u001b[0m\u001b[0m\n\u001b[0;32m---> 18\u001b[0;31m     \u001b[0mactual_response\u001b[0m \u001b[0;34m=\u001b[0m \u001b[0mmodel\u001b[0m\u001b[0;34m.\u001b[0m\u001b[0mpredict\u001b[0m\u001b[0;34m(\u001b[0m\u001b[0mactual_request\u001b[0m\u001b[0;34m)\u001b[0m\u001b[0;34m\u001b[0m\u001b[0m\n\u001b[0m\u001b[1;32m     19\u001b[0m     \u001b[0mprint\u001b[0m\u001b[0;34m(\u001b[0m\u001b[0;34m''\u001b[0m\u001b[0;34m)\u001b[0m\u001b[0;34m\u001b[0m\u001b[0m\n\u001b[1;32m     20\u001b[0m     \u001b[0mprint\u001b[0m\u001b[0;34m(\u001b[0m\u001b[0;34m'Actual Response:'\u001b[0m\u001b[0;34m)\u001b[0m\u001b[0;34m\u001b[0m\u001b[0m\n",
      "\u001b[0;32m<ipython-input-111-e1119a2a14b1>\u001b[0m in \u001b[0;36mpredict\u001b[0;34m(self, request, *args, **kwargs)\u001b[0m\n",
      "\u001b[0;32m<ipython-input-108-31856d957ed8>\u001b[0m in \u001b[0;36mtransform_request\u001b[0;34m(self, request, *args, **kwargs)\u001b[0m\n",
      "\u001b[0;31mNameError\u001b[0m: name 'PioRequestTransformer' is not defined"
     ]
    }
   ],
   "source": [
    "model_pkl_path='model.pkl'\n",
    "test_request_path='data/test_request.json'\n",
    "test_response_path='data/test_response.json'\n",
    "\n",
    "test_success = test(model_pkl_path, \n",
    "                    test_request_path,\n",
    "                    test_response_path)\n",
    "\n",
    "print('')\n",
    "print('Test Success: %s' % test_success)"
   ]
  },
  {
   "cell_type": "code",
   "execution_count": null,
   "metadata": {},
   "outputs": [],
   "source": []
  },
  {
   "cell_type": "code",
   "execution_count": null,
   "metadata": {},
   "outputs": [],
   "source": []
  }
 ],
 "metadata": {
  "anaconda-cloud": {},
  "kernelspec": {
   "display_name": "Python [conda root]",
   "language": "python",
   "name": "conda-root-py"
  },
  "language_info": {
   "codemirror_mode": {
    "name": "ipython",
    "version": 3
   },
   "file_extension": ".py",
   "mimetype": "text/x-python",
   "name": "python",
   "nbconvert_exporter": "python",
   "pygments_lexer": "ipython3",
   "version": "3.5.3"
  }
 },
 "nbformat": 4,
 "nbformat_minor": 2
}
