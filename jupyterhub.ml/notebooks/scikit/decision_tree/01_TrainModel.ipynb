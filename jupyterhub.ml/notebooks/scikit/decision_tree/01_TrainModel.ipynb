{
 "cells": [
  {
   "cell_type": "code",
   "execution_count": null,
   "metadata": {},
   "outputs": [],
   "source": [
    "import sys\n",
    "import pandas as pd\n",
    "from sklearn.cross_validation import train_test_split\n",
    "from sklearn.tree import DecisionTreeClassifier\n",
    "import dill as pickle\n",
    "\n",
    "training_data = pd.read_csv('data/model_training.csv', sep=',', header=None)\n",
    "\n",
    "X = training_data.values[:, 1:5]\n",
    "Y = training_data.values[:, 0]\n",
    "\n",
    "X_train, X_test, y_train, y_test = train_test_split(X, Y, test_size=0.3, random_state=100)\n",
    "\n",
    "model = DecisionTreeClassifier(criterion=\"gini\", random_state=100, max_depth=3, min_samples_leaf=5)\n",
    "model.fit(X_train, y_train)\n"
   ]
  },
  {
   "cell_type": "markdown",
   "metadata": {},
   "source": [
    "## Save/Pickle Underlying Model as `model.pkl`"
   ]
  },
  {
   "cell_type": "code",
   "execution_count": null,
   "metadata": {
    "collapsed": true
   },
   "outputs": [],
   "source": [
    "import dill as pickle\n",
    "\n",
    "model_pkl_path = 'model.pkl'\n",
    "\n",
    "with open(model_pkl_path, 'wb') as fh:\n",
    "    pickle.dump(model, fh)"
   ]
  },
  {
   "cell_type": "code",
   "execution_count": null,
   "metadata": {},
   "outputs": [],
   "source": [
    "%%bash\n",
    "\n",
    "ls -l model.pkl"
   ]
  },
  {
   "cell_type": "markdown",
   "metadata": {},
   "source": [
    "## Initialize Model by Unpickling Underlying Model"
   ]
  },
  {
   "cell_type": "code",
   "execution_count": null,
   "metadata": {
    "collapsed": true
   },
   "outputs": [],
   "source": [
    "def initialize_model(model_pkl_path):\n",
    "    import dill as pickle\n",
    "\n",
    "    with open(model_pkl_path, 'rb') as fh:\n",
    "        model = pickle.load(fh)\n",
    "\n",
    "    return model            "
   ]
  },
  {
   "cell_type": "code",
   "execution_count": null,
   "metadata": {},
   "outputs": [],
   "source": [
    "model = initialize_model(model_pkl_path)\n",
    "print(model)"
   ]
  },
  {
   "cell_type": "markdown",
   "metadata": {},
   "source": [
    "## Transform `json` -> `nparray`"
   ]
  },
  {
   "cell_type": "code",
   "execution_count": null,
   "metadata": {
    "collapsed": true
   },
   "outputs": [],
   "source": [
    "def transform_request(request):\n",
    "    import ujson\n",
    "    import numpy as np    \n",
    "    request_str = request.decode('utf-8')\n",
    "    request_str = request_str.strip().replace('\\n', ',')\n",
    "    # surround the json with '[' ']' to prepare for conversion\n",
    "    request_str = '[%s]' % request_str\n",
    "    request_json = ujson.loads(request_str)\n",
    "\n",
    "    request_transformed = ([json_line['feature0'], \\\n",
    "                            json_line['feature1'], \\\n",
    "                            json_line['feature2'], \\\n",
    "                            json_line['feature3']] for json_line in request_json)\n",
    "    return np.array(request_transformed)"
   ]
  },
  {
   "cell_type": "markdown",
   "metadata": {},
   "source": [
    "## Transform `nparray` -> `json`"
   ]
  },
  {
   "cell_type": "code",
   "execution_count": null,
   "metadata": {
    "collapsed": true
   },
   "outputs": [],
   "source": [
    "def transform_response(response):\n",
    "    return ujson.dumps(response.tolist())"
   ]
  },
  {
   "cell_type": "code",
   "execution_count": null,
   "metadata": {
    "collapsed": true
   },
   "outputs": [],
   "source": [
    "def predict(model, \n",
    "            request):\n",
    "\n",
    "    return model.predict(request)"
   ]
  },
  {
   "cell_type": "code",
   "execution_count": null,
   "metadata": {
    "collapsed": true
   },
   "outputs": [],
   "source": [
    "class PioModel(object):\n",
    "    def __init__(self,\n",
    "                 transform_request,\n",
    "                 transform_response,\n",
    "                 model,\n",
    "                 predict):\n",
    "        self.transform_request = transform_request\n",
    "        self.transform_response = transform_response\n",
    "        self.model = model\n",
    "        self.predict = predict"
   ]
  },
  {
   "cell_type": "code",
   "execution_count": null,
   "metadata": {
    "collapsed": true
   },
   "outputs": [],
   "source": [
    "pio_model = PioModel(transform_request,\n",
    "                     transform_response,\n",
    "                     model,\n",
    "                     predict)"
   ]
  },
  {
   "cell_type": "markdown",
   "metadata": {},
   "source": [
    "## Save/Pickle `PioModel` as `pio_model.pkl`"
   ]
  },
  {
   "cell_type": "code",
   "execution_count": null,
   "metadata": {
    "collapsed": true
   },
   "outputs": [],
   "source": [
    "import dill as pickle\n",
    "\n",
    "pio_model_pkl_path = 'pio_model.pkl'\n",
    "\n",
    "with open(pio_model_pkl_path, 'wb') as fh:\n",
    "    pickle.dump(pio_model, fh)"
   ]
  },
  {
   "cell_type": "code",
   "execution_count": null,
   "metadata": {},
   "outputs": [],
   "source": [
    "%%bash \n",
    "\n",
    "ls -al pio_model.pkl"
   ]
  },
  {
   "cell_type": "code",
   "execution_count": null,
   "metadata": {
    "collapsed": true
   },
   "outputs": [],
   "source": []
  }
 ],
 "metadata": {
  "anaconda-cloud": {},
  "kernelspec": {
   "display_name": "Python [default]",
   "language": "python",
   "name": "python3"
  },
  "language_info": {
   "codemirror_mode": {
    "name": "ipython",
    "version": 3
   },
   "file_extension": ".py",
   "mimetype": "text/x-python",
   "name": "python",
   "nbconvert_exporter": "python",
   "pygments_lexer": "ipython3",
   "version": "3.5.3"
  }
 },
 "nbformat": 4,
 "nbformat_minor": 2
}
