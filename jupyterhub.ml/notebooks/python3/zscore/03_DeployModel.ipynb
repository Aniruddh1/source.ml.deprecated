{
 "cells": [
  {
   "cell_type": "markdown",
   "metadata": {},
   "source": [
    "# Deploy Model"
   ]
  },
  {
   "cell_type": "markdown",
   "metadata": {},
   "source": [
    "## Initialize CLI "
   ]
  },
  {
   "cell_type": "code",
   "execution_count": 10,
   "metadata": {
    "collapsed": true
   },
   "outputs": [
    {
     "name": "stdout",
     "output_type": "stream",
     "text": [
      "\n",
      "\n",
      "{'model_input_mime_type': 'application/json',\n",
      " 'model_name': 'python3_zscore',\n",
      " 'model_namespace': 'default',\n",
      " 'model_output_mime_type': 'application/json',\n",
      " 'model_path': '/root/volumes/source.ml/jupyterhub.ml/notebooks/python3/zscore',\n",
      " 'model_server_url': 'http://a26ed0f3a4b9211e7bd710a6676134e5-450475536.us-west-2.elb.amazonaws.com',\n",
      " 'model_test_request_path': None,\n",
      " 'model_type': 'python3',\n",
      " 'model_version': 'v1',\n",
      " 'pio_api_version': 'v1',\n",
      " 'pio_git_home': 'https://github.com/fluxcapacitor/pipeline/',\n",
      " 'pio_git_version': 'v1.2.0'}\n",
      "\n"
     ]
    }
   ],
   "source": [
    "%%bash \n",
    "\n",
    "%%pio\n",
    "\n",
    "pio init-model \\\n",
    "  --model-server-url http://a26ed0f3a4b9211e7bd710a6676134e5-450475536.us-west-2.elb.amazonaws.com \\\n",
    "  --model-experiment=my_first_experiment \\\n",
    "  --model-type python3 \\\n",
    "  --model-namespace default \\\n",
    "  --model-name python3_zscore \\\n",
    "  --model-version v1 \\\n",
    "  --model-path ."
   ]
  },
  {
   "cell_type": "markdown",
   "metadata": {},
   "source": [
    "## Deploy Model (CLI)"
   ]
  },
  {
   "cell_type": "code",
   "execution_count": 11,
   "metadata": {
    "collapsed": true
   },
   "outputs": [
    {
     "name": "stdout",
     "output_type": "stream",
     "text": [
      "model_server_url: http://a26ed0f3a4b9211e7bd710a6676134e5-450475536.us-west-2.elb.amazonaws.com\n",
      "model_type: python3\n",
      "model_namespace: default\n",
      "model_name: python3_zscore\n",
      "model_version: v1\n",
      "model_path: /root/volumes/source.ml/jupyterhub.ml/notebooks/python3/zscore\n",
      "\n",
      "Compressing model bundle '/root/volumes/source.ml/jupyterhub.ml/notebooks/python3/zscore' into 'bundle-python3-default-python3_zscore-v1.tar.gz'.\n",
      "\n",
      "\n",
      "Deploying model 'bundle-python3-default-python3_zscore-v1.tar.gz' to 'http://a26ed0f3a4b9211e7bd710a6676134e5-450475536.us-west-2.elb.amazonaws.com/api/v1/model/deploy/python3/default/python3_zscore/v1'.\n",
      "\n",
      "\n",
      "Success!\n",
      "\n",
      "Predict with 'pio predict' or POST to 'http://a26ed0f3a4b9211e7bd710a6676134e5-450475536.us-west-2.elb.amazonaws.com/api/v1/model/predict/python3/default/python3_zscore/v1'\n",
      "\n",
      "\n",
      "Cleaning up compressed model bundle 'bundle-python3-default-python3_zscore-v1.tar.gz'...\n",
      "\n"
     ]
    }
   ],
   "source": [
    "%%bash\n",
    "\n",
    "pio deploy"
   ]
  },
  {
   "cell_type": "markdown",
   "metadata": {},
   "source": [
    "## TODO: Deploy Model (REST)"
   ]
  },
  {
   "cell_type": "code",
   "execution_count": null,
   "metadata": {},
   "outputs": [],
   "source": []
  }
 ],
 "metadata": {
  "anaconda-cloud": {},
  "kernelspec": {
   "display_name": "Python [conda root]",
   "language": "python",
   "name": "conda-root-py"
  },
  "language_info": {
   "codemirror_mode": {
    "name": "ipython",
    "version": 3
   },
   "file_extension": ".py",
   "mimetype": "text/x-python",
   "name": "python",
   "nbconvert_exporter": "python",
   "pygments_lexer": "ipython3",
   "version": "3.5.3"
  }
 },
 "nbformat": 4,
 "nbformat_minor": 2
}
