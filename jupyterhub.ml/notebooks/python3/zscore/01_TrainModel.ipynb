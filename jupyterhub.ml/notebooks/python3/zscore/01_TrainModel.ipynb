{
 "cells": [
  {
   "cell_type": "markdown",
   "metadata": {},
   "source": [
    "## Train and Initialize My Model\n",
    "_Note:  Training isn't needed here.  Learned variables are passed in for demo purposes._\n"
   ]
  },
  {
   "cell_type": "code",
   "execution_count": null,
   "metadata": {
    "collapsed": true
   },
   "outputs": [],
   "source": [
    "def initialize_model(cat_mean, \n",
    "                     cat_stdv, \n",
    "                     dog_mean, \n",
    "                     dog_stdv):\n",
    "\n",
    "    model = {'cat_mean':cat_mean,\n",
    "             'cat_stdv':cat_stdv,\n",
    "             'dog_mean':dog_mean,\n",
    "             'dog_stdv':dog_stdv}\n",
    "\n",
    "    return model            "
   ]
  },
  {
   "cell_type": "code",
   "execution_count": null,
   "metadata": {
    "collapsed": true
   },
   "outputs": [],
   "source": [
    "model = initialize_model(0.1, 0.20, 0.3, 0.40)\n",
    "print(model)"
   ]
  },
  {
   "cell_type": "code",
   "execution_count": null,
   "metadata": {
    "collapsed": true
   },
   "outputs": [],
   "source": [
    "def transform_request(request):\n",
    "    import json        \n",
    "    request_str = request.decode('utf-8')\n",
    "    request_str = request_str.strip().replace('\\n', ',')\n",
    "    request_dict = json.loads(request_str)\n",
    "    return request_dict"
   ]
  },
  {
   "cell_type": "code",
   "execution_count": null,
   "metadata": {
    "collapsed": true
   },
   "outputs": [],
   "source": [
    "def transform_response(response):\n",
    "    import json\n",
    "\n",
    "    response_json = json.dumps(response)\n",
    "    return response_json"
   ]
  },
  {
   "cell_type": "code",
   "execution_count": null,
   "metadata": {
    "collapsed": true
   },
   "outputs": [],
   "source": [
    "def predict(model, request):\n",
    "\n",
    "    cat_affinity_score = sum([ d['weight'] * d['user_score'] for d in request if 'cat' in d['tags'] ])\n",
    "    dog_affinity_score = sum([ d['weight'] * d['user_score'] for d in request if 'dog' in d['tags'] ])\n",
    "\n",
    "    # create normalized z score for compare/classify\n",
    "    cat_zscore = (cat_affinity_score - model['cat_mean'])/model['cat_stdv']\n",
    "    dog_zscore = (dog_affinity_score - model['dog_mean'])/model['dog_stdv']\n",
    "\n",
    "    # classify\n",
    "    if abs(cat_zscore) > abs(dog_zscore):\n",
    "        if cat_zscore >= 0:\n",
    "            category = \"cat_lover\"\n",
    "        else:\n",
    "            category = \"cat_hater\"\n",
    "    else:\n",
    "        if dog_zscore >= 0:\n",
    "            category = \"dog_lover\"\n",
    "        else:\n",
    "            category = \"dog_hater\"\n",
    "\n",
    "    response = {\n",
    "        'category': category,\n",
    "        'cat_affinity_score': cat_affinity_score,\n",
    "        'dog_affinity_score': dog_affinity_score,\n",
    "        'cat_zscore': cat_zscore,\n",
    "        'cat_zscore': dog_zscore\n",
    "    }\n",
    "\n",
    "    return response"
   ]
  },
  {
   "cell_type": "code",
   "execution_count": null,
   "metadata": {
    "collapsed": true
   },
   "outputs": [],
   "source": [
    "class PioModel(object):\n",
    "    def __init__(self,\n",
    "                 transform_request,\n",
    "                 transform_response,\n",
    "                 model,\n",
    "                 predict):\n",
    "        self.transform_request = transform_request\n",
    "        self.transform_response = transform_response\n",
    "        self.model = model\n",
    "        self.predict = predict"
   ]
  },
  {
   "cell_type": "code",
   "execution_count": null,
   "metadata": {
    "collapsed": true
   },
   "outputs": [],
   "source": [
    "pio_model = PioModel(transform_request,\n",
    "                     transform_response,\n",
    "                     model,\n",
    "                     predict)"
   ]
  },
  {
   "cell_type": "markdown",
   "metadata": {},
   "source": [
    "## Save/Pickle Model as `pio_model.pkl`"
   ]
  },
  {
   "cell_type": "code",
   "execution_count": null,
   "metadata": {
    "collapsed": true
   },
   "outputs": [],
   "source": [
    "import dill as pickle\n",
    "\n",
    "pio_model_pkl_path = 'pio_model.pkl'\n",
    "\n",
    "with open(pio_model_pkl_path, 'wb') as fh:\n",
    "    pickle.dump(pio_model, fh)"
   ]
  },
  {
   "cell_type": "code",
   "execution_count": null,
   "metadata": {},
   "outputs": [],
   "source": [
    "%%bash\n",
    "\n",
    "ls -l pio_model.pkl"
   ]
  },
  {
   "cell_type": "code",
   "execution_count": null,
   "metadata": {
    "collapsed": true
   },
   "outputs": [],
   "source": []
  }
 ],
 "metadata": {
  "anaconda-cloud": {},
  "kernelspec": {
   "display_name": "Python [default]",
   "language": "python",
   "name": "python3"
  },
  "language_info": {
   "codemirror_mode": {
    "name": "ipython",
    "version": 3
   },
   "file_extension": ".py",
   "mimetype": "text/x-python",
   "name": "python",
   "nbconvert_exporter": "python",
   "pygments_lexer": "ipython3",
   "version": "3.5.3"
  }
 },
 "nbformat": 4,
 "nbformat_minor": 2
}
