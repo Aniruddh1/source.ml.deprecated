{
 "cells": [
  {
   "cell_type": "markdown",
   "metadata": {},
   "source": [
    "## `PioModelInitializer` Class\n",
    "Must implement the `initialize_model()` method."
   ]
  },
  {
   "cell_type": "code",
   "execution_count": null,
   "metadata": {},
   "outputs": [],
   "source": [
    "class PioModelInitializer(object):\n",
    "    def __init__(self, \n",
    "                 *args,\n",
    "                 **kwargs):        \n",
    "\n",
    "        pass\n",
    "\n",
    "    \n",
    "    def initialize_model(self,\n",
    "                        *args,\n",
    "                        **kwargs):\n",
    "\n",
    "        return"
   ]
  },
  {
   "cell_type": "markdown",
   "metadata": {},
   "source": [
    "## `PioRequestTransformer` Class\n",
    "Must implement the `transform_request()` method."
   ]
  },
  {
   "cell_type": "code",
   "execution_count": null,
   "metadata": {
    "collapsed": true
   },
   "outputs": [],
   "source": [
    "class PioRequestTransformer(object):\n",
    "    def __init__(self, \n",
    "                 *args,\n",
    "                 **kwargs):        \n",
    "        pass\n",
    "    \n",
    "    \n",
    "    def transform_request(self,\n",
    "                          request,\n",
    "                          *args,\n",
    "                          **kwargs):\n",
    "        return request"
   ]
  },
  {
   "cell_type": "markdown",
   "metadata": {},
   "source": [
    "## `PioResponseTransformer` Class\n",
    "Must implement the `transform_response()` method."
   ]
  },
  {
   "cell_type": "code",
   "execution_count": null,
   "metadata": {
    "collapsed": true
   },
   "outputs": [],
   "source": [
    "class PioResponseTransformer(object):\n",
    "    def __init__(self, \n",
    "                 *args,\n",
    "                 **kwargs):        \n",
    "        pass\n",
    "    \n",
    "    \n",
    "    def transform_response(self,\n",
    "                           response,\n",
    "                           *args,\n",
    "                           **kwargs):\n",
    "        return response"
   ]
  },
  {
   "cell_type": "markdown",
   "metadata": {},
   "source": [
    "## `PioModel` Class\n",
    "Must implement the `predict()` method."
   ]
  },
  {
   "cell_type": "code",
   "execution_count": null,
   "metadata": {
    "collapsed": true
   },
   "outputs": [],
   "source": [
    "class PioModel(object):\n",
    "\n",
    "    def __init__(self, \n",
    "                 request_transformer, \n",
    "                 response_transformer,\n",
    "                 model_initializer,\n",
    "                 *args,\n",
    "                 **kwargs):\n",
    "\n",
    "        self.request_transformer = request_transformer\n",
    "        self.response_transformer = response_transformer\n",
    "\n",
    "        self.model_initializer = model_initializer\n",
    "        self.model = self.model_initializer.initialize_model(args,\n",
    "                                                             kwargs)\n",
    "\n",
    "        \n",
    "    def predict(self, \n",
    "                request,\n",
    "                *args,\n",
    "                **kwargs):\n",
    "\n",
    "        return"
   ]
  },
  {
   "cell_type": "markdown",
   "metadata": {},
   "source": [
    "## `MyResponseTransformer` Class\n",
    "Extends `PioResponseTransformer` class.  Must implement the `transform_response()` method."
   ]
  },
  {
   "cell_type": "markdown",
   "metadata": {},
   "source": [
    "### Convert `json` -> `dict`"
   ]
  },
  {
   "cell_type": "code",
   "execution_count": null,
   "metadata": {},
   "outputs": [],
   "source": [
    "class MyRequestTransformer(PioRequestTransformer):        \n",
    "    def __init__(self, \n",
    "                 *args,\n",
    "                 **kwargs):\n",
    "        \n",
    "        PioRequestTransformer.__init__(self, \n",
    "                                       args, \n",
    "                                       kwargs)\n",
    "\n",
    "        \n",
    "    def transform_request(self,\n",
    "                          request,\n",
    "                          *args,\n",
    "                          **kwargs):\n",
    "        \n",
    "        request_str = request.decode('utf-8')\n",
    "        request_str = request_str.strip().replace('\\n', ',')\n",
    "        request_dict = json.loads(request_str)\n",
    "        return request_dict"
   ]
  },
  {
   "cell_type": "markdown",
   "metadata": {},
   "source": [
    "## Create Response Transformer\n",
    "Must have a `transform_response()` method."
   ]
  },
  {
   "cell_type": "markdown",
   "metadata": {},
   "source": [
    "### Convert `dict` -> `json`"
   ]
  },
  {
   "cell_type": "code",
   "execution_count": null,
   "metadata": {
    "collapsed": true
   },
   "outputs": [],
   "source": [
    "class MyResponseTransformer(PioResponseTransformer):\n",
    "\n",
    "    def transform_response(self,\n",
    "                           response):\n",
    "        response_json = json.dumps(response)\n",
    "        return response_json"
   ]
  },
  {
   "cell_type": "markdown",
   "metadata": {},
   "source": [
    "## Train My Model"
   ]
  },
  {
   "cell_type": "code",
   "execution_count": null,
   "metadata": {},
   "outputs": [],
   "source": [
    "## No training is needed.  \"Learned Variables\" are hard-coded in this example."
   ]
  },
  {
   "cell_type": "markdown",
   "metadata": {},
   "source": [
    "## Create Model Initializer\n",
    "Must implement the `initialize_model()` method"
   ]
  },
  {
   "cell_type": "code",
   "execution_count": null,
   "metadata": {},
   "outputs": [],
   "source": [
    "class MyModelInitializer(PioModelInitializer): \n",
    "\n",
    "    def __init__(self,\n",
    "                 *args,\n",
    "                 **kwargs):\n",
    "\n",
    "        PioModelInitializer.__init__(self, \n",
    "                                     args, \n",
    "                                     kwargs)\n",
    "\n",
    "        \n",
    "    def initialize_model(self,                        \n",
    "                         *args,\n",
    "                         **kwargs):\n",
    "\n",
    "        PioModelInitializer.initialize_model(self, \n",
    "                                             args, \n",
    "                                             kwargs)\n",
    "\n",
    "        model = {'cat_mean':0.1,\n",
    "                 'cat_stdv':0.20,\n",
    "                 'dog_mean':0.3,\n",
    "                 'dog_stdv':0.40}\n",
    "        \n",
    "        return model            "
   ]
  },
  {
   "cell_type": "markdown",
   "metadata": {},
   "source": [
    "## `MyModel` Class\n",
    "Extends `PioModel` class.  Must implement `predict()` method."
   ]
  },
  {
   "cell_type": "code",
   "execution_count": null,
   "metadata": {
    "collapsed": true
   },
   "outputs": [],
   "source": [
    "class MyModel(PioModel):\n",
    "\n",
    "    def __init__(self, \n",
    "                 request_transformer, \n",
    "                 response_transformer,\n",
    "                 model_initializer,\n",
    "                 *args,\n",
    "                 **kwargs):\n",
    "\n",
    "        PioModel.__init__(self,\n",
    "                          request_transformer,\n",
    "                          response_transformer,\n",
    "                          model_initializer,\n",
    "                          args,\n",
    "                          kwargs)\n",
    "\n",
    "    \n",
    "    def predict(self, \n",
    "                request):\n",
    "        transformed_request = self.request_transformer.transform_request(request)\n",
    "\n",
    "        cat_affinity_score = sum([ d['weight'] * d['user_score'] for d in transformed_request if 'cat' in d['tags'] ])\n",
    "        dog_affinity_score = sum([ d['weight'] * d['user_score'] for d in transformed_request if 'dog' in d['tags'] ])\n",
    "\n",
    "        # create normalized z score for compare/classify\n",
    "        cat_zscore = (cat_affinity_score - self.model['cat_mean'])/self.model['cat_stdv']\n",
    "        dog_zscore = (dog_affinity_score - self.model['dog_mean'])/self.model['dog_stdv']\n",
    "\n",
    "        # classify\n",
    "        if abs(cat_zscore) > abs(dog_zscore):\n",
    "            if cat_zscore >= 0:\n",
    "                category = \"cat_lover\"\n",
    "            else:\n",
    "                category = \"cat_hater\"\n",
    "        else:\n",
    "            if dog_zscore >= 0:\n",
    "                category = \"dog_lover\"\n",
    "            else:\n",
    "                category = \"dog_hater\"\n",
    "\n",
    "        response = {\n",
    "            'category': category,\n",
    "            'cat_affinity_score': cat_affinity_score,\n",
    "            'dog_affinity_score': dog_affinity_score,\n",
    "            'cat_zscore': cat_zscore,\n",
    "            'cat_zscore': dog_zscore\n",
    "        }\n",
    "\n",
    "        transformed_response = self.response_transformer.transform_response(response)\n",
    "        return transformed_response"
   ]
  },
  {
   "cell_type": "markdown",
   "metadata": {},
   "source": [
    "## Construct `MyModel`\n",
    "Inject Model with Request Transformer, Response Transformer, and Model Initializer\n",
    "```\n",
    "MyModel(`MyRequestTransformer`, `MyResponseTransformer`, `MyModelInitializer`)\n",
    "```"
   ]
  },
  {
   "cell_type": "code",
   "execution_count": null,
   "metadata": {},
   "outputs": [],
   "source": [
    "pio_model = MyModel(MyRequestTransformer(),\n",
    "                MyResponseTransformer(), \n",
    "                MyModelInitializer())"
   ]
  },
  {
   "cell_type": "markdown",
   "metadata": {},
   "source": [
    "## Save/Pickle Model as `pio_model.pkl`"
   ]
  },
  {
   "cell_type": "code",
   "execution_count": null,
   "metadata": {},
   "outputs": [],
   "source": [
    "import dill as pickle\n",
    "\n",
    "pio_model_pkl_path = 'pio_model.pkl'\n",
    "\n",
    "with open(pio_model_pkl_path, 'wb') as fh:\n",
    "    pickle.dump(pio_model, fh)"
   ]
  },
  {
   "cell_type": "code",
   "execution_count": null,
   "metadata": {},
   "outputs": [],
   "source": [
    "import subprocess\n",
    "\n",
    "output = subprocess.check_output('ls -l model.pkl',\n",
    "                                 stderr=subprocess.STDOUT,\n",
    "                                 shell=True)\n",
    "\n",
    "print(output.decode('utf-8'))"
   ]
  },
  {
   "cell_type": "code",
   "execution_count": null,
   "metadata": {},
   "outputs": [],
   "source": [
    "model_pkl_path='pio_model.pkl'\n",
    "test_request_path='data/test_request.json'\n",
    "test_response_path='data/test_response.json'"
   ]
  },
  {
   "cell_type": "code",
   "execution_count": null,
   "metadata": {
    "collapsed": true
   },
   "outputs": [],
   "source": [
    "from __future__ import print_function, absolute_import, division\n",
    "\n",
    "import json\n",
    "import importlib\n",
    "import dill as pickle\n",
    "\n",
    "def test(pio_model_pkl_path, test_request_path, test_response_path):\n",
    "    with open(pio_model_pkl_path, 'rb') as fh:\n",
    "        pio_model = pickle.load(fh)\n",
    "    with open(test_request_path, 'rb') as fh:\n",
    "        actual_request = fh.read() \n",
    "    with open(test_response_path, 'rb') as fh:\n",
    "        expected_response = fh.read()\n",
    "    print('Expected Response:')\n",
    "    print(expected_response)\n",
    "    print('')\n",
    "    print('Actual Request:')\n",
    "    print(actual_request)\n",
    "    actual_response = model.predict(actual_request)\n",
    "    print('')\n",
    "    print('Actual Response:')\n",
    "    print(actual_response)\n",
    "\n",
    "    return (json.loads(expected_response.decode('utf-8').strip()) \\\n",
    "            == json.loads(actual_response.strip()))"
   ]
  },
  {
   "cell_type": "code",
   "execution_count": null,
   "metadata": {},
   "outputs": [],
   "source": [
    "test_success = test(model_pkl_path, \n",
    "                    test_request_path,\n",
    "                    test_response_path)\n",
    "\n",
    "print('')\n",
    "print('Test Success: %s' % test_success)"
   ]
  }
 ],
 "metadata": {
  "anaconda-cloud": {},
  "kernelspec": {
   "display_name": "Python [conda root]",
   "language": "python",
   "name": "conda-root-py"
  },
  "language_info": {
   "codemirror_mode": {
    "name": "ipython",
    "version": 3
   },
   "file_extension": ".py",
   "mimetype": "text/x-python",
   "name": "python",
   "nbconvert_exporter": "python",
   "pygments_lexer": "ipython3",
   "version": "3.5.3"
  }
 },
 "nbformat": 4,
 "nbformat_minor": 2
}
