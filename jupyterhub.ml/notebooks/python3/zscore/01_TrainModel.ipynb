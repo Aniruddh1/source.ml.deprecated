{
 "cells": [
  {
   "cell_type": "markdown",
   "metadata": {},
   "source": [
    "## `MyResponseTransformer` Class\n",
    "Extends `PioResponseTransformer` class.  Must implement the `transform_response()` method."
   ]
  },
  {
   "cell_type": "markdown",
   "metadata": {},
   "source": [
    "### Convert `json` -> `dict`"
   ]
  },
  {
   "cell_type": "code",
   "execution_count": null,
   "metadata": {},
   "outputs": [],
   "source": [
    "from pio_model import PioRequestTransformer\n",
    "\n",
    "class MyRequestTransformer(PioRequestTransformer):        \n",
    "    def __init__(self, \n",
    "                 *args,\n",
    "                 **kwargs):\n",
    "        \n",
    "        PioRequestTransformer.__init__(self, \n",
    "                                       args, \n",
    "                                       kwargs)\n",
    "\n",
    "        \n",
    "    def transform_request(self,\n",
    "                          request,\n",
    "                          *args,\n",
    "                          **kwargs):\n",
    "        \n",
    "        request_str = request.decode('utf-8')\n",
    "        request_str = request_str.strip().replace('\\n', ',')\n",
    "        request_dict = json.loads(request_str)\n",
    "        return request_dict"
   ]
  },
  {
   "cell_type": "markdown",
   "metadata": {},
   "source": [
    "## Create Response Transformer\n",
    "Must have a `transform_response()` method."
   ]
  },
  {
   "cell_type": "markdown",
   "metadata": {},
   "source": [
    "### Convert `dict` -> `json`"
   ]
  },
  {
   "cell_type": "code",
   "execution_count": null,
   "metadata": {
    "collapsed": true
   },
   "outputs": [],
   "source": [
    "from pio_model import PioResponseTransformer\n",
    "\n",
    "class MyResponseTransformer(PioResponseTransformer):\n",
    "\n",
    "    def transform_response(self,\n",
    "                           response):\n",
    "        response_json = json.dumps(response)\n",
    "        return response_json"
   ]
  },
  {
   "cell_type": "markdown",
   "metadata": {},
   "source": [
    "## Train My Model"
   ]
  },
  {
   "cell_type": "code",
   "execution_count": null,
   "metadata": {},
   "outputs": [],
   "source": [
    "## No training is needed.  \"Learned Variables\" are hard-coded in this example."
   ]
  },
  {
   "cell_type": "markdown",
   "metadata": {},
   "source": [
    "## Create Model Initializer\n",
    "Must implement the `initialize_model()` method"
   ]
  },
  {
   "cell_type": "code",
   "execution_count": null,
   "metadata": {},
   "outputs": [],
   "source": [
    "from pio_model import PioModelInitializer\n",
    "\n",
    "class MyModelInitializer(PioModelInitializer): \n",
    "\n",
    "    def __init__(self,\n",
    "                 *args,\n",
    "                 **kwargs):\n",
    "\n",
    "        PioModelInitializer.__init__(self, \n",
    "                                     args, \n",
    "                                     kwargs)\n",
    "\n",
    "        \n",
    "    def initialize_model(self,                        \n",
    "                         *args,\n",
    "                         **kwargs):\n",
    "\n",
    "        PioModelInitializer.initialize_model(self, \n",
    "                                             args, \n",
    "                                             kwargs)\n",
    "\n",
    "        model = {'cat_mean':0.1,\n",
    "                 'cat_stdv':0.20,\n",
    "                 'dog_mean':0.3,\n",
    "                 'dog_stdv':0.40}\n",
    "        \n",
    "        return model            "
   ]
  },
  {
   "cell_type": "markdown",
   "metadata": {},
   "source": [
    "## `MyModel` Class\n",
    "Extends `PioModel` class.  Must implement `predict()` method."
   ]
  },
  {
   "cell_type": "code",
   "execution_count": null,
   "metadata": {
    "collapsed": true
   },
   "outputs": [],
   "source": [
    "from pio_model import PioModel\n",
    "\n",
    "class MyModel(PioModel):\n",
    "\n",
    "    def __init__(self, \n",
    "                 request_transformer, \n",
    "                 response_transformer,\n",
    "                 model_initializer,\n",
    "                 *args,\n",
    "                 **kwargs):\n",
    "\n",
    "        PioModel.__init__(self,\n",
    "                          request_transformer,\n",
    "                          response_transformer,\n",
    "                          model_initializer,\n",
    "                          args,\n",
    "                          kwargs)\n",
    "\n",
    "    \n",
    "    def predict(self, \n",
    "                request):\n",
    "        transformed_request = self.request_transformer.transform_request(request)\n",
    "\n",
    "        cat_affinity_score = sum([ d['weight'] * d['user_score'] for d in transformed_request if 'cat' in d['tags'] ])\n",
    "        dog_affinity_score = sum([ d['weight'] * d['user_score'] for d in transformed_request if 'dog' in d['tags'] ])\n",
    "\n",
    "        # create normalized z score for compare/classify\n",
    "        cat_zscore = (cat_affinity_score - self.model['cat_mean'])/self.model['cat_stdv']\n",
    "        dog_zscore = (dog_affinity_score - self.model['dog_mean'])/self.model['dog_stdv']\n",
    "\n",
    "        # classify\n",
    "        if abs(cat_zscore) > abs(dog_zscore):\n",
    "            if cat_zscore >= 0:\n",
    "                category = \"cat_lover\"\n",
    "            else:\n",
    "                category = \"cat_hater\"\n",
    "        else:\n",
    "            if dog_zscore >= 0:\n",
    "                category = \"dog_lover\"\n",
    "            else:\n",
    "                category = \"dog_hater\"\n",
    "\n",
    "        response = {\n",
    "            'category': category,\n",
    "            'cat_affinity_score': cat_affinity_score,\n",
    "            'dog_affinity_score': dog_affinity_score,\n",
    "            'cat_zscore': cat_zscore,\n",
    "            'cat_zscore': dog_zscore\n",
    "        }\n",
    "\n",
    "        transformed_response = self.response_transformer.transform_response(response)\n",
    "        return transformed_response"
   ]
  },
  {
   "cell_type": "markdown",
   "metadata": {},
   "source": [
    "## Construct `MyModel`\n",
    "Inject Model with Request Transformer, Response Transformer, and Model Initializer\n",
    "```\n",
    "MyModel(MyRequestTransformer, \n",
    "        MyResponseTransformer,\n",
    "        MyModelInitializer)\n",
    "```"
   ]
  },
  {
   "cell_type": "code",
   "execution_count": null,
   "metadata": {},
   "outputs": [],
   "source": [
    "pio_model = MyModel(MyRequestTransformer(),\n",
    "                    MyResponseTransformer(), \n",
    "                    MyModelInitializer())"
   ]
  },
  {
   "cell_type": "markdown",
   "metadata": {},
   "source": [
    "## Save/Pickle Model as `pio_model.pkl`"
   ]
  },
  {
   "cell_type": "code",
   "execution_count": null,
   "metadata": {},
   "outputs": [],
   "source": [
    "import dill as pickle\n",
    "\n",
    "pio_model_pkl_path = 'pio_model.pkl'\n",
    "\n",
    "with open(pio_model_pkl_path, 'wb') as fh:\n",
    "    pickle.dump(pio_model, fh)"
   ]
  },
  {
   "cell_type": "code",
   "execution_count": null,
   "metadata": {},
   "outputs": [],
   "source": [
    "import subprocess\n",
    "\n",
    "output = subprocess.check_output('ls -l pio_model.pkl',\n",
    "                                 stderr=subprocess.STDOUT,\n",
    "                                 shell=True)\n",
    "\n",
    "print(output.decode('utf-8'))"
   ]
  },
  {
   "cell_type": "code",
   "execution_count": null,
   "metadata": {},
   "outputs": [],
   "source": []
  }
 ],
 "metadata": {
  "anaconda-cloud": {},
  "kernelspec": {
   "display_name": "Python [default]",
   "language": "python",
   "name": "python3"
  },
  "language_info": {
   "codemirror_mode": {
    "name": "ipython",
    "version": 3
   },
   "file_extension": ".py",
   "mimetype": "text/x-python",
   "name": "python",
   "nbconvert_exporter": "python",
   "pygments_lexer": "ipython3",
   "version": "3.5.3"
  }
 },
 "nbformat": 4,
 "nbformat_minor": 2
}
