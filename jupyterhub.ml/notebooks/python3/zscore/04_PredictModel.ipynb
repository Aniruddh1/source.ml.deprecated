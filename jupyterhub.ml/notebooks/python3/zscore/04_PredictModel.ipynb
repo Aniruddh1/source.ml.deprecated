{
 "cells": [
  {
   "cell_type": "markdown",
   "metadata": {},
   "source": [
    "# Predict with Model"
   ]
  },
  {
   "cell_type": "markdown",
   "metadata": {},
   "source": [
    "## View Config"
   ]
  },
  {
   "cell_type": "code",
   "execution_count": 13,
   "metadata": {},
   "outputs": [
    {
     "name": "stdout",
     "output_type": "stream",
     "text": [
      "\n",
      "\n",
      "{'model_input_mime_type': 'application/json',\n",
      " 'model_name': 'python3_zscore',\n",
      " 'model_namespace': 'default',\n",
      " 'model_output_mime_type': 'application/json',\n",
      " 'model_path': '/root/volumes/source.ml/jupyterhub.ml/notebooks/python3/zscore',\n",
      " 'model_server_url': 'http://prediction-python3.community.pipeline.io',\n",
      " 'model_test_request_path': None,\n",
      " 'model_type': 'python3',\n",
      " 'model_version': 'v2',\n",
      " 'pio_api_version': 'v1',\n",
      " 'pio_git_home': 'https://github.com/fluxcapacitor/source.ml/',\n",
      " 'pio_git_version': 'master'}\n",
      "\n"
     ]
    }
   ],
   "source": [
    "%%bash \n",
    "\n",
    "pio init-model \\\n",
    "  --model-server-url http://prediction-python3.community.pipeline.io \\\n",
    "  --model-type python3 \\\n",
    "  --model-namespace default \\\n",
    "  --model-name python3_zscore \\\n",
    "  --model-version v2 \\\n",
    "  --model-path ."
   ]
  },
  {
   "cell_type": "markdown",
   "metadata": {},
   "source": [
    "## Predict with Model (CLI)"
   ]
  },
  {
   "cell_type": "code",
   "execution_count": 15,
   "metadata": {
    "scrolled": true
   },
   "outputs": [
    {
     "name": "stdout",
     "output_type": "stream",
     "text": [
      "model_server_url: http://prediction-python3.community.pipeline.io\n",
      "model_type: python3\n",
      "model_namespace: default\n",
      "model_name: python3_zscore\n",
      "model_version: v2\n",
      "model_test_request_path: /root/volumes/source.ml/jupyterhub.ml/notebooks/python3/zscore/data/test_request.json\n",
      "model_input_mime_type: application/json\n",
      "model_output_mime_type: application/json\n",
      "\n",
      "Predicting with file '/root/volumes/source.ml/jupyterhub.ml/notebooks/python3/zscore/data/test_request.json' using 'http://prediction-python3.community.pipeline.io/api/v1/model/predict/python3/default/python3_zscore/v2'\n",
      "\n",
      "('Traceback (most recent call last):\\n'\n",
      " '  File '\n",
      " '\"/opt/conda/envs/model_environment_python3/lib/python3.5/site-packages/tornado/web.py\", '\n",
      " 'line 1467, in _stack_context_handle_exception\\n'\n",
      " '    raise_exc_info((type, value, traceback))\\n'\n",
      " '  File \"<string>\", line 4, in raise_exc_info\\n'\n",
      " '  File '\n",
      " '\"/opt/conda/envs/model_environment_python3/lib/python3.5/site-packages/tornado/web.py\", '\n",
      " 'line 1669, in wrapper\\n'\n",
      " '    result = method(self, *args, **kwargs)\\n'\n",
      " '  File \"src/main/python/model_server_python3.py\", line 92, in post\\n'\n",
      " '    response_raw = model.predict(model, transformed_input_request)\\n'\n",
      " '  File \"<ipython-input-5-d9e082a38fb1>\", line 8, in predict\\n'\n",
      " \"TypeError: 'PioModel' object is not subscriptable\\n\")\n",
      "\n",
      "Total time: 206.885 milliseconds\n",
      "\n"
     ]
    }
   ],
   "source": [
    "%%bash\n",
    "\n",
    "pio predict \\\n",
    "  --model-test-request-path ./data/test_request.json"
   ]
  },
  {
   "cell_type": "markdown",
   "metadata": {},
   "source": [
    "### Predict with Model under Mini-Load (CLI)\n",
    "This is a mini load test to provide instant feedback on relative performance. "
   ]
  },
  {
   "cell_type": "code",
   "execution_count": 6,
   "metadata": {},
   "outputs": [
    {
     "name": "stdout",
     "output_type": "stream",
     "text": [
      "\n",
      "This currently only works with Python 3.\n",
      "\n",
      "model_server_url: http://prediction-python3.community.pipeline.io\n",
      "model_type: python3\n",
      "model_namespace: default\n",
      "model_name: python3_zscore\n",
      "model_version: v1\n",
      "model_test_request_path: /root/volumes/source.ml/jupyterhub.ml/notebooks/python3/zscore/data/test_request.json\n",
      "model_input_mime_type: application/json\n",
      "model_output_mime_type: application/json\n",
      "\n",
      "Predicting with file '/root/volumes/source.ml/jupyterhub.ml/notebooks/python3/zscore/data/test_request.json' using 'http://prediction-python3.community.pipeline.io/api/v1/model/predict/python3/default/python3_zscore/v1'\n",
      "\n",
      "('Traceback (most recent call last):\\n'\n",
      " '  File '\n",
      " '\"/opt/conda/envs/model_environment_python3/lib/python3.5/site-packages/tornado/web.py\", '\n",
      " 'line 1467, in _stack_context_handle_exception\\n'\n",
      " '    raise_exc_info((type, value, traceback))\\n'\n",
      " '  File \"<string>\", line 4, in raise_exc_info\\n'\n",
      " '  File '\n",
      " '\"/opt/conda/envs/model_environment_python3/lib/python3.5/site-packages/tornado/web.py\", '\n",
      " 'line 1669, in wrapper\\n'\n",
      " '    result = method(self, *args, **kwargs)\\n'\n",
      " '  File \"src/main/python/model_server_python3.py\", line 92, in post\\n'\n",
      " '    response = model.predict(model, self.request.body)\\n'\n",
      " '  File \"<ipython-input-5-d9e082a38fb1>\", line 4, in predict\\n'\n",
      " '  File \"<ipython-input-5-d9e082a38fb1>\", line 4, in <listcomp>\\n'\n",
      " \"TypeError: 'int' object is not subscriptable\\n\")\n",
      "\n",
      "Total time: 14.119 milliseconds\n",
      "\n",
      "model_server_url: http://prediction-python3.community.pipeline.io\n",
      "model_type: python3\n",
      "model_namespace: default\n",
      "model_name: python3_zscore\n",
      "model_version: v1\n",
      "model_test_request_path: /root/volumes/source.ml/jupyterhub.ml/notebooks/python3/zscore/data/test_request.json\n",
      "model_input_mime_type: application/json\n",
      "model_output_mime_type: application/json\n",
      "\n",
      "Predicting with file '/root/volumes/source.ml/jupyterhub.ml/notebooks/python3/zscore/data/test_request.json' using 'http://prediction-python3.community.pipeline.io/api/v1/model/predict/python3/default/python3_zscore/v1'\n",
      "\n",
      "('Traceback (most recent call last):\\n'\n",
      " '  File '\n",
      " '\"/opt/conda/envs/model_environment_python3/lib/python3.5/site-packages/tornado/web.py\", '\n",
      " 'line 1467, in _stack_context_handle_exception\\n'\n",
      " '    raise_exc_info((type, value, traceback))\\n'\n",
      " '  File \"<string>\", line 4, in raise_exc_info\\n'\n",
      " '  File '\n",
      " '\"/opt/conda/envs/model_environment_python3/lib/python3.5/site-packages/tornado/web.py\", '\n",
      " 'line 1669, in wrapper\\n'\n",
      " '    result = method(self, *args, **kwargs)\\n'\n",
      " '  File \"src/main/python/model_server_python3.py\", line 92, in post\\n'\n",
      " '    response = model.predict(model, self.request.body)\\n'\n",
      " '  File \"<ipython-input-5-d9e082a38fb1>\", line 4, in predict\\n'\n",
      " '  File \"<ipython-input-5-d9e082a38fb1>\", line 4, in <listcomp>\\n'\n",
      " \"TypeError: 'int' object is not subscriptable\\n\")\n",
      "\n",
      "Total time: 16.687 milliseconds\n",
      "\n",
      "model_server_url: http://prediction-python3.community.pipeline.io\n",
      "model_type: python3\n",
      "model_namespace: default\n",
      "model_name: python3_zscore\n",
      "model_version: v1\n",
      "model_test_request_path: /root/volumes/source.ml/jupyterhub.ml/notebooks/python3/zscore/data/test_request.json\n",
      "model_input_mime_type: application/json\n",
      "model_output_mime_type: application/json\n",
      "\n",
      "Predicting with file '/root/volumes/source.ml/jupyterhub.ml/notebooks/python3/zscore/data/test_request.json' using 'http://prediction-python3.community.pipeline.io/api/v1/model/predict/python3/default/python3_zscore/v1'\n",
      "\n",
      "('Traceback (most recent call last):\\n'\n",
      " '  File '\n",
      " '\"/opt/conda/envs/model_environment_python3/lib/python3.5/site-packages/tornado/web.py\", '\n",
      " 'line 1467, in _stack_context_handle_exception\\n'\n",
      " '    raise_exc_info((type, value, traceback))\\n'\n",
      " '  File \"<string>\", line 4, in raise_exc_info\\n'\n",
      " '  File '\n",
      " '\"/opt/conda/envs/model_environment_python3/lib/python3.5/site-packages/tornado/web.py\", '\n",
      " 'line 1669, in wrapper\\n'\n",
      " '    result = method(self, *args, **kwargs)\\n'\n",
      " '  File \"src/main/python/model_server_python3.py\", line 92, in post\\n'\n",
      " '    response = model.predict(model, self.request.body)\\n'\n",
      " '  File \"<ipython-input-5-d9e082a38fb1>\", line 4, in predict\\n'\n",
      " '  File \"<ipython-input-5-d9e082a38fb1>\", line 4, in <listcomp>\\n'\n",
      " \"TypeError: 'int' object is not subscriptable\\n\")\n",
      "\n",
      "Total time: 13.446 milliseconds\n",
      "\n",
      "model_server_url: http://prediction-python3.community.pipeline.io\n",
      "model_type: python3\n",
      "model_namespace: default\n",
      "model_name: python3_zscore\n",
      "model_version: v1\n",
      "model_test_request_path: /root/volumes/source.ml/jupyterhub.ml/notebooks/python3/zscore/data/test_request.json\n",
      "model_input_mime_type: application/json\n",
      "model_output_mime_type: application/json\n",
      "\n",
      "Predicting with file '/root/volumes/source.ml/jupyterhub.ml/notebooks/python3/zscore/data/test_request.json' using 'http://prediction-python3.community.pipeline.io/api/v1/model/predict/python3/default/python3_zscore/v1'\n",
      "\n",
      "('Traceback (most recent call last):\\n'\n",
      " '  File '\n",
      " '\"/opt/conda/envs/model_environment_python3/lib/python3.5/site-packages/tornado/web.py\", '\n",
      " 'line 1467, in _stack_context_handle_exception\\n'\n",
      " '    raise_exc_info((type, value, traceback))\\n'\n",
      " '  File \"<string>\", line 4, in raise_exc_info\\n'\n",
      " '  File '\n",
      " '\"/opt/conda/envs/model_environment_python3/lib/python3.5/site-packages/tornado/web.py\", '\n",
      " 'line 1669, in wrapper\\n'\n",
      " '    result = method(self, *args, **kwargs)\\n'\n",
      " '  File \"src/main/python/model_server_python3.py\", line 92, in post\\n'\n",
      " '    response = model.predict(model, self.request.body)\\n'\n",
      " '  File \"<ipython-input-5-d9e082a38fb1>\", line 4, in predict\\n'\n",
      " '  File \"<ipython-input-5-d9e082a38fb1>\", line 4, in <listcomp>\\n'\n",
      " \"TypeError: 'int' object is not subscriptable\\n\")\n",
      "\n",
      "Total time: 13.073 milliseconds\n",
      "\n",
      "model_server_url: http://prediction-python3.community.pipeline.io\n",
      "model_type: python3\n",
      "model_namespace: default\n",
      "model_name: python3_zscore\n",
      "model_version: v1\n",
      "model_test_request_path: /root/volumes/source.ml/jupyterhub.ml/notebooks/python3/zscore/data/test_request.json\n",
      "model_input_mime_type: application/json\n",
      "model_output_mime_type: application/json\n",
      "\n",
      "Predicting with file '/root/volumes/source.ml/jupyterhub.ml/notebooks/python3/zscore/data/test_request.json' using 'http://prediction-python3.community.pipeline.io/api/v1/model/predict/python3/default/python3_zscore/v1'\n",
      "\n",
      "('Traceback (most recent call last):\\n'\n",
      " '  File '\n",
      " '\"/opt/conda/envs/model_environment_python3/lib/python3.5/site-packages/tornado/web.py\", '\n",
      " 'line 1467, in _stack_context_handle_exception\\n'\n",
      " '    raise_exc_info((type, value, traceback))\\n'\n",
      " '  File \"<string>\", line 4, in raise_exc_info\\n'\n",
      " '  File '\n",
      " '\"/opt/conda/envs/model_environment_python3/lib/python3.5/site-packages/tornado/web.py\", '\n",
      " 'line 1669, in wrapper\\n'\n",
      " '    result = method(self, *args, **kwargs)\\n'\n",
      " '  File \"src/main/python/model_server_python3.py\", line 92, in post\\n'\n",
      " '    response = model.predict(model, self.request.body)\\n'\n",
      " '  File \"<ipython-input-5-d9e082a38fb1>\", line 4, in predict\\n'\n",
      " '  File \"<ipython-input-5-d9e082a38fb1>\", line 4, in <listcomp>\\n'\n",
      " \"TypeError: 'int' object is not subscriptable\\n\")\n",
      "\n",
      "Total time: 12.918 milliseconds\n",
      "\n"
     ]
    }
   ],
   "source": [
    "%%bash\n",
    "\n",
    "pio predict_many \\\n",
    "  --model-test-request-path ./data/test_request.json \\\n",
    "  --num-iterations 5"
   ]
  },
  {
   "cell_type": "markdown",
   "metadata": {},
   "source": [
    "## Predict with Model (REST)"
   ]
  },
  {
   "cell_type": "markdown",
   "metadata": {},
   "source": [
    "### Setup Prediction Inputs"
   ]
  },
  {
   "cell_type": "code",
   "execution_count": null,
   "metadata": {
    "collapsed": true
   },
   "outputs": [],
   "source": [
    "import requests\n",
    "\n",
    "model_type = 'python3'\n",
    "model_namespace = 'default'\n",
    "model_name = 'python3_zscore'\n",
    "model_version = 'v1'\n",
    "\n",
    "deploy_url = 'http://prediction-%s.community.pipeline.io/api/v1/model/predict/%s/%s/%s/%s' % (model_type, model_type, model_namespace, model_name, model_version)\n",
    "print(deploy_url)\n",
    "with open('./data/test_request.json', 'rb') as fh:\n",
    "    model_input_binary = fh.read()\n",
    "\n",
    "response = requests.post(url=deploy_url,\n",
    "                         data=model_input_binary,\n",
    "                         timeout=30)\n",
    "\n",
    "print(\"Success!\\n\\n%s\" % response.text)"
   ]
  },
  {
   "cell_type": "code",
   "execution_count": null,
   "metadata": {
    "collapsed": true
   },
   "outputs": [],
   "source": []
  }
 ],
 "metadata": {
  "anaconda-cloud": {},
  "kernelspec": {
   "display_name": "Python [default]",
   "language": "python",
   "name": "python3"
  },
  "language_info": {
   "codemirror_mode": {
    "name": "ipython",
    "version": 3
   },
   "file_extension": ".py",
   "mimetype": "text/x-python",
   "name": "python",
   "nbconvert_exporter": "python",
   "pygments_lexer": "ipython3",
   "version": "3.5.3"
  }
 },
 "nbformat": 4,
 "nbformat_minor": 2
}
