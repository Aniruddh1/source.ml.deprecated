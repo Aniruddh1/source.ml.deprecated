{
 "cells": [
  {
   "cell_type": "markdown",
   "metadata": {},
   "source": [
    "# Predict with Model"
   ]
  },
  {
   "cell_type": "markdown",
   "metadata": {},
   "source": [
    "## View Config"
   ]
  },
  {
   "cell_type": "code",
   "execution_count": 1,
   "metadata": {},
   "outputs": [
    {
     "name": "stdout",
     "output_type": "stream",
     "text": [
      "{'model_input_mime_type': 'application/json',\n",
      " 'model_name': 'python3_zscore',\n",
      " 'model_namespace': 'default',\n",
      " 'model_output_mime_type': 'application/json',\n",
      " 'model_path': '/root/volumes/source.ml/jupyterhub.ml/notebooks/python3/zscore',\n",
      " 'model_server_url': 'http://prediction-python3.community.pipeline.io',\n",
      " 'model_test_request_path': None,\n",
      " 'model_type': 'python3',\n",
      " 'model_version': 'v0',\n",
      " 'pio_api_version': 'v1',\n",
      " 'pio_git_home': 'https://github.com/fluxcapacitor/pipeline/',\n",
      " 'pio_git_version': 'v1.2.0'}\n",
      "\n"
     ]
    }
   ],
   "source": [
    "%%bash\n",
    "\n",
    "pio config"
   ]
  },
  {
   "cell_type": "markdown",
   "metadata": {},
   "source": [
    "## Predict with `model_test_input_path` File"
   ]
  },
  {
   "cell_type": "code",
   "execution_count": 2,
   "metadata": {
    "scrolled": true
   },
   "outputs": [
    {
     "name": "stdout",
     "output_type": "stream",
     "text": [
      "model_server_url: http://prediction-python3.community.pipeline.io\n",
      "model_type: python3\n",
      "model_namespace: default\n",
      "model_name: python3_zscore\n",
      "model_version: v0\n",
      "model_test_request_path: /root/volumes/source.ml/jupyterhub.ml/notebooks/python3/zscore/data/test_request.json\n",
      "model_input_mime_type: application/json\n",
      "model_output_mime_type: application/json\n",
      "\n",
      "Predicting with file '/root/volumes/source.ml/jupyterhub.ml/notebooks/python3/zscore/data/test_request.json' using 'http://prediction-python3.community.pipeline.io/api/v1/model/predict/python3/default/python3_zscore/v0'\n",
      "\n",
      "('{\"category\": \"cat_lover\", \"cat_affinity_score\": 3.35, \"cat_zscore\": '\n",
      " '15.124999999999998, \"dog_affinity_score\": 6.35}')\n",
      "\n",
      "Total time: 160.094 milliseconds\n",
      "\n"
     ]
    }
   ],
   "source": [
    "%%bash\n",
    "\n",
    "pio predict \\\n",
    "  --model-test-request-path ./data/test_request.json"
   ]
  },
  {
   "cell_type": "markdown",
   "metadata": {},
   "source": [
    "## Predict Many\n",
    "This is a mini load test to provide instant feedback on relative performance. "
   ]
  },
  {
   "cell_type": "code",
   "execution_count": 3,
   "metadata": {},
   "outputs": [
    {
     "name": "stdout",
     "output_type": "stream",
     "text": [
      "\n",
      "This currently only works with Python 3.\n",
      "\n",
      "model_server_url: http://prediction-python3.community.pipeline.io\n",
      "model_type: python3\n",
      "model_namespace: default\n",
      "model_name: python3_zscore\n",
      "model_version: v0\n",
      "model_test_request_path: /root/volumes/source.ml/jupyterhub.ml/notebooks/python3/zscore/data/test_request.json\n",
      "model_input_mime_type: application/json\n",
      "model_output_mime_type: application/json\n",
      "\n",
      "Predicting with file '/root/volumes/source.ml/jupyterhub.ml/notebooks/python3/zscore/data/test_request.json' using 'http://prediction-python3.community.pipeline.io/api/v1/model/predict/python3/default/python3_zscore/v0'\n",
      "\n",
      "('{\"category\": \"cat_lover\", \"cat_affinity_score\": 3.35, \"cat_zscore\": '\n",
      " '15.124999999999998, \"dog_affinity_score\": 6.35}')\n",
      "\n",
      "Total time: 14.685 milliseconds\n",
      "\n",
      "model_server_url: http://prediction-python3.community.pipeline.io\n",
      "model_type: python3\n",
      "model_namespace: default\n",
      "model_name: python3_zscore\n",
      "model_version: v0\n",
      "model_test_request_path: /root/volumes/source.ml/jupyterhub.ml/notebooks/python3/zscore/data/test_request.json\n",
      "model_input_mime_type: application/json\n",
      "model_output_mime_type: application/json\n",
      "\n",
      "Predicting with file '/root/volumes/source.ml/jupyterhub.ml/notebooks/python3/zscore/data/test_request.json' using 'http://prediction-python3.community.pipeline.io/api/v1/model/predict/python3/default/python3_zscore/v0'\n",
      "\n",
      "('{\"category\": \"cat_lover\", \"cat_affinity_score\": 3.35, \"cat_zscore\": '\n",
      " '15.124999999999998, \"dog_affinity_score\": 6.35}')\n",
      "\n",
      "Total time: 15.951 milliseconds\n",
      "\n",
      "model_server_url: http://prediction-python3.community.pipeline.io\n",
      "model_type: python3\n",
      "model_namespace: default\n",
      "model_name: python3_zscore\n",
      "model_version: v0\n",
      "model_test_request_path: /root/volumes/source.ml/jupyterhub.ml/notebooks/python3/zscore/data/test_request.json\n",
      "model_input_mime_type: application/json\n",
      "model_output_mime_type: application/json\n",
      "\n",
      "Predicting with file '/root/volumes/source.ml/jupyterhub.ml/notebooks/python3/zscore/data/test_request.json' using 'http://prediction-python3.community.pipeline.io/api/v1/model/predict/python3/default/python3_zscore/v0'\n",
      "\n",
      "('{\"category\": \"cat_lover\", \"cat_affinity_score\": 3.35, \"cat_zscore\": '\n",
      " '15.124999999999998, \"dog_affinity_score\": 6.35}')\n",
      "\n",
      "Total time: 17.117 milliseconds\n",
      "\n"
     ]
    }
   ],
   "source": [
    "%%bash\n",
    "\n",
    "pio predict_many \\\n",
    "  --model-test-request-path ./data/test_request.json \\\n",
    "  --num-iterations 5"
   ]
  },
  {
   "cell_type": "markdown",
   "metadata": {},
   "source": [
    "## Step 6:  Predict With Deployed Pipeline Model"
   ]
  },
  {
   "cell_type": "markdown",
   "metadata": {},
   "source": [
    "### Setup Prediction Inputs"
   ]
  },
  {
   "cell_type": "code",
   "execution_count": null,
   "metadata": {},
   "outputs": [],
   "source": [
    "import json\n",
    "\n",
    "data = {\"bathrooms\":2.0, \n",
    "        \"bedrooms\":2.0, \n",
    "        \"security_deposit\":175.00, \n",
    "        \"cleaning_fee\":25.0, \n",
    "        \"extra_people\":1.0, \n",
    "        \"number_of_reviews\": 2.0, \n",
    "        \"square_feet\": 250.0, \n",
    "        \"review_scores_rating\": 2.0, \n",
    "        \"room_type\": \"Entire home/apt\", \n",
    "        \"host_is_super_host\": \"0.0\", \n",
    "        \"cancellation_policy\": \"flexible\", \n",
    "        \"instant_bookable\": \"1.0\", \n",
    "        \"state\": \"CA\" }\n",
    "\n",
    "json_data = json.dumps(data)\n",
    "\n",
    "with open('airbnb-predict-inputs.json', 'wt') as fh:\n",
    "    fh.write(json_data)"
   ]
  },
  {
   "cell_type": "code",
   "execution_count": null,
   "metadata": {
    "collapsed": false
   },
   "outputs": [],
   "source": [
    "import json\n",
    "\n",
    "# Note:  You may need to run this twice.\n",
    "#        A fallback will trigger the first time. (Bug)\n",
    "predict_url = 'http://prediction-pmml.demo.pipeline.io/api/v1/model/predict/pmml/rest/airbnb/v0'\n",
    "\n",
    "headers = {'content-type': 'application/json'}\n",
    "\n",
    "response = requests.post(predict_url, \n",
    "                         data=json_data, \n",
    "                         headers=headers)\n",
    "\n",
    "print(response.text)"
   ]
  }
 ],
 "metadata": {
  "anaconda-cloud": {},
  "kernelspec": {
   "display_name": "Python [default]",
   "language": "python",
   "name": "python3"
  },
  "language_info": {
   "codemirror_mode": {
    "name": "ipython",
    "version": 3
   },
   "file_extension": ".py",
   "mimetype": "text/x-python",
   "name": "python",
   "nbconvert_exporter": "python",
   "pygments_lexer": "ipython3",
   "version": "3.5.3"
  }
 },
 "nbformat": 4,
 "nbformat_minor": 2
}
