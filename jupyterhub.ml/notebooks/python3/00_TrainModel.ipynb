{
 "cells": [
  {
   "cell_type": "markdown",
   "metadata": {},
   "source": [
    "## Create `Model` Class\n",
    "Must have `setup()` and `predict()` methods."
   ]
  },
  {
   "cell_type": "code",
   "execution_count": 116,
   "metadata": {
    "collapsed": true
   },
   "outputs": [],
   "source": [
    "class PioModel(object):\n",
    "\n",
    "    def __init__(self, \n",
    "                 request_transformer, \n",
    "                 response_transformer):\n",
    "\n",
    "        self.request_transformer = request_transformer\n",
    "        self.response_transformer = response_transformer\n",
    "        \n",
    "    def setup(self):\n",
    "        pass\n",
    "    \n",
    "    def predict(self, \n",
    "                request):\n",
    "        pass"
   ]
  },
  {
   "cell_type": "code",
   "execution_count": 117,
   "metadata": {
    "collapsed": true
   },
   "outputs": [],
   "source": [
    "class Model(PioModel):\n",
    "\n",
    "    def __init__(self, \n",
    "                 request_transformer, \n",
    "                 response_transformer,                 \n",
    "                 cat_mean, \n",
    "                 cat_stdv, \n",
    "                 dog_mean, \n",
    "                 dog_stdv):\n",
    "        PioModel.__init__(self,\n",
    "                          request_transformer,\n",
    "                          response_transformer)\n",
    "        self.cat_mean = cat_mean\n",
    "        self.cat_stdv = cat_stdv\n",
    "        self.dog_mean = dog_mean\n",
    "        self.dog_stdv = dog_stdv\n",
    "\n",
    "    def transform_request(self, \n",
    "                          request):\n",
    "        return self.request_transformer.transform_request(request)\n",
    "\n",
    "    def transform_response(self, \n",
    "                           response):\n",
    "        return self.response_transformer.transform_response(response)\n",
    "        \n",
    "    def setup(self):\n",
    "        pass\n",
    "\n",
    "    def predict(self, \n",
    "                request):\n",
    "        cat_affinity_score = sum([ d['weight'] * d['user_score'] for d in request if 'cat' in d['tags'] ])\n",
    "        dog_affinity_score = sum([ d['weight'] * d['user_score'] for d in request if 'dog' in d['tags'] ])\n",
    "\n",
    "        # create normalized z score for compare/classify\n",
    "        cat_zscore = (cat_affinity_score - self.cat_mean)/self.cat_stdv\n",
    "        dog_zscore = (dog_affinity_score - self.dog_mean)/self.dog_stdv\n",
    "\n",
    "        # classify\n",
    "        if abs(cat_zscore) > abs(dog_zscore):\n",
    "            if cat_zscore >= 0:\n",
    "                category = \"cat_lover\"\n",
    "            else:\n",
    "                category = \"cat_hater\"\n",
    "        else:\n",
    "            if dog_zscore >= 0:\n",
    "                category = \"dog_lover\"\n",
    "            else:\n",
    "                category = \"dog_hater\"\n",
    "\n",
    "        classification = {\n",
    "            'category': category,\n",
    "            'cat_affinity_score': cat_affinity_score,\n",
    "            'dog_affinity_score': dog_affinity_score,\n",
    "            'cat_zscore': cat_zscore,\n",
    "            'cat_zscore': dog_zscore\n",
    "        }\n",
    "\n",
    "        return classification"
   ]
  },
  {
   "cell_type": "markdown",
   "metadata": {},
   "source": [
    "## Create Request Transformer\n",
    "Must have a `transform_request()` method."
   ]
  },
  {
   "cell_type": "code",
   "execution_count": 118,
   "metadata": {},
   "outputs": [],
   "source": [
    "class PioRequestTransformer(object):\n",
    "\n",
    "    def transform_request(self,\n",
    "                          request):\n",
    "        pass"
   ]
  },
  {
   "cell_type": "markdown",
   "metadata": {},
   "source": [
    "### Convert `json` -> `dict`"
   ]
  },
  {
   "cell_type": "code",
   "execution_count": 119,
   "metadata": {},
   "outputs": [],
   "source": [
    "class RequestTransformer(PioRequestTransformer):    \n",
    "\n",
    "    def transform_request(self,\n",
    "                          request):\n",
    "\n",
    "        request_str = request.decode('utf-8')\n",
    "        request_str = request_str.strip().replace('\\n', ',')\n",
    "        request_dict = json.loads(request_str)\n",
    "        \n",
    "        return request_dict\n",
    "    \n",
    "    "
   ]
  },
  {
   "cell_type": "markdown",
   "metadata": {},
   "source": [
    "## Create Response Transformer\n",
    "Must have a `transform_response()` method."
   ]
  },
  {
   "cell_type": "code",
   "execution_count": 120,
   "metadata": {},
   "outputs": [],
   "source": [
    "class PioResponseTransformer(object):\n",
    "\n",
    "    def transform_response(self,\n",
    "                           response):\n",
    "        pass"
   ]
  },
  {
   "cell_type": "markdown",
   "metadata": {},
   "source": [
    "### Convert `dict` -> `json`"
   ]
  },
  {
   "cell_type": "code",
   "execution_count": 121,
   "metadata": {
    "collapsed": true
   },
   "outputs": [],
   "source": [
    "class ResponseTransformer(PioResponseTransformer):\n",
    "\n",
    "    def transform_response(self,\n",
    "                           response):\n",
    "        response_json = json.dumps(response)\n",
    "        return response_json"
   ]
  },
  {
   "cell_type": "markdown",
   "metadata": {},
   "source": [
    "## Train Model"
   ]
  },
  {
   "cell_type": "code",
   "execution_count": 122,
   "metadata": {},
   "outputs": [],
   "source": [
    "cat_mean = 0.1\n",
    "cat_stdv = 0.20\n",
    "dog_mean = 0.3\n",
    "dog_stdv = 0.40\n",
    "\n",
    "model = Model(RequestTransformer(), \n",
    "              ResponseTransformer(), \n",
    "              cat_mean, \n",
    "              cat_stdv, \n",
    "              dog_mean, \n",
    "              dog_stdv)"
   ]
  },
  {
   "cell_type": "markdown",
   "metadata": {},
   "source": [
    "## Pickle Model `model.pkl`"
   ]
  },
  {
   "cell_type": "code",
   "execution_count": 123,
   "metadata": {},
   "outputs": [],
   "source": [
    "import dill as pickle\n",
    "\n",
    "model_pkl_path = 'model.pkl'\n",
    "\n",
    "with open(model_pkl_path, 'wb') as fh:\n",
    "    pickle.dump(model, fh)"
   ]
  },
  {
   "cell_type": "code",
   "execution_count": null,
   "metadata": {
    "collapsed": true
   },
   "outputs": [],
   "source": []
  },
  {
   "cell_type": "code",
   "execution_count": null,
   "metadata": {
    "collapsed": true
   },
   "outputs": [],
   "source": []
  }
 ],
 "metadata": {
  "anaconda-cloud": {},
  "kernelspec": {
   "display_name": "Python [conda root]",
   "language": "python",
   "name": "conda-root-py"
  },
  "language_info": {
   "codemirror_mode": {
    "name": "ipython",
    "version": 3
   },
   "file_extension": ".py",
   "mimetype": "text/x-python",
   "name": "python",
   "nbconvert_exporter": "python",
   "pygments_lexer": "ipython3",
   "version": "3.5.2"
  }
 },
 "nbformat": 4,
 "nbformat_minor": 2
}
