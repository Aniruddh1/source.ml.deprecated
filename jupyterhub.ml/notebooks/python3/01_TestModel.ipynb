{
 "cells": [
  {
   "cell_type": "markdown",
   "metadata": {},
   "source": [
    "# Test Model (Locally)"
   ]
  },
  {
   "cell_type": "code",
   "execution_count": 95,
   "metadata": {},
   "outputs": [],
   "source": [
    "model_pkl_path='model.pkl'\n",
    "test_request_path='test_request.json'\n",
    "test_response_path='test_response.json'"
   ]
  },
  {
   "cell_type": "code",
   "execution_count": 96,
   "metadata": {
    "scrolled": true
   },
   "outputs": [
    {
     "name": "stdout",
     "output_type": "stream",
     "text": [
      "[{\"tags\":[\"cat\"],\"prompt\":\"I like cats\",\"weight\":0.4,\"user_score\":1},{\"tags\":[\"cat\"],\"prompt\":\"I like cat movies\",\"weight\":0.5,\"user_score\":2},{\"tags\":[\"cat\"],\"prompt\":\"I like Garfield\",\"weight\":0.65,\"user_score\":3},{\"tags\":[\"dog\"],\"prompt\":\"I like dogs\",\"weight\":0.75,\"user_score\":4},{\"tags\":[\"dog\"],\"prompt\":\"I like dog parks\",\"weight\":0.25,\"user_score\":5},{\"tags\":[\"dog\"],\"prompt\":\"I like Cesar Milan\",\"weight\":0.35,\"user_score\":6}]\n"
     ]
    }
   ],
   "source": [
    "%%bash\n",
    "\n",
    "cat test_request.json"
   ]
  },
  {
   "cell_type": "code",
   "execution_count": 97,
   "metadata": {},
   "outputs": [
    {
     "name": "stdout",
     "output_type": "stream",
     "text": [
      "{\"cat_zscore\": 15.124999999999998, \"dog_affinity_score\": 6.35, \"category\": \"cat_lover\", \"cat_affinity_score\": 3.35}\n"
     ]
    }
   ],
   "source": [
    "%%bash\n",
    "\n",
    "cat test_response.json"
   ]
  },
  {
   "cell_type": "code",
   "execution_count": 101,
   "metadata": {
    "collapsed": true
   },
   "outputs": [],
   "source": [
    "from __future__ import print_function, absolute_import, division\n",
    "\n",
    "import json\n",
    "import importlib\n",
    "import dill as pickle\n",
    "\n",
    "def test(model_path, test_input_filename, test_output_filename):\n",
    "    with open(model_path, 'rb') as fh:\n",
    "        model = pickle.load(fh)\n",
    "    with open(test_request_path, 'rb') as fh:\n",
    "        actual_request = fh.read() \n",
    "    with open(test_response_path, 'rb') as fh:\n",
    "        expected_response = fh.read()\n",
    "\n",
    "    model.setup()\n",
    "\n",
    "    actual_transformed_request = model.transform_request(actual_request)\n",
    "    actual_response = model.predict(actual_transformed_request)\n",
    "    actual_transformed_response = model.transform_response(actual_response)\n",
    "\n",
    "    return (json.loads(expected_response.decode('utf-8').strip()) \\\n",
    "            == json.loads(actual_transformed_response.strip()))"
   ]
  },
  {
   "cell_type": "code",
   "execution_count": 102,
   "metadata": {},
   "outputs": [
    {
     "name": "stdout",
     "output_type": "stream",
     "text": [
      "b'[{\"tags\":[\"cat\"],\"prompt\":\"I like cats\",\"weight\":0.4,\"user_score\":1},{\"tags\":[\"cat\"],\"prompt\":\"I like cat movies\",\"weight\":0.5,\"user_score\":2},{\"tags\":[\"cat\"],\"prompt\":\"I like Garfield\",\"weight\":0.65,\"user_score\":3},{\"tags\":[\"dog\"],\"prompt\":\"I like dogs\",\"weight\":0.75,\"user_score\":4},{\"tags\":[\"dog\"],\"prompt\":\"I like dog parks\",\"weight\":0.25,\"user_score\":5},{\"tags\":[\"dog\"],\"prompt\":\"I like Cesar Milan\",\"weight\":0.35,\"user_score\":6}]\\n'\n",
      "[{\"tags\":[\"cat\"],\"prompt\":\"I like cats\",\"weight\":0.4,\"user_score\":1},{\"tags\":[\"cat\"],\"prompt\":\"I like cat movies\",\"weight\":0.5,\"user_score\":2},{\"tags\":[\"cat\"],\"prompt\":\"I like Garfield\",\"weight\":0.65,\"user_score\":3},{\"tags\":[\"dog\"],\"prompt\":\"I like dogs\",\"weight\":0.75,\"user_score\":4},{\"tags\":[\"dog\"],\"prompt\":\"I like dog parks\",\"weight\":0.25,\"user_score\":5},{\"tags\":[\"dog\"],\"prompt\":\"I like Cesar Milan\",\"weight\":0.35,\"user_score\":6}]\n",
      "[{'tags': ['cat'], 'user_score': 1, 'prompt': 'I like cats', 'weight': 0.4}, {'tags': ['cat'], 'user_score': 2, 'prompt': 'I like cat movies', 'weight': 0.5}, {'tags': ['cat'], 'user_score': 3, 'prompt': 'I like Garfield', 'weight': 0.65}, {'tags': ['dog'], 'user_score': 4, 'prompt': 'I like dogs', 'weight': 0.75}, {'tags': ['dog'], 'user_score': 5, 'prompt': 'I like dog parks', 'weight': 0.25}, {'tags': ['dog'], 'user_score': 6, 'prompt': 'I like Cesar Milan', 'weight': 0.35}]\n",
      "[{'tags': ['cat'], 'user_score': 1, 'prompt': 'I like cats', 'weight': 0.4}, {'tags': ['cat'], 'user_score': 2, 'prompt': 'I like cat movies', 'weight': 0.5}, {'tags': ['cat'], 'user_score': 3, 'prompt': 'I like Garfield', 'weight': 0.65}, {'tags': ['dog'], 'user_score': 4, 'prompt': 'I like dogs', 'weight': 0.75}, {'tags': ['dog'], 'user_score': 5, 'prompt': 'I like dog parks', 'weight': 0.25}, {'tags': ['dog'], 'user_score': 6, 'prompt': 'I like Cesar Milan', 'weight': 0.35}]\n",
      "{'cat_affinity_score': 3.35, 'cat_zscore': 15.124999999999998, 'dog_affinity_score': 6.35, 'category': 'cat_lover'}\n",
      "{\"cat_affinity_score\": 3.35, \"cat_zscore\": 15.124999999999998, \"dog_affinity_score\": 6.35, \"category\": \"cat_lover\"}\n",
      "\n",
      "\n",
      "Test Success: True\n"
     ]
    }
   ],
   "source": [
    "test_success = test(model_pkl_path, test_request_path, test_response_path)\n",
    "print('\\n')\n",
    "print('Test Success: %s' % test_success)"
   ]
  },
  {
   "cell_type": "code",
   "execution_count": null,
   "metadata": {
    "collapsed": true
   },
   "outputs": [],
   "source": []
  }
 ],
 "metadata": {
  "anaconda-cloud": {},
  "kernelspec": {
   "display_name": "Python [conda root]",
   "language": "python",
   "name": "conda-root-py"
  },
  "language_info": {
   "codemirror_mode": {
    "name": "ipython",
    "version": 3
   },
   "file_extension": ".py",
   "mimetype": "text/x-python",
   "name": "python",
   "nbconvert_exporter": "python",
   "pygments_lexer": "ipython3",
   "version": "3.5.2"
  }
 },
 "nbformat": 4,
 "nbformat_minor": 2
}
