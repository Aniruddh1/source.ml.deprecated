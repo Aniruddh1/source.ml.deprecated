{
 "cells": [
  {
   "cell_type": "markdown",
   "metadata": {},
   "source": [
    "# Test Model (Locally)"
   ]
  },
  {
   "cell_type": "code",
   "execution_count": null,
   "metadata": {
    "collapsed": true
   },
   "outputs": [],
   "source": [
    "from __future__ import print_function, absolute_import, division\n",
    "\n",
    "import json\n",
    "import importlib\n",
    "import dill as pickle\n",
    "\n",
    "def test(model_path, test_request_path, test_response_path):\n",
    "    with open(model_path, 'rb') as fh:\n",
    "        model = pickle.load(fh)\n",
    "    with open(test_request_path, 'rb') as fh:\n",
    "        actual_request = fh.read() \n",
    "    with open(test_response_path, 'rb') as fh:\n",
    "        expected_response = fh.read()\n",
    "    print('Expected Response:')\n",
    "    print(expected_response)\n",
    "    model.setup()\n",
    "\n",
    "    actual_transformed_request = model.transform_request(actual_request)\n",
    "    actual_response = model.predict(actual_transformed_request)\n",
    "    print('')\n",
    "    print('Actual Response:')\n",
    "    print(actual_response)\n",
    "    actual_transformed_response = model.transform_response(actual_response)\n",
    "\n",
    "    return (json.loads(expected_response.decode('utf-8').strip()) \\\n",
    "            == json.loads(actual_transformed_response.strip()))"
   ]
  },
  {
   "cell_type": "code",
   "execution_count": null,
   "metadata": {},
   "outputs": [],
   "source": [
    "model_pkl_path='model.pkl'\n",
    "test_request_path='data/test_request.json'\n",
    "test_response_path='data/test_response.json'\n",
    "\n",
    "test_success = test(model_pkl_path, \n",
    "                    test_request_path,\n",
    "                    test_response_path)\n",
    "\n",
    "print('')\n",
    "print('Test Success: %s' % test_success)"
   ]
  }
 ],
 "metadata": {
  "anaconda-cloud": {},
  "kernelspec": {
   "display_name": "Python [conda root]",
   "language": "python",
   "name": "conda-root-py"
  },
  "language_info": {
   "codemirror_mode": {
    "name": "ipython",
    "version": 3
   },
   "file_extension": ".py",
   "mimetype": "text/x-python",
   "name": "python",
   "nbconvert_exporter": "python",
   "pygments_lexer": "ipython3",
   "version": "3.5.3"
  }
 },
 "nbformat": 4,
 "nbformat_minor": 2
}
