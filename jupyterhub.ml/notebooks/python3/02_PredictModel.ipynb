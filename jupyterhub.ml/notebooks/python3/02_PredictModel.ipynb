{
 "cells": [
  {
   "cell_type": "markdown",
   "metadata": {},
   "source": [
    "# Predict with Model"
   ]
  },
  {
   "cell_type": "markdown",
   "metadata": {},
   "source": [
    "## View Config"
   ]
  },
  {
   "cell_type": "code",
   "execution_count": 4,
   "metadata": {},
   "outputs": [
    {
     "name": "stdout",
     "output_type": "stream",
     "text": [
      "{'kops_cluster_name': 'awsdemo.pipeline.io',\n",
      " 'kops_state_store': 's3://clusters.pipeline.io',\n",
      " 'kube_cluster_context': 'awsdemo',\n",
      " 'kube_namespace': 'default',\n",
      " 'model-path': '/Users/cfregly/workspace-fluxcapacitor/source.ml/prediction.ml/model_store/pmml/default/pmml_airlines/v0/',\n",
      " 'model_input_mime_type': 'application/json',\n",
      " 'model_name': 'python3_balancescale',\n",
      " 'model_namespace': 'default',\n",
      " 'model_output_mime_type': 'application/json',\n",
      " 'model_path': '/Users/cfregly/workspace-fluxcapacitor/source.ml/jupyterhub.ml/notebooks/python3',\n",
      " 'model_server_url': 'http://localhost:80/',\n",
      " 'model_test_input_path': '/Users/cfregly/workspace-fluxcapacitor/source.ml/jupyterhub.ml/notebooks/python3/test_inputs.json',\n",
      " 'model_type': 'python3',\n",
      " 'model_version': 'v0',\n",
      " 'pio_api_version': 'v1',\n",
      " 'pio_git_home': 'https://github.com/fluxcapacitor/pipeline/',\n",
      " 'pio_git_version': 'master'}\n",
      "\n"
     ]
    }
   ],
   "source": [
    "%%bash\n",
    "\n",
    "pio config"
   ]
  },
  {
   "cell_type": "markdown",
   "metadata": {},
   "source": [
    "## Predict with `model_test_input_path` File"
   ]
  },
  {
   "cell_type": "code",
   "execution_count": 5,
   "metadata": {
    "scrolled": true
   },
   "outputs": [
    {
     "name": "stdout",
     "output_type": "stream",
     "text": [
      "model_server_url: http://localhost:80/\n",
      "model_type: python3\n",
      "model_namespace: default\n",
      "model_name: python3_balancescale\n",
      "model_version: v0\n",
      "model_test_input_path: /Users/cfregly/workspace-fluxcapacitor/source.ml/jupyterhub.ml/notebooks/python3/test_inputs.json\n",
      "model_input_mime_type: application/json\n",
      "model_output_mime_type: application/json\n",
      "\n",
      "Predicting with file '/Users/cfregly/workspace-fluxcapacitor/source.ml/jupyterhub.ml/notebooks/python3/test_inputs.json' using 'http://localhost:80//api/v1/model/predict/python3/default/python3_balancescale/v0'\n",
      "\n"
     ]
    },
    {
     "name": "stderr",
     "output_type": "stream",
     "text": [
      "Traceback (most recent call last):\n",
      "  File \"/Users/cfregly/miniconda3/bin/pio\", line 11, in <module>\n",
      "    load_entry_point('pio-cli', 'console_scripts', 'pio')()\n",
      "  File \"/Users/cfregly/workspace-fluxcapacitor/pipeline/cli/pio/pio.py\", line 1536, in main\n",
      "    fire.Fire(PioCli)\n",
      "  File \"/Users/cfregly/miniconda3/lib/python3.5/site-packages/fire/core.py\", line 116, in Fire\n",
      "    component_trace = _Fire(component, args, context, name)\n",
      "  File \"/Users/cfregly/miniconda3/lib/python3.5/site-packages/fire/core.py\", line 330, in _Fire\n",
      "    component, remaining_args)\n",
      "  File \"/Users/cfregly/miniconda3/lib/python3.5/site-packages/fire/core.py\", line 536, in _CallCallable\n",
      "    result = fn(*varargs, **kwargs)\n",
      "  File \"/Users/cfregly/workspace-fluxcapacitor/pipeline/cli/pio/pio.py\", line 863, in predict\n",
      "    with open(model_test_input_path, 'rb') as fh:\n",
      "FileNotFoundError: [Errno 2] No such file or directory: '/Users/cfregly/workspace-fluxcapacitor/source.ml/jupyterhub.ml/notebooks/python3/test_inputs.json'\n"
     ]
    }
   ],
   "source": [
    "%%bash\n",
    "\n",
    "pio predict"
   ]
  },
  {
   "cell_type": "markdown",
   "metadata": {},
   "source": [
    "## Predict Many\n",
    "This is a mini load test to provide instant feedback on relative performance. "
   ]
  },
  {
   "cell_type": "code",
   "execution_count": 3,
   "metadata": {},
   "outputs": [
    {
     "name": "stderr",
     "output_type": "stream",
     "text": [
      "multiprocessing.pool.RemoteTraceback: \n",
      "\"\"\"\n",
      "Traceback (most recent call last):\n",
      "  File \"/Users/cfregly/miniconda3/lib/python3.5/multiprocessing/pool.py\", line 119, in worker\n",
      "    result = (True, func(*args, **kwds))\n",
      "  File \"/Users/cfregly/workspace-fluxcapacitor/pipeline/cli/pio/pio.py\", line 863, in predict\n",
      "    with open(model_test_input_path, 'rb') as fh:\n",
      "FileNotFoundError: [Errno 2] No such file or directory: '/Users/cfregly/workspace-fluxcapacitor/source.ml/jupyterhub.ml/notebooks/python3/test_inputs.json'\n",
      "\"\"\"\n",
      "\n",
      "The above exception was the direct cause of the following exception:\n",
      "\n",
      "Traceback (most recent call last):\n",
      "  File \"/Users/cfregly/miniconda3/bin/pio\", line 11, in <module>\n",
      "    load_entry_point('pio-cli', 'console_scripts', 'pio')()\n",
      "  File \"/Users/cfregly/workspace-fluxcapacitor/pipeline/cli/pio/pio.py\", line 1536, in main\n",
      "    fire.Fire(PioCli)\n",
      "  File \"/Users/cfregly/miniconda3/lib/python3.5/site-packages/fire/core.py\", line 116, in Fire\n",
      "    component_trace = _Fire(component, args, context, name)\n",
      "  File \"/Users/cfregly/miniconda3/lib/python3.5/site-packages/fire/core.py\", line 330, in _Fire\n",
      "    component, remaining_args)\n",
      "  File \"/Users/cfregly/miniconda3/lib/python3.5/site-packages/fire/core.py\", line 536, in _CallCallable\n",
      "    result = fn(*varargs, **kwargs)\n",
      "  File \"/Users/cfregly/workspace-fluxcapacitor/pipeline/cli/pio/pio.py\", line 902, in predict_many\n",
      "    model_output_mime_type),\n",
      "  File \"/Users/cfregly/miniconda3/lib/python3.5/multiprocessing/pool.py\", line 253, in apply\n",
      "    return self.apply_async(func, args, kwds).get()\n",
      "  File \"/Users/cfregly/miniconda3/lib/python3.5/multiprocessing/pool.py\", line 608, in get\n",
      "    raise self._value\n",
      "FileNotFoundError: [Errno 2] No such file or directory: '/Users/cfregly/workspace-fluxcapacitor/source.ml/jupyterhub.ml/notebooks/python3/test_inputs.json'\n"
     ]
    }
   ],
   "source": [
    "%%bash\n",
    "\n",
    "pio predict_many 10"
   ]
  },
  {
   "cell_type": "code",
   "execution_count": null,
   "metadata": {
    "collapsed": true
   },
   "outputs": [],
   "source": []
  }
 ],
 "metadata": {
  "anaconda-cloud": {},
  "kernelspec": {
   "display_name": "Python [default]",
   "language": "python",
   "name": "python3"
  },
  "language_info": {
   "codemirror_mode": {
    "name": "ipython",
    "version": 3
   },
   "file_extension": ".py",
   "mimetype": "text/x-python",
   "name": "python",
   "nbconvert_exporter": "python",
   "pygments_lexer": "ipython3",
   "version": "3.5.2"
  }
 },
 "nbformat": 4,
 "nbformat_minor": 2
}
