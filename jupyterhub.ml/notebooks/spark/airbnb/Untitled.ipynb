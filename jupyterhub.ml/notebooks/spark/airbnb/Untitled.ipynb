{
 "cells": [
  {
   "cell_type": "code",
   "execution_count": 1,
   "metadata": {},
   "outputs": [
    {
     "name": "stdout",
     "output_type": "stream",
     "text": [
      "Requirement already satisfied: tensorflow==1.1.0 in /Users/cfregly/miniconda3/lib/python3.5/site-packages\n",
      "Requirement already satisfied: numpy>=1.11.0 in /Users/cfregly/miniconda3/lib/python3.5/site-packages (from tensorflow==1.1.0)\n",
      "Requirement already satisfied: protobuf>=3.2.0 in /Users/cfregly/miniconda3/lib/python3.5/site-packages (from tensorflow==1.1.0)\n",
      "Requirement already satisfied: six>=1.10.0 in /Users/cfregly/miniconda3/lib/python3.5/site-packages (from tensorflow==1.1.0)\n",
      "Requirement already satisfied: wheel>=0.26 in /Users/cfregly/miniconda3/lib/python3.5/site-packages (from tensorflow==1.1.0)\n",
      "Requirement already satisfied: werkzeug>=0.11.10 in /Users/cfregly/miniconda3/lib/python3.5/site-packages (from tensorflow==1.1.0)\n",
      "Requirement already satisfied: setuptools in /Users/cfregly/miniconda3/lib/python3.5/site-packages (from protobuf>=3.2.0->tensorflow==1.1.0)\n",
      "Requirement already satisfied: appdirs>=1.4.0 in /Users/cfregly/miniconda3/lib/python3.5/site-packages (from setuptools->protobuf>=3.2.0->tensorflow==1.1.0)\n",
      "Requirement already satisfied: packaging>=16.8 in /Users/cfregly/miniconda3/lib/python3.5/site-packages (from setuptools->protobuf>=3.2.0->tensorflow==1.1.0)\n",
      "Requirement already satisfied: pyparsing in /Users/cfregly/miniconda3/lib/python3.5/site-packages (from packaging>=16.8->setuptools->protobuf>=3.2.0->tensorflow==1.1.0)\n"
     ]
    }
   ],
   "source": [
    "!pip install tensorflow==1.1.0"
   ]
  },
  {
   "cell_type": "code",
   "execution_count": null,
   "metadata": {
    "collapsed": true
   },
   "outputs": [],
   "source": []
  }
 ],
 "metadata": {
  "anaconda-cloud": {},
  "kernelspec": {
   "display_name": "Python [default]",
   "language": "python",
   "name": "python3"
  },
  "language_info": {
   "codemirror_mode": {
    "name": "ipython",
    "version": 3
   },
   "file_extension": ".py",
   "mimetype": "text/x-python",
   "name": "python",
   "nbconvert_exporter": "python",
   "pygments_lexer": "ipython3",
   "version": "3.5.2"
  }
 },
 "nbformat": 4,
 "nbformat_minor": 2
}
