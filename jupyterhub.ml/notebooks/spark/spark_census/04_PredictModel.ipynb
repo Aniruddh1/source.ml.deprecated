{
 "cells": [
  {
   "cell_type": "markdown",
   "metadata": {},
   "source": [
    "# Predict with Model"
   ]
  },
  {
   "cell_type": "markdown",
   "metadata": {},
   "source": [
    "## View Config"
   ]
  },
  {
   "cell_type": "code",
   "execution_count": 1,
   "metadata": {},
   "outputs": [
    {
     "name": "stdout",
     "output_type": "stream",
     "text": [
      "\n",
      "\n",
      "{'model_input_mime_type': 'application/json',\n",
      " 'model_name': 'spark_census',\n",
      " 'model_namespace': 'default',\n",
      " 'model_output_mime_type': 'application/json',\n",
      " 'model_path': '/root/volumes/source.ml/jupyterhub.ml/notebooks/spark/spark_census',\n",
      " 'model_server_url': 'http://prediction-spark.community.pipeline.io',\n",
      " 'model_test_request_path': None,\n",
      " 'model_type': 'spark',\n",
      " 'model_version': 'v1',\n",
      " 'pio_api_version': 'v1',\n",
      " 'pio_git_home': 'https://github.com/fluxcapacitor/source.ml/',\n",
      " 'pio_git_version': 'master'}\n",
      "\n"
     ]
    }
   ],
   "source": [
    "%%bash \n",
    "\n",
    "pio init-model \\\n",
    "  --model-server-url http://prediction-spark.community.pipeline.io/ \\\n",
    "  --model-type spark \\\n",
    "  --model-namespace default \\\n",
    "  --model-name spark_census \\\n",
    "  --model-version v1 \\\n",
    "  --model-path ."
   ]
  },
  {
   "cell_type": "markdown",
   "metadata": {},
   "source": [
    "## Predict with Model (CLI)"
   ]
  },
  {
   "cell_type": "code",
   "execution_count": 2,
   "metadata": {
    "scrolled": true
   },
   "outputs": [
    {
     "name": "stdout",
     "output_type": "stream",
     "text": [
      "model_server_url: http://prediction-spark.community.pipeline.io\n",
      "model_type: spark\n",
      "model_namespace: default\n",
      "model_name: spark_census\n",
      "model_version: v1\n",
      "model_test_request_path: /root/volumes/source.ml/jupyterhub.ml/notebooks/spark/spark_census/data/test_request.json\n",
      "model_input_mime_type: application/json\n",
      "model_output_mime_type: application/json\n",
      "\n",
      "Predicting with file '/root/volumes/source.ml/jupyterhub.ml/notebooks/spark/spark_census/data/test_request.json' using 'http://prediction-spark.community.pipeline.io/api/v1/model/predict/spark/default/spark_census/v1'\n",
      "\n",
      "('{\"results\":[[{\\'income\\': \\'NodeScoreDistribution{result=<=50K, '\n",
      " 'probability_entries=[<=50K=0.9791280929136509, >50K=0.0208719070863491], '\n",
      " \"entityId=6, confidence_entries=[]}'}]]}\")\n",
      "\n",
      "Total time: 75.699 milliseconds\n",
      "\n"
     ]
    }
   ],
   "source": [
    "%%bash\n",
    "\n",
    "pio predict \\\n",
    "  --model-test-request-path ./data/test_request.json"
   ]
  },
  {
   "cell_type": "markdown",
   "metadata": {},
   "source": [
    "### Predict with Model under Mini-Load (CLI)\n",
    "This is a mini load test to provide instant feedback on relative performance. "
   ]
  },
  {
   "cell_type": "code",
   "execution_count": null,
   "metadata": {
    "collapsed": true
   },
   "outputs": [],
   "source": [
    "%%bash\n",
    "\n",
    "pio predict_many \\\n",
    "  --model-test-request-path ./data/test_request.json \\\n",
    "  --num-iterations 5"
   ]
  },
  {
   "cell_type": "markdown",
   "metadata": {},
   "source": [
    "## Predict with Model (REST)"
   ]
  },
  {
   "cell_type": "code",
   "execution_count": null,
   "metadata": {
    "collapsed": true
   },
   "outputs": [],
   "source": [
    "import requests\n",
    "\n",
    "model_type = 'spark'\n",
    "model_namespace = 'default'\n",
    "model_name = 'spark_census'\n",
    "model_version = 'v1'\n",
    "\n",
    "deploy_url = 'http://prediction-%s.community.pipeline.io/api/v1/model/predict/%s/%s/%s/%s' % (model_type, model_type, model_namespace, model_name, model_version)\n",
    "\n",
    "with open('./data/test_request.json', 'rb') as fh:\n",
    "    model_input_binary = fh.read()\n",
    "\n",
    "response = requests.post(url=deploy_url,\n",
    "                         data=model_input_binary,\n",
    "                         timeout=30)\n",
    "        \n",
    "print(\"Success!\\n\\n%s\" % response.text)"
   ]
  },
  {
   "cell_type": "code",
   "execution_count": null,
   "metadata": {
    "collapsed": true
   },
   "outputs": [],
   "source": []
  }
 ],
 "metadata": {
  "anaconda-cloud": {},
  "kernelspec": {
   "display_name": "Python [default]",
   "language": "python",
   "name": "python3"
  },
  "language_info": {
   "codemirror_mode": {
    "name": "ipython",
    "version": 3
   },
   "file_extension": ".py",
   "mimetype": "text/x-python",
   "name": "python",
   "nbconvert_exporter": "python",
   "pygments_lexer": "ipython3",
   "version": "3.5.3"
  }
 },
 "nbformat": 4,
 "nbformat_minor": 2
}
