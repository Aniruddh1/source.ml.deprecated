{
 "cells": [
  {
   "cell_type": "markdown",
   "metadata": {},
   "source": [
    "# Deploy Model"
   ]
  },
  {
   "cell_type": "markdown",
   "metadata": {},
   "source": [
    "## Initialize CLI "
   ]
  },
  {
   "cell_type": "code",
   "execution_count": 1,
   "metadata": {},
   "outputs": [
    {
     "name": "stdout",
     "output_type": "stream",
     "text": [
      "\n",
      "\n",
      "{'model_input_mime_type': 'application/json',\n",
      " 'model_name': 'spark_census',\n",
      " 'model_namespace': 'default',\n",
      " 'model_output_mime_type': 'application/json',\n",
      " 'model_path': '/root/volumes/source.ml/jupyterhub.ml/notebooks/spark/spark_census',\n",
      " 'model_server_url': 'http://prediction-spark.community.pipeline.io',\n",
      " 'model_test_request_path': None,\n",
      " 'model_type': 'spark',\n",
      " 'model_version': 'v5',\n",
      " 'pio_api_version': 'v1',\n",
      " 'pio_git_home': 'https://github.com/fluxcapacitor/source.ml/',\n",
      " 'pio_git_version': 'master'}\n",
      "\n"
     ]
    }
   ],
   "source": [
    "%%bash \n",
    "\n",
    "\n",
    "pio init-model \\\n",
    "  --model-server-url http://prediction-spark.community.pipeline.io/ \\\n",
    "  --model-type spark \\\n",
    "  --model-namespace default \\\n",
    "  --model-name spark_census \\\n",
    "  --model-version v5 \\\n",
    "  --model-path ."
   ]
  },
  {
   "cell_type": "code",
   "execution_count": 2,
   "metadata": {},
   "outputs": [
    {
     "name": "stdout",
     "output_type": "stream",
     "text": [
      "model_server_url: http://prediction-spark.community.pipeline.io\n",
      "model_type: spark\n",
      "model_namespace: default\n",
      "model_name: spark_census\n",
      "model_version: v5\n",
      "model_path: /root/volumes/source.ml/jupyterhub.ml/notebooks/spark/spark_census\n",
      "\n",
      "Compressing model bundle '/root/volumes/source.ml/jupyterhub.ml/notebooks/spark/spark_census' into 'bundle-spark-default-spark_census-v5.tar.gz'.\n",
      "\n",
      "\n",
      "Deploying model 'bundle-spark-default-spark_census-v5.tar.gz' to 'http://prediction-spark.community.pipeline.io/api/v1/model/deploy/spark/default/spark_census/v5'.\n",
      "\n",
      "\n",
      "Success!\n",
      "\n",
      "Predict with 'pio predict' or POST to 'http://prediction-spark.community.pipeline.io/api/v1/model/predict/spark/default/spark_census/v5'\n",
      "\n",
      "\n",
      "Cleaning up compressed model bundle 'bundle-spark-default-spark_census-v5.tar.gz'...\n",
      "\n"
     ]
    }
   ],
   "source": [
    "%%bash\n",
    "\n",
    "pio deploy"
   ]
  },
  {
   "cell_type": "markdown",
   "metadata": {},
   "source": [
    "## TODO:  Deploy Model (REST)"
   ]
  },
  {
   "cell_type": "code",
   "execution_count": null,
   "metadata": {
    "collapsed": true
   },
   "outputs": [],
   "source": []
  }
 ],
 "metadata": {
  "anaconda-cloud": {},
  "kernelspec": {
   "display_name": "Python [conda root]",
   "language": "python",
   "name": "conda-root-py"
  },
  "language_info": {
   "codemirror_mode": {
    "name": "ipython",
    "version": 3
   },
   "file_extension": ".py",
   "mimetype": "text/x-python",
   "name": "python",
   "nbconvert_exporter": "python",
   "pygments_lexer": "ipython3",
   "version": "3.5.3"
  }
 },
 "nbformat": 4,
 "nbformat_minor": 2
}
